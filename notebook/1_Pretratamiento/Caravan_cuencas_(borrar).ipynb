{
 "cells": [
  {
   "cell_type": "markdown",
   "id": "95a92414-beff-4d78-bd64-db7d4fa5af48",
   "metadata": {},
   "source": [
    "# Caravan-ESP: preprocesar caudal\n",
    "***\n",
    "\n",
    "***Autor:** Jesús Casado Rodríguez*<br>\n",
    "***Fecha:** 05-08-2023*<br>\n",
    "\n",
    "**Introducción:**<br>"
   ]
  },
  {
   "cell_type": "code",
   "execution_count": 2,
   "id": "5e976f21-9ce3-4bb9-9ed5-82a42faefdf5",
   "metadata": {},
   "outputs": [],
   "source": [
    "import os\n",
    "os.environ['USE_PYGEOS'] = '0'\n",
    "import numpy as np\n",
    "import pandas as pd\n",
    "import geopandas as gpd\n",
    "import matplotlib.pyplot as plt\n",
    "import seaborn as sns\n",
    "from datetime import datetime, timedelta\n",
    "import xarray as xr\n",
    "import geopandas as gpd\n",
    "from tqdm.notebook import tqdm"
   ]
  },
  {
   "cell_type": "code",
   "execution_count": 78,
   "id": "f11bd38b-a5b6-410e-a776-825a4373ea7e",
   "metadata": {},
   "outputs": [],
   "source": [
    "path_caravan = 'C:/Users/jcr693/Documents/Caravan-ESP/ESP/'"
   ]
  },
  {
   "cell_type": "code",
   "execution_count": 79,
   "id": "0532ec5e-7773-4db1-ba93-087bc2b5ecd5",
   "metadata": {},
   "outputs": [],
   "source": [
    "# cargar tabla de atributos de Caravan\n",
    "attributes = pd.read_csv(f'{path_caravan}output/attributes/esp/attributes_caravan_esp.csv', index_col=0)\n",
    "attributes.index = attributes.index.astype(str)"
   ]
  },
  {
   "cell_type": "code",
   "execution_count": 80,
   "id": "09c639ae-d043-4d46-90f3-611a278b1f9e",
   "metadata": {},
   "outputs": [],
   "source": [
    "# cargar tabla de las estaciones seleccionadas para Caravan\n",
    "stations = pd.read_csv(f'{path_caravan}caravan_estaciones.csv', index_col='indroea')\n",
    "stations.index = stations.index.astype(str)\n",
    "# recortar estaciones a la tabla de atributos\n",
    "stations = stations.loc[attributes.index, :]"
   ]
  },
  {
   "cell_type": "code",
   "execution_count": 81,
   "id": "c602d36b-62c4-4c7f-be76-56acd2e98f54",
   "metadata": {},
   "outputs": [
    {
     "data": {
      "text/html": [
       "<div>\n",
       "<style scoped>\n",
       "    .dataframe tbody tr th:only-of-type {\n",
       "        vertical-align: middle;\n",
       "    }\n",
       "\n",
       "    .dataframe tbody tr th {\n",
       "        vertical-align: top;\n",
       "    }\n",
       "\n",
       "    .dataframe thead th {\n",
       "        text-align: right;\n",
       "    }\n",
       "</style>\n",
       "<table border=\"1\" class=\"dataframe\">\n",
       "  <thead>\n",
       "    <tr style=\"text-align: right;\">\n",
       "      <th></th>\n",
       "      <th>gauge_name</th>\n",
       "      <th>gauge_lat</th>\n",
       "      <th>gauge_lon</th>\n",
       "      <th>country</th>\n",
       "      <th>area_skm</th>\n",
       "      <th>geometry</th>\n",
       "    </tr>\n",
       "    <tr>\n",
       "      <th>gauge_id</th>\n",
       "      <th></th>\n",
       "      <th></th>\n",
       "      <th></th>\n",
       "      <th></th>\n",
       "      <th></th>\n",
       "      <th></th>\n",
       "    </tr>\n",
       "  </thead>\n",
       "  <tbody>\n",
       "    <tr>\n",
       "      <th>1105</th>\n",
       "      <td>EREÑOZU</td>\n",
       "      <td>43.1437</td>\n",
       "      <td>-1.5630</td>\n",
       "      <td>Spain</td>\n",
       "      <td>215</td>\n",
       "      <td>POLYGON ((-1.90497 43.25597, -1.90499 43.25527...</td>\n",
       "    </tr>\n",
       "    <tr>\n",
       "      <th>1163</th>\n",
       "      <td>LEMONA (IBAIZABAL)</td>\n",
       "      <td>43.1242</td>\n",
       "      <td>-2.4518</td>\n",
       "      <td>Spain</td>\n",
       "      <td>252</td>\n",
       "      <td>POLYGON ((-2.55984 43.06733, -2.56176 43.06734...</td>\n",
       "    </tr>\n",
       "    <tr>\n",
       "      <th>1186</th>\n",
       "      <td>GURIEZO</td>\n",
       "      <td>43.2116</td>\n",
       "      <td>-3.1947</td>\n",
       "      <td>Spain</td>\n",
       "      <td>117</td>\n",
       "      <td>POLYGON ((-3.27725 43.19324, -3.27821 43.19324...</td>\n",
       "    </tr>\n",
       "    <tr>\n",
       "      <th>1196</th>\n",
       "      <td>COTERILLO</td>\n",
       "      <td>43.1948</td>\n",
       "      <td>-3.2610</td>\n",
       "      <td>Spain</td>\n",
       "      <td>493</td>\n",
       "      <td>POLYGON ((-3.57330 43.34361, -3.57329 43.34291...</td>\n",
       "    </tr>\n",
       "    <tr>\n",
       "      <th>1268</th>\n",
       "      <td>PUENTELLES</td>\n",
       "      <td>43.1902</td>\n",
       "      <td>-4.3626</td>\n",
       "      <td>Spain</td>\n",
       "      <td>650</td>\n",
       "      <td>POLYGON ((-4.60254 43.31762, -4.60252 43.31691...</td>\n",
       "    </tr>\n",
       "  </tbody>\n",
       "</table>\n",
       "</div>"
      ],
      "text/plain": [
       "                  gauge_name  gauge_lat  gauge_lon country  area_skm  \\\n",
       "gauge_id                                                               \n",
       "1105                 EREÑOZU    43.1437    -1.5630   Spain       215   \n",
       "1163      LEMONA (IBAIZABAL)    43.1242    -2.4518   Spain       252   \n",
       "1186                 GURIEZO    43.2116    -3.1947   Spain       117   \n",
       "1196               COTERILLO    43.1948    -3.2610   Spain       493   \n",
       "1268              PUENTELLES    43.1902    -4.3626   Spain       650   \n",
       "\n",
       "                                                   geometry  \n",
       "gauge_id                                                     \n",
       "1105      POLYGON ((-1.90497 43.25597, -1.90499 43.25527...  \n",
       "1163      POLYGON ((-2.55984 43.06733, -2.56176 43.06734...  \n",
       "1186      POLYGON ((-3.27725 43.19324, -3.27821 43.19324...  \n",
       "1196      POLYGON ((-3.57330 43.34361, -3.57329 43.34291...  \n",
       "1268      POLYGON ((-4.60254 43.31762, -4.60252 43.31691...  "
      ]
     },
     "execution_count": 81,
     "metadata": {},
     "output_type": "execute_result"
    }
   ],
   "source": [
    "# cargar polígonos de las cuencas de Caravan\n",
    "catchments = gpd.read_file('C:/Users/jcr693/Documents/GitHub/TFM/data/GIS/subcuencas_epsg4326.shp')\n",
    "catchments.set_index('gauge_id', drop=False, inplace=True)\n",
    "catchments.index = catchments.index.astype(str)\n",
    "# recortar cuencas según la tabla de atributos\n",
    "catchments = catchments.loc[attributes.index, :]\n",
    "\n",
    "# generar nuevos campos\n",
    "catchments['gauge_name'] = stations.lugar\n",
    "catchments['gauge_lat'] = stations.latwgs84 / 1e4\n",
    "catchments['gauge_lon'] = stations.longwgs84 / 1e4\n",
    "catchments['country'] = 'Spain'\n",
    "catchments['area_skm'] = catchments.Shape_Area * 1e-6\n",
    "catchments.area_skm = catchments.area_skm.astype(int)\n",
    "\n",
    "# eliminar campos\n",
    "catchments.drop(['gauge_id', 'OID_', 'Name', 'Shape_Leng', 'Shape_Area'], axis=1, inplace=True)\n",
    "\n",
    "# reordenar\n",
    "catchments = catchments[['gauge_name', 'gauge_lat', 'gauge_lon', 'country', 'area_skm', 'geometry']]\n",
    "catchments.head()"
   ]
  },
  {
   "cell_type": "code",
   "execution_count": 82,
   "id": "9bf95608-d57a-4b47-b5b5-a3d04b1ec25c",
   "metadata": {},
   "outputs": [],
   "source": [
    "# exportar\n",
    "catchments.to_file(f'{path_caravan}output/shapefiles/esp/catchments_caravan_esp.shp', driver='ESRI Shapefile')"
   ]
  }
 ],
 "metadata": {
  "kernelspec": {
   "display_name": "Python 3 (ipykernel)",
   "language": "python",
   "name": "python3"
  },
  "language_info": {
   "codemirror_mode": {
    "name": "ipython",
    "version": 3
   },
   "file_extension": ".py",
   "mimetype": "text/x-python",
   "name": "python",
   "nbconvert_exporter": "python",
   "pygments_lexer": "ipython3",
   "version": "3.11.4"
  }
 },
 "nbformat": 4,
 "nbformat_minor": 5
}
