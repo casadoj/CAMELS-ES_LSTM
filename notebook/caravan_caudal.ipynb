{
 "cells": [
  {
   "cell_type": "code",
   "execution_count": 1,
   "id": "14788961-546a-4c63-9339-6af07d280ada",
   "metadata": {},
   "outputs": [],
   "source": [
    "import os\n",
    "os.environ['USE_PYGEOS'] = '0'\n",
    "import numpy as np\n",
    "import pandas as pd\n",
    "import matplotlib.pyplot as plt\n",
    "import seaborn as sns\n",
    "from datetime import datetime, timedelta\n",
    "import xarray as xr\n",
    "import geopandas as gpd"
   ]
  },
  {
   "cell_type": "code",
   "execution_count": 2,
   "id": "c8bbe6e6-54d6-4f8f-b01c-cbcee4871aa6",
   "metadata": {},
   "outputs": [],
   "source": [
    "#os.chdir('../data/anuario_aforos')"
   ]
  },
  {
   "cell_type": "code",
   "execution_count": 5,
   "id": "a9c6771d-b905-4c9d-8962-52c6a5d306ac",
   "metadata": {},
   "outputs": [],
   "source": [
    "cuenca = 'ebro'"
   ]
  },
  {
   "cell_type": "code",
   "execution_count": 14,
   "id": "cfa8e067-4fc5-42ff-92a8-e7fca62843cf",
   "metadata": {},
   "outputs": [],
   "source": [
    "start = '1980-10-01'\n",
    "end = '2020-09-30'"
   ]
  },
  {
   "cell_type": "code",
   "execution_count": 15,
   "id": "99db6a4c-1246-4642-b322-4b21b15eeec1",
   "metadata": {},
   "outputs": [],
   "source": [
    "area_min = 100\n",
    "area_max = None"
   ]
  },
  {
   "cell_type": "code",
   "execution_count": 16,
   "id": "c454256d-b998-4170-a964-1fc682e7653d",
   "metadata": {},
   "outputs": [],
   "source": [
    "disponibilidad = .9 # % del periodo de estudio"
   ]
  },
  {
   "cell_type": "markdown",
   "id": "8a958e5a-164b-43da-9daa-b3b2460f27ee",
   "metadata": {},
   "source": [
    "### Estaciones"
   ]
  },
  {
   "cell_type": "code",
   "execution_count": 38,
   "id": "fba74b97-2641-465a-8342-62ebeffd365f",
   "metadata": {},
   "outputs": [
    {
     "data": {
      "text/plain": [
       "(61, 27)"
      ]
     },
     "execution_count": 38,
     "metadata": {},
     "output_type": "execute_result"
    }
   ],
   "source": [
    "estaciones = gpd.read_file('../data/GIS/estaciones_seleccion_EFAS.shp')\n",
    "estaciones.indroea = estaciones.indroea.astype(int)\n",
    "estaciones.suprest = estaciones.suprest.astype(int)\n",
    "estaciones.set_index('indroea', drop=True, inplace=True)\n",
    "estaciones = estaciones.loc[estaciones.cuenca == cuenca]\n",
    "\n",
    "estaciones.shape"
   ]
  },
  {
   "cell_type": "markdown",
   "id": "f92599d8-cad6-4a1c-ba47-7415591cb192",
   "metadata": {},
   "source": [
    "### Caudal"
   ]
  },
  {
   "cell_type": "code",
   "execution_count": 29,
   "id": "ef08091e-f480-4034-aa17-db2692117b0f",
   "metadata": {},
   "outputs": [
    {
     "name": "stdout",
     "output_type": "stream",
     "text": [
      "262 estaciones con series de caudal en el Ebro\n"
     ]
    }
   ],
   "source": [
    "# cargar series temporales\n",
    "data = pd.read_csv(f'../data/anuario_aforos/{cuenca}/afliq.csv', sep=';', index_col='indroea')\n",
    "data.fecha = pd.to_datetime(data.fecha, dayfirst=True)\n",
    "\n",
    "# recortar a la fecha de estudio\n",
    "data = data.loc[(data.fecha >= start) & (data.fecha <= end),:]\n",
    "\n",
    "# reformatear series de caudal y nivel\n",
    "Q = pd.DataFrame(index=pd.date_range(data.fecha.min(), data.fecha.max(), freq='1d'), columns=data.index.unique(), dtype=float) \n",
    "for stn in Q.columns:\n",
    "    data_stn = data.loc[stn].set_index('fecha', drop=True)\n",
    "    Q[stn] = data_stn.caudal\n",
    "\n",
    "# convertir nombre de las columnas en texto\n",
    "Q.columns = [str(col) for col in Q.columns]\n",
    "\n",
    "# eliminar estaciones sin ningún dato\n",
    "Q.dropna(axis=1, how='all', inplace=True)\n",
    "\n",
    "print('{0} estaciones con series de caudal en el {1}'.format(Q.shape[1], cuenca.capitalize()))\n",
    "\n",
    "# convertir los nombres de las columnas en enteros\n",
    "Q.columns = [int(stn) for stn in Q.columns]"
   ]
  },
  {
   "cell_type": "code",
   "execution_count": 31,
   "id": "3609fcda-e1e7-40ed-ab85-21217da5b091",
   "metadata": {},
   "outputs": [],
   "source": [
    "Q = Q[estaciones.index]"
   ]
  },
  {
   "cell_type": "code",
   "execution_count": null,
   "id": "619dfb9e-5722-4b86-88b3-e5e582e94176",
   "metadata": {},
   "outputs": [],
   "source": []
  },
  {
   "cell_type": "code",
   "execution_count": 32,
   "id": "dcc868d3-9efc-4220-821d-5dda7ce2a843",
   "metadata": {},
   "outputs": [
    {
     "data": {
      "text/plain": [
       "indroea\n",
       "9002    25194\n",
       "9003     1445\n",
       "9004     2759\n",
       "9005     5469\n",
       "9011    40434\n",
       "        ...  \n",
       "9189      217\n",
       "9190      160\n",
       "9191      534\n",
       "9197      283\n",
       "9221       22\n",
       "Name: suprest, Length: 61, dtype: object"
      ]
     },
     "execution_count": 32,
     "metadata": {},
     "output_type": "execute_result"
    }
   ],
   "source": [
    "estaciones.suprest"
   ]
  },
  {
   "cell_type": "code",
   "execution_count": 41,
   "id": "a65d0d19-cb07-4deb-b8b3-addc24643077",
   "metadata": {},
   "outputs": [
    {
     "data": {
      "text/plain": [
       "86400"
      ]
     },
     "execution_count": 41,
     "metadata": {},
     "output_type": "execute_result"
    }
   ],
   "source": [
    "3600 * 24"
   ]
  },
  {
   "cell_type": "code",
   "execution_count": 46,
   "id": "aed4283c-0c6e-416e-afd3-29356ffd13c0",
   "metadata": {},
   "outputs": [],
   "source": [
    "Qespecifico = Q / estaciones.suprest * 3600 * 24 * 10e-3 # mm/d\n",
    "Qespecifico.index.name = 'date'"
   ]
  },
  {
   "cell_type": "code",
   "execution_count": 47,
   "id": "c0707e83-fdac-4f35-8c2c-ceaf2251933a",
   "metadata": {},
   "outputs": [],
   "source": [
    "Qespecifico.to_csv(f'../data/anuario_aforos/{cuenca}/caudal_especifico.csv', float_format='%.3f')"
   ]
  },
  {
   "cell_type": "code",
   "execution_count": null,
   "id": "275fc43a-0bf7-4fb9-b144-c6eeb244b6f6",
   "metadata": {},
   "outputs": [],
   "source": []
  }
 ],
 "metadata": {
  "kernelspec": {
   "display_name": "Python 3 (ipykernel)",
   "language": "python",
   "name": "python3"
  },
  "language_info": {
   "codemirror_mode": {
    "name": "ipython",
    "version": 3
   },
   "file_extension": ".py",
   "mimetype": "text/x-python",
   "name": "python",
   "nbconvert_exporter": "python",
   "pygments_lexer": "ipython3",
   "version": "3.11.4"
  }
 },
 "nbformat": 4,
 "nbformat_minor": 5
}
