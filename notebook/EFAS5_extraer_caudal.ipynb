{
 "cells": [
  {
   "cell_type": "markdown",
   "id": "6014e653-0ca6-4b3c-b0e6-c5855297c6a5",
   "metadata": {},
   "source": [
    "# EFASv5: extraer caudal\n",
    "***\n",
    "\n",
    "***Autor:** Jesús Casado Rodríguez*<br>\n",
    "***Fecha:** 21-08-2023*<br>\n",
    "\n",
    "**Introducción:**\n",
    "\n",
    "**Por hacer**:\n",
    "* [x] Aplicar el filtro por área de cuenca."
   ]
  },
  {
   "cell_type": "code",
   "execution_count": 7,
   "id": "5f1dae3f-9458-4eca-86f8-730e928d3f73",
   "metadata": {},
   "outputs": [],
   "source": [
    "import os\n",
    "import glob\n",
    "import numpy as np\n",
    "import pandas as pd\n",
    "import xarray as xr\n",
    "import matplotlib.pyplot as plt\n",
    "import seaborn as sns\n",
    "from datetime import datetime, timedelta\n",
    "os.environ['USE_PYGEOS'] = '0'\n",
    "import geopandas as gpd\n",
    "import yaml\n",
    "from pathlib import Path"
   ]
  },
  {
   "cell_type": "markdown",
   "id": "6d501668-332b-4b20-9a72-c508be66eca0",
   "metadata": {},
   "source": [
    "## Configuración "
   ]
  },
  {
   "cell_type": "code",
   "execution_count": 21,
   "id": "3f8e08b5-00e3-49e7-a1cc-ae2b250f5afe",
   "metadata": {},
   "outputs": [],
   "source": [
    "puntos = 'estaciones' # reporting_points"
   ]
  },
  {
   "cell_type": "code",
   "execution_count": 22,
   "id": "2b87a968-bf3e-4065-9dbd-5b4c7717cb71",
   "metadata": {},
   "outputs": [],
   "source": [
    "with open(\"../conf/config.yml\", \"r\", encoding='utf8') as ymlfile:\n",
    "    cfg = yaml.load(ymlfile, Loader=yaml.FullLoader)\n",
    "path_in = Path(cfg['rutas']['EFAS'])"
   ]
  },
  {
   "cell_type": "code",
   "execution_count": 23,
   "id": "2dfd0662-229f-4123-ad0e-79af3a6a0a27",
   "metadata": {},
   "outputs": [],
   "source": [
    "path_out = f'../data/EFASv5/caudal/{puntos}/'\n",
    "if os.path.exists(path_out) is False:\n",
    "    os.makedirs(path_out)"
   ]
  },
  {
   "cell_type": "markdown",
   "id": "fbf729fd-b337-44f7-9c5b-79c664555cf4",
   "metadata": {},
   "source": [
    "## Puntos\n",
    "### Estaciones ROEA"
   ]
  },
  {
   "cell_type": "code",
   "execution_count": 24,
   "id": "a9857faa-fd43-4a56-a7a3-6169ff5542f8",
   "metadata": {},
   "outputs": [],
   "source": [
    "if puntos == 'estaciones':\n",
    "    estaciones = gpd.read_file('../data/anuario_aforos/GIS/estaciones_seleccion_EFASv5.shp')\n",
    "    estaciones.set_index('indroea', drop=True, inplace=True)\n",
    "\n",
    "    # xarrys with station coordinates that will be used to extract data\n",
    "    x = xr.DataArray(estaciones.geometry.x, dims='id')\n",
    "    y = xr.DataArray(estaciones.geometry.y, dims='id')"
   ]
  },
  {
   "cell_type": "markdown",
   "id": "d833cfd2-8532-4101-89f5-886fb0bb056e",
   "metadata": {},
   "source": [
    "**Comprobar área de cuenca**"
   ]
  },
  {
   "cell_type": "code",
   "execution_count": 31,
   "id": "c85ce098-0798-4c82-b561-eb34b8883b4f",
   "metadata": {},
   "outputs": [
    {
     "name": "stdout",
     "output_type": "stream",
     "text": [
      "id\n",
      "3049    77.521382\n",
      "9322    32.668354\n",
      "2150    19.155348\n",
      "4207    17.684399\n",
      "3251    17.339349\n",
      "3246    17.229219\n",
      "2104    15.944291\n",
      "5136    15.683429\n",
      "1443    14.871448\n",
      "8126    14.372974\n",
      "dtype: float64\n"
     ]
    }
   ],
   "source": [
    "if puntos == 'estaciones':\n",
    "    \n",
    "    # cargar mapa de área de cuenca\n",
    "    area = xr.open_mfdataset(f'{path_in}/maps/upArea*.nc', chunks='auto')['Band1']\n",
    "\n",
    "    # extraer el área de cuenca de las estaciones\n",
    "    area = area.sel(lon=x, lat=y, method='nearest').compute()\n",
    "    area = area.drop(['lon', 'lat'])\n",
    "    area = area.to_pandas()\n",
    "    area /= 1e6 # m2\n",
    "\n",
    "    dif_area = ((area - estaciones.suprest) / estaciones.suprest * 100).sort_values(ascending=False)\n",
    "\n",
    "    print(dif_area.head(10))"
   ]
  },
  {
   "cell_type": "markdown",
   "id": "6c69fda9-287f-4687-9700-c15362431efe",
   "metadata": {},
   "source": [
    "### Puntos de EFAS"
   ]
  },
  {
   "cell_type": "code",
   "execution_count": null,
   "id": "a991683c-01c3-4648-826e-432114a49000",
   "metadata": {},
   "outputs": [],
   "source": [
    "if puntos == 'reporting_points':\n",
    "    puntos_EFAS = pd.read_csv('E:/casadje/GitHub/EFAS_skill/data/reporting_points/Station-2022-10-27v12_KGE.csv', index_col='station_id')\n",
    "    puntos_EFAS['Country code'] = puntos_EFAS['Country code'].str.upper()"
   ]
  },
  {
   "cell_type": "code",
   "execution_count": null,
   "id": "128f26c5-7e4a-475d-8ecd-13afbc6fa372",
   "metadata": {},
   "outputs": [],
   "source": [
    "    # filtrar por país\n",
    "    puntos_EFAS = puntos_EFAS.loc[puntos_EFAS['Country code'] == 'ES']"
   ]
  },
  {
   "cell_type": "code",
   "execution_count": null,
   "id": "15081c78-1cd4-43a3-b859-0a242a4eeba2",
   "metadata": {},
   "outputs": [],
   "source": [
    "    puntos_EFAS.to_csv('../EFAS/points/points.csv')"
   ]
  },
  {
   "cell_type": "code",
   "execution_count": null,
   "id": "f73bf081-8f1e-402b-a74f-2464665bafbc",
   "metadata": {},
   "outputs": [],
   "source": [
    "    puntos_EFAS.shape"
   ]
  },
  {
   "cell_type": "code",
   "execution_count": null,
   "id": "a9d43cda-c032-4232-840a-a05eab46f65d",
   "metadata": {},
   "outputs": [],
   "source": [
    "    puntos_EFAS.FixedRepPoint.value_counts()"
   ]
  },
  {
   "cell_type": "code",
   "execution_count": null,
   "id": "8b2276d9-96ab-4c36-964a-55fb439f649a",
   "metadata": {},
   "outputs": [],
   "source": [
    "    sns.displot(puntos_EFAS['DrainingArea.km2.LDD'])"
   ]
  },
  {
   "cell_type": "code",
   "execution_count": null,
   "id": "83ffb185-0e11-4b21-8699-528bc1e634bd",
   "metadata": {},
   "outputs": [],
   "source": [
    "    puntos_EFAS.columns"
   ]
  },
  {
   "cell_type": "code",
   "execution_count": null,
   "id": "5834b725-acaf-4f7a-aa70-c477b2bafea5",
   "metadata": {
    "tags": []
   },
   "outputs": [],
   "source": [
    "    puntos_EFAS.ObsID.unique()"
   ]
  },
  {
   "cell_type": "markdown",
   "id": "b82e883c-52a1-45c6-9b07-73dc885169df",
   "metadata": {},
   "source": [
    "### Reanálisis de caudal EFAS"
   ]
  },
  {
   "cell_type": "code",
   "execution_count": 33,
   "id": "dbe061b9-25e8-466a-a6e8-7970f4f07030",
   "metadata": {
    "tags": []
   },
   "outputs": [
    {
     "ename": "OSError",
     "evalue": "no files to open",
     "output_type": "error",
     "traceback": [
      "\u001b[1;31m---------------------------------------------------------------------------\u001b[0m",
      "\u001b[1;31mOSError\u001b[0m                                   Traceback (most recent call last)",
      "Cell \u001b[1;32mIn[33], line 2\u001b[0m\n\u001b[0;32m      1\u001b[0m \u001b[38;5;66;03m# load dataset and extract variable discharge\u001b[39;00m\n\u001b[1;32m----> 2\u001b[0m dis \u001b[38;5;241m=\u001b[39m \u001b[43mxr\u001b[49m\u001b[38;5;241;43m.\u001b[39;49m\u001b[43mopen_mfdataset\u001b[49m\u001b[43m(\u001b[49m\u001b[38;5;124;43mf\u001b[39;49m\u001b[38;5;124;43m'\u001b[39;49m\u001b[38;5;132;43;01m{\u001b[39;49;00m\u001b[43mpath_in\u001b[49m\u001b[38;5;132;43;01m}\u001b[39;49;00m\u001b[38;5;124;43m/reanalysis/dis_*.nc\u001b[39;49m\u001b[38;5;124;43m'\u001b[39;49m\u001b[43m,\u001b[49m\u001b[43m \u001b[49m\u001b[43mchunks\u001b[49m\u001b[38;5;241;43m=\u001b[39;49m\u001b[38;5;124;43m'\u001b[39;49m\u001b[38;5;124;43mauto\u001b[39;49m\u001b[38;5;124;43m'\u001b[39;49m\u001b[43m)\u001b[49m[\u001b[38;5;124m'\u001b[39m\u001b[38;5;124mdis\u001b[39m\u001b[38;5;124m'\u001b[39m]\n\u001b[0;32m      3\u001b[0m dis\u001b[38;5;241m.\u001b[39mclose()\n\u001b[0;32m      5\u001b[0m \u001b[38;5;66;03m# extract discharge for the selected stations\u001b[39;00m\n",
      "File \u001b[1;32mC:\\ProgramFiles\\Anaconda3\\envs\\tfm\\Lib\\site-packages\\xarray\\backends\\api.py:977\u001b[0m, in \u001b[0;36mopen_mfdataset\u001b[1;34m(paths, chunks, concat_dim, compat, preprocess, engine, data_vars, coords, combine, parallel, join, attrs_file, combine_attrs, **kwargs)\u001b[0m\n\u001b[0;32m    974\u001b[0m paths \u001b[38;5;241m=\u001b[39m _find_absolute_paths(paths, engine\u001b[38;5;241m=\u001b[39mengine, \u001b[38;5;241m*\u001b[39m\u001b[38;5;241m*\u001b[39mkwargs)\n\u001b[0;32m    976\u001b[0m \u001b[38;5;28;01mif\u001b[39;00m \u001b[38;5;129;01mnot\u001b[39;00m paths:\n\u001b[1;32m--> 977\u001b[0m     \u001b[38;5;28;01mraise\u001b[39;00m \u001b[38;5;167;01mOSError\u001b[39;00m(\u001b[38;5;124m\"\u001b[39m\u001b[38;5;124mno files to open\u001b[39m\u001b[38;5;124m\"\u001b[39m)\n\u001b[0;32m    979\u001b[0m \u001b[38;5;28;01mif\u001b[39;00m combine \u001b[38;5;241m==\u001b[39m \u001b[38;5;124m\"\u001b[39m\u001b[38;5;124mnested\u001b[39m\u001b[38;5;124m\"\u001b[39m:\n\u001b[0;32m    980\u001b[0m     \u001b[38;5;28;01mif\u001b[39;00m \u001b[38;5;28misinstance\u001b[39m(concat_dim, (\u001b[38;5;28mstr\u001b[39m, DataArray)) \u001b[38;5;129;01mor\u001b[39;00m concat_dim \u001b[38;5;129;01mis\u001b[39;00m \u001b[38;5;28;01mNone\u001b[39;00m:\n",
      "\u001b[1;31mOSError\u001b[0m: no files to open"
     ]
    }
   ],
   "source": [
    "# load dataset and extract variable discharge\n",
    "dis = xr.open_mfdataset(f'{path_in}/reanalysis/dis_*.nc', chunks='auto')['dis']\n",
    "dis.close()\n",
    "\n",
    "# extract discharge for the selected stations\n",
    "dis = dis.sel(lon=x, lat=y, method='nearest')\n",
    "dis = dis.drop(['lon', 'lat'])\n",
    "\n",
    "# resample to daily timesteps. WARNING! The data is shifted 6 h!!!\n",
    "#dis['time'] = dis.time + np.timedelta64(6, 'h')\n",
    "dis = dis.resample(time='1D').mean()\n",
    "\n",
    "# compute the lazy DataArray\n",
    "dis = dis.compute()\n",
    "dis.name = 'discharge'"
   ]
  },
  {
   "cell_type": "code",
   "execution_count": 20,
   "id": "74d43e4b-8788-4f6a-a025-4e2c7792d030",
   "metadata": {},
   "outputs": [],
   "source": [
    "# exportar las series\n",
    "dis.to_netcdf(f'{path_out}dis_{dis.time.min().dt.year.data}_{dis.time.max().dt.year.data}.nc')"
   ]
  },
  {
   "cell_type": "code",
   "execution_count": 6,
   "id": "16a048b9-6f93-4946-bc56-fd3ec96febae",
   "metadata": {},
   "outputs": [
    {
     "data": {
      "image/png": "[encoded data removed]",
      "text/plain": [
       "<Figure size 640x480 with 1 Axes>"
      ]
     },
     "metadata": {},
     "output_type": "display_data"
    }
   ],
   "source": [
    "dis.sel(id='9023').plot(lw=1);"
   ]
  },
  {
   "cell_type": "code",
   "execution_count": null,
   "id": "3ec61d21-4c5e-4277-8103-3f02a4b24dff",
   "metadata": {},
   "outputs": [],
   "source": []
  }
 ],
 "metadata": {
  "kernelspec": {
   "display_name": "Python 3 (ipykernel)",
   "language": "python",
   "name": "python3"
  },
  "language_info": {
   "codemirror_mode": {
    "name": "ipython",
    "version": 3
   },
   "file_extension": ".py",
   "mimetype": "text/x-python",
   "name": "python",
   "nbconvert_exporter": "python",
   "pygments_lexer": "ipython3",
   "version": "3.11.4"
  }
 },
 "nbformat": 4,
 "nbformat_minor": 5
}
