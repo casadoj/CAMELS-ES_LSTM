{
 "cells": [
  {
   "cell_type": "markdown",
   "id": "6014e653-0ca6-4b3c-b0e6-c5855297c6a5",
   "metadata": {},
   "source": [
    "# Anuario de Aforos: seleccionar estaciones\n",
    "***\n",
    "\n",
    "***Autor:** Jesús Casado Rodríguez*<br>\n",
    "***Fecha:** 05-08-2023*<br>\n",
    "\n",
    "**Introducción:**<br>\n",
    "\n",
    "**Por hacer**:\n",
    "* [ ] Aplicar el filtro por área de cuenca."
   ]
  },
  {
   "cell_type": "code",
   "execution_count": null,
   "id": "0bec89e1-9be8-47b5-b6bf-49812f77b3a4",
   "metadata": {},
   "outputs": [],
   "source": [
    "import os\n",
    "import numpy as np\n",
    "import pandas as pd\n",
    "import matplotlib.pyplot as plt\n",
    "import seaborn as sns\n",
    "from datetime import datetime, timedelta\n",
    "import xarray as xr\n",
    "from datetime import datetime"
   ]
  },
  {
   "cell_type": "markdown",
   "id": "214e185a-48b5-4cc0-bbf1-a2d2e7b252d9",
   "metadata": {},
   "source": [
    "## Configuración"
   ]
  },
  {
   "cell_type": "code",
   "execution_count": null,
   "id": "22e57dbe-310e-463e-be85-8bdc19390498",
   "metadata": {},
   "outputs": [],
   "source": [
    "# ruta donde se ubican los datos del Anurio de Aforos\n",
    "path_in = 'C:/Users/jcr693/Documents/anuario_aforos/'"
   ]
  },
  {
   "cell_type": "code",
   "execution_count": null,
   "id": "a9c6771d-b905-4c9d-8962-52c6a5d306ac",
   "metadata": {},
   "outputs": [],
   "source": [
    "# cuencas\n",
    "catchment = 'segura'"
   ]
  },
  {
   "cell_type": "code",
   "execution_count": null,
   "id": "cfa8e067-4fc5-42ff-92a8-e7fca62843cf",
   "metadata": {},
   "outputs": [],
   "source": [
    "# inicio y fin del periodo de estudio\n",
    "start = '1980-10-01'\n",
    "end = '2020-09-30'"
   ]
  },
  {
   "cell_type": "code",
   "execution_count": null,
   "id": "99db6a4c-1246-4642-b322-4b21b15eeec1",
   "metadata": {},
   "outputs": [],
   "source": [
    "# tamaño mínimo y máximo de la cuenca\n",
    "area_min = 100 # km²\n",
    "area_max = None # km²"
   ]
  },
  {
   "cell_type": "code",
   "execution_count": null,
   "id": "212f56ef-e6a9-48e1-b6bf-6cd038e441bf",
   "metadata": {},
   "outputs": [],
   "source": [
    "# disponibilidad mínima de datos durante el periodo de estudio (tanto por uno)\n",
    "disponibilidad = .9 "
   ]
  },
  {
   "cell_type": "code",
   "execution_count": null,
   "id": "23cef3b8-9e7d-463a-a921-76de1de92b98",
   "metadata": {},
   "outputs": [],
   "source": [
    "# os.chdir('../data/')"
   ]
  },
  {
   "cell_type": "code",
   "execution_count": null,
   "id": "6f58ead8-5deb-4970-a7a4-d9d501926312",
   "metadata": {},
   "outputs": [],
   "source": [
    "path_out = f'../data/anuario_aforos/{catchment}/'\n",
    "path_plots = f'{path_out}plots/'\n",
    "for path in [path_out, path_plots]:\n",
    "    if os.path.exists(path) is False:\n",
    "        os.makedirs(path)"
   ]
  },
  {
   "cell_type": "markdown",
   "id": "27417393-9545-4ee4-812d-3c98a96b93d2",
   "metadata": {},
   "source": [
    "### Estaciones"
   ]
  },
  {
   "cell_type": "code",
   "execution_count": null,
   "id": "272084db-bc42-42d4-b180-ae902738e374",
   "metadata": {},
   "outputs": [],
   "source": [
    "estaciones = pd.read_csv(f'{path_in}{catchment}/estaf.csv', sep=';', index_col='indroea', encoding='latin1')\n",
    "estaciones.lugar = estaciones.lugar.str.strip()\n",
    "estaciones.index.name = 'indroea'\n",
    "\n",
    "# eliminar columnas vacías\n",
    "estaciones.dropna(axis=1, how='all', inplace=True)\n",
    "    \n",
    "print('nº total de estaciones:\\t\\t{0}'.format(estaciones.shape[0]))\n",
    "print('nº de estaciones en servicio:\\t{0}'.format(estaciones.loc[estaciones.serv == 1].shape[0]))\n",
    "\n",
    "sns.histplot(estaciones.naa, binwidth=1);\n",
    "\n",
    "# exportar todas las estaciones juntas\n",
    "estaciones.to_csv(f'{path_out}estaciones.csv', index=True)"
   ]
  },
  {
   "cell_type": "code",
   "execution_count": null,
   "id": "87f992d2-0d02-4ae5-a223-4150834050e9",
   "metadata": {},
   "outputs": [],
   "source": [
    "sns.histplot(estaciones.suprest);\n",
    "plt.xscale('log')"
   ]
  },
  {
   "cell_type": "markdown",
   "id": "619e9985-f17c-4e21-93ef-44cba62c412a",
   "metadata": {},
   "source": [
    "### Embalses"
   ]
  },
  {
   "cell_type": "code",
   "execution_count": null,
   "id": "a3f254a2-9cff-4fd7-94a7-dde930fe4f9b",
   "metadata": {},
   "outputs": [],
   "source": [
    "\n",
    "reservoirs = pd.read_csv(f'{path_in}{catchment}embalse.csv', sep=';', index_col='ref_ceh', encoding='latin1')\n",
    "\n",
    "# eliminar columnas vacías\n",
    "reservoirs.dropna(axis=1, how='all', inplace=True)\n",
    "    \n",
    "print('nº total de embalses:\\t\\t{0}'.format(reservoirs.shape[0]))\n",
    "print('nº de embalses en servicio:\\t{0}'.format(reservoirs.loc[reservoirs.serv == 1].shape[0]))\n",
    "\n",
    "# exportar todas las estaciones juntas\n",
    "reservoirs.to_csv(f'{path_out}embalses.csv', sep=',')"
   ]
  },
  {
   "cell_type": "markdown",
   "id": "d1ac60ae-9ea4-4f50-a930-7126737e3999",
   "metadata": {},
   "source": [
    "### Caudal"
   ]
  },
  {
   "cell_type": "code",
   "execution_count": null,
   "id": "bcc326fa-9bf8-4a15-91bd-ad87b8ae6e54",
   "metadata": {},
   "outputs": [],
   "source": [
    "def caudal_anuario_aforos(file, indroea=None, start=None, end=None):\n",
    "    \"\"\"Extrae las series diarias de caudal del archivo 'afliq.csv' del Anuario de Aforos. La serie se puede recortar al periodo y estaciones de interés\n",
    "    \n",
    "    Parámetros:\n",
    "    -----------\n",
    "    file:      str. Ruta del archivo original con las series de caudal\n",
    "    indroea:   str or list. Listado con el ID de las estaciones ROEA (Red Oficial de Estaciones de Aforo) cuya serie de caudal se quiere extraer\n",
    "    start:     str or datetime.date. Fecha de inicio del periodo de estudio\n",
    "    end:       str or datetime.date. Fecha final del periodo de estudio\n",
    "\n",
    "    Salida:\n",
    "    -------\n",
    "    caudal:    pandas.DataFrame. Tabla con las series de caudal diario\n",
    "    \"\"\"\n",
    "\n",
    "    if isinstance(indroea, str):\n",
    "        indroea = [indroea]\n",
    "    elif isinstance(indroea, list):\n",
    "        indroea = [str(x) for x in indroea]\n",
    "    elif indroea is not None:\n",
    "        print('ERROR. \"indorea\" ha de ser bien una cadena de texto, una lista o None.')\n",
    "        return\n",
    "    \n",
    "    # cargar series\n",
    "    data = pd.read_csv(file, sep=';', index_col='indroea')\n",
    "    data.index = data.index.astype(str)\n",
    "    data.fecha = pd.to_datetime(data.fecha, dayfirst=True)\n",
    "\n",
    "    # recortar a la fecha de estudio\n",
    "    if start is not None:\n",
    "        data = data.loc[data.fecha >= start, :]\n",
    "    if end is not None:\n",
    "        data = data.loc[data.fecha <= end, :]\n",
    "\n",
    "    # reformatear series de caudal y nivel\n",
    "    if indroea is None:\n",
    "        cols = data.index.unique()\n",
    "    else:\n",
    "        cols = indroea\n",
    "    caudal = pd.DataFrame(index=pd.date_range(data.fecha.min(), data.fecha.max(), freq='1d'),\n",
    "                     columns=cols, dtype=float) \n",
    "    for stn in caudal.columns:\n",
    "        data_stn = data.loc[stn].set_index('fecha', drop=True)\n",
    "        caudal[stn] = data_stn.caudal\n",
    "    \n",
    "    # eliminar estaciones sin ningún dato\n",
    "    caudal.dropna(axis=1, how='all', inplace=True)\n",
    "\n",
    "    return caudal"
   ]
  },
  {
   "cell_type": "code",
   "execution_count": null,
   "id": "71f6eeba-4a5f-4561-b79f-cdd096eab098",
   "metadata": {},
   "outputs": [],
   "source": [
    "Q = caudal_anuario_aforos(f'{path_in}{catchment}/afliq.csv')\n",
    "\n",
    "print('{0} estaciones con series de caudal en el {1}'.format(Q.shape[1], catchment.capitalize()))"
   ]
  },
  {
   "cell_type": "code",
   "execution_count": null,
   "id": "5f8fedbf-0647-4106-8c18-975ed0cccade",
   "metadata": {},
   "outputs": [],
   "source": [
    "# cargar series temporales\n",
    "data = pd.read_csv(f'{path_in}{catchment}/afliq.csv', sep=';', index_col='indroea')\n",
    "data.fecha = pd.to_datetime(data.fecha, dayfirst=True)\n",
    "\n",
    "# recortar a la fecha de estudio\n",
    "data = data.loc[(data.fecha >= start) & (data.fecha <= end),:]\n",
    "\n",
    "# reformatear series de caudal y nivel\n",
    "Q = pd.DataFrame(index=pd.date_range(data.fecha.min(), data.fecha.max(), freq='1d'), columns=data.index.unique(), dtype=float) \n",
    "#N = Q.copy()\n",
    "for stn in Q.columns:\n",
    "    data_stn = data.loc[stn].set_index('fecha', drop=True)\n",
    "    Q[stn] = data_stn.caudal\n",
    "    #N[stn] = data_stn.altura\n",
    "\n",
    "# convertir nombre de las columnas en texto\n",
    "Q.columns = [str(col) for col in Q.columns]\n",
    "#N.columns = Q.columns\n",
    "\n",
    "# eliminar estaciones sin ningún dato\n",
    "Q.dropna(axis=1, how='all', inplace=True)\n",
    "#N.dropna(axis=1, how='all', inplace=True)\n",
    "    \n",
    "# exportar series con formato parquet\n",
    "#Q.to_parquet(f'{folder}/caudal.parquet', index=True)\n",
    "#N.to_parquet(f'{folder}/nivel.parquet', index=True)\n",
    "\n",
    "print('{0} estaciones con series de caudal en el {1}'.format(Q.shape[1], catchment.capitalize()))\n",
    "\n",
    "# convertir los nombres de las columnas en enteros\n",
    "Q.columns = [int(stn) for stn in Q.columns]"
   ]
  },
  {
   "cell_type": "code",
   "execution_count": null,
   "id": "a728a031-eed6-4a5d-8873-9aa31a379617",
   "metadata": {},
   "outputs": [],
   "source": [
    "fig, ax = plt.subplots(figsize=(16, 8))\n",
    "for i, stn in enumerate(Q.columns):\n",
    "    aux = (~Q[stn].isnull()).astype(int).copy()\n",
    "    aux[aux == 0] = np.nan\n",
    "    ax.plot(aux * i, color='steelblue')\n",
    "    \n",
    "yticks = np.arange(0, Q.shape[1], 5)\n",
    "ax.set(yticks=yticks, yticklabels=Q.columns[yticks], ylabel='estación',\n",
    "       xlim=(Q.index.min(), Q.index.max()), xlabel='año',\n",
    "       title=catchment.capitalize());\n",
    "plt.savefig(f'{path_plots}disponibilidad.jpg', dpi=300, bbox_inches='tight');"
   ]
  },
  {
   "cell_type": "code",
   "execution_count": null,
   "id": "4a10fb09-3cd6-41e2-bae2-0fa0ce35b940",
   "metadata": {},
   "outputs": [],
   "source": [
    "# gráfico de la disponibilidad de estaciones\n",
    "plt.plot(Q.shape[1] - Q.loc[start:end].isnull().sum(axis=1))\n",
    "plt.ylim(-2, estaciones.shape[0] + 2)\n",
    "plt.xlim(*[datetime.strptime(date, '%Y-%m-%d') for date in [start, end]])\n",
    "plt.ylabel('nº estaciones');"
   ]
  },
  {
   "cell_type": "code",
   "execution_count": null,
   "id": "f28c2134-e85c-4a5e-8b09-984a10fd30cd",
   "metadata": {},
   "outputs": [],
   "source": [
    "#disponibilidad = .85"
   ]
  },
  {
   "cell_type": "code",
   "execution_count": null,
   "id": "948fd6ad-0dc2-4278-99e1-1a41b861fd83",
   "metadata": {},
   "outputs": [],
   "source": [
    "# seleccionar estaciones con gran cobertura de datos en el periodo de estudio\n",
    "mask = (np.sum(~Q.isnull(), axis=0) / Q.shape[0]) >= disponibilidad\n",
    "Q_ = Q.loc[:,mask]\n",
    "estaciones_ = estaciones.loc[Q_.columns]\n",
    "\n",
    "print(f'{mask.sum()} estaciones fueron seleccionadas')"
   ]
  },
  {
   "cell_type": "code",
   "execution_count": null,
   "id": "defd021f-c9dc-4790-85ac-393cfa2976b1",
   "metadata": {},
   "outputs": [],
   "source": [
    "# gráfico de la disponibilidad de estaciones\n",
    "plt.plot(Q_.shape[1] - Q_.loc[start:end].isnull().sum(axis=1))\n",
    "plt.ylim(-2, estaciones_.shape[0] + 2)\n",
    "plt.xlim(*[datetime.strptime(date, '%Y-%m-%d') for date in [start, end]])\n",
    "plt.ylabel('nº estaciones');"
   ]
  },
  {
   "cell_type": "code",
   "execution_count": null,
   "id": "ab8adb67-78ab-47a5-be7e-ebd745bd5f43",
   "metadata": {},
   "outputs": [],
   "source": [
    "def plot_caudal(serie, save=None, **kwargs):\n",
    "    \"\"\"\n",
    "    \"\"\"\n",
    "    \n",
    "    fig, ax = plt.subplots(figsize=kwargs.get('figsize', (16, 4)))\n",
    "    ax.plot(serie, lw=.8)\n",
    "    ax.set(xlim=(serie.index.min(), serie.index.max()),\n",
    "           ylim=(0, None),\n",
    "           ylabel='Q (m3/s)',\n",
    "           title=kwargs.get('title', None))\n",
    "    \n",
    "    if save is not None:\n",
    "        plt.savefig(save, dpi=300, bbox_inches='tight')"
   ]
  },
  {
   "cell_type": "code",
   "execution_count": null,
   "id": "ec00a7d9-8e7a-4e52-a980-0eb6c641a696",
   "metadata": {
    "tags": []
   },
   "outputs": [],
   "source": [
    "for stn in estaciones_.index:\n",
    "    plot_caudal(Q[stn],\n",
    "                title='{0} - {1} ({2} km2)'.format(stn, *estaciones.loc[stn, ['lugar', 'suprest']]),\n",
    "                save=f'{path_plots}{stn:04}.jpg')"
   ]
  },
  {
   "cell_type": "code",
   "execution_count": null,
   "id": "3cd68bd0-22da-4f57-89ee-fe0439ae35ca",
   "metadata": {},
   "outputs": [],
   "source": [
    "# estaciones a eliminar porque la serie está alterada por embalses\n",
    "eliminar = {'ebro': [9008, 9010, 9014, 9025, 9026, 9034, 9035, 9036, 9039, 9042,\n",
    "                     9055, 9056, 9057, 9058, 9083, 9084, 9096, 9097, 9099, 9101,\n",
    "                     9105, 9106, 9109, 9110, 9113, 9118, 9122, 9124, 9125, 9126,\n",
    "                     9142, 9145, 9147, 9168, 9176, 9184, 9192, 9216],\n",
    "            'cantabrico': [],\n",
    "            'duero': [2002, 2004, 2010, 2011, 2019, 2020, 2022, 2024, 2032, 2040,\n",
    "                      2041, 2044, 2047, 2049, 2056, 2073, 2075, 2077, 2078,\n",
    "                      2087, 2102, 2103, 2107, 2108, 2019, 2124, 2129, 2134],\n",
    "            'tajo': [3003, 3012, 3030, 3041, 3045, 3052, 3060, 3061, 3062, 3067,\n",
    "                     3070, 3080, 3082, 3144, 3147, 3153, 3158, 3159, 3169, 3186,\n",
    "                     3213, 3230, 3232, 3238, 3254, 3255, 3259, 3266, 3268, 3940],\n",
    "            'minho': [],\n",
    "            'guadalquivir': [5001, 5020, 5039, 5041, 5077, 5090],\n",
    "            'segura': [7003, 7006, 7013, 7016, 7018, 7030, 7063],\n",
    "            'jucar': [8005, 8015, 8018, 8025, 8027, 8074, 8093, 8096, 8099, 8107,\n",
    "                      8112, 8119, 8129, 8139, 8140, 8141, 8147, ],\n",
    "            'galicia': []}\n",
    "\n",
    "estaciones_.drop(eliminar[catchment], axis=0, inplace=True)\n",
    "\n",
    "print(f'{estaciones_.shape[0]} estaciones fueron seleccionadas')"
   ]
  },
  {
   "cell_type": "code",
   "execution_count": null,
   "id": "7f63b1c2-6726-4953-bdef-8c36148b1b8e",
   "metadata": {},
   "outputs": [],
   "source": [
    "# exportar atributos de las estaciones seleccionadas\n",
    "estaciones_.index.name = 'indroea'\n",
    "estaciones_.to_csv(f'{path_out}estaciones_seleccion.csv', index=True)"
   ]
  },
  {
   "cell_type": "code",
   "execution_count": null,
   "id": "f16a2d86-2d42-4a5b-afe8-71bb50d56e66",
   "metadata": {},
   "outputs": [],
   "source": [
    "estaciones_.shape"
   ]
  },
  {
   "cell_type": "code",
   "execution_count": null,
   "id": "7573ba81-8f95-43e7-af2a-aec91221bc5e",
   "metadata": {},
   "outputs": [],
   "source": []
  },
  {
   "cell_type": "code",
   "execution_count": null,
   "id": "13baf25e-4d33-4850-b7e2-c84df7b89aa7",
   "metadata": {},
   "outputs": [],
   "source": []
  },
  {
   "cell_type": "code",
   "execution_count": null,
   "id": "b9221809-8a5c-4e9a-9682-a04f98d88c8f",
   "metadata": {},
   "outputs": [],
   "source": [
    "Q.columns"
   ]
  },
  {
   "cell_type": "code",
   "execution_count": null,
   "id": "cfae1e95-d622-44d6-a9c3-b7d0b0c99a7f",
   "metadata": {},
   "outputs": [],
   "source": [
    "stn = 7032\n",
    "\n",
    "plot_caudal(Q[stn],\n",
    "            title='{0} - {1} ({2} km2)'.format(stn, *estaciones.loc[stn, ['lugar', 'suprest']]),\n",
    "            save=None)"
   ]
  },
  {
   "cell_type": "code",
   "execution_count": null,
   "id": "c9d7f911-5dac-44d2-9931-28213c6d0d4e",
   "metadata": {},
   "outputs": [],
   "source": []
  }
 ],
 "metadata": {
  "kernelspec": {
   "display_name": "Python 3 (ipykernel)",
   "language": "python",
   "name": "python3"
  },
  "language_info": {
   "codemirror_mode": {
    "name": "ipython",
    "version": 3
   },
   "file_extension": ".py",
   "mimetype": "text/x-python",
   "name": "python",
   "nbconvert_exporter": "python",
   "pygments_lexer": "ipython3",
   "version": "3.11.4"
  }
 },
 "nbformat": 4,
 "nbformat_minor": 5
}
