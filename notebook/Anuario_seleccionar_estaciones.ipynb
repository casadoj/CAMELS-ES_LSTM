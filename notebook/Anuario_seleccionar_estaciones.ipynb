{
 "cells": [
  {
   "cell_type": "markdown",
   "id": "6014e653-0ca6-4b3c-b0e6-c5855297c6a5",
   "metadata": {},
   "source": [
    "# Anuario de Aforos: seleccionar estaciones\n",
    "***\n",
    "\n",
    "***Autor:** Jesús Casado Rodríguez*<br>\n",
    "***Fecha:** 12-08-2023*<br>\n",
    "\n",
    "**Introducción:**\n",
    "\n",
    "**Por hacer**:\n",
    "* [x] Aplicar el filtro por área de cuenca."
   ]
  },
  {
   "cell_type": "code",
   "execution_count": 1,
   "id": "97355a61-db67-42f8-993f-2e984e8ca033",
   "metadata": {},
   "outputs": [],
   "source": [
    "import os\n",
    "import numpy as np\n",
    "import pandas as pd\n",
    "import matplotlib.pyplot as plt\n",
    "plt.switch_backend('Agg')\n",
    "import seaborn as sns\n",
    "from datetime import datetime, timedelta\n",
    "import xarray as xr\n",
    "from datetime import datetime\n",
    "import yaml\n",
    "import geopandas as gpd\n",
    "import cartopy.crs as ccrs\n",
    "import cartopy.feature as cf\n",
    "from tqdm.notebook import tqdm\n",
    "from anuario_aforos import extraer_estaciones, extraer_caudal, extraer_embalses, plot_caudal"
   ]
  },
  {
   "cell_type": "markdown",
   "id": "214e185a-48b5-4cc0-bbf1-a2d2e7b252d9",
   "metadata": {},
   "source": [
    "## Configuración"
   ]
  },
  {
   "cell_type": "code",
   "execution_count": 2,
   "id": "11460161-2847-4693-b395-333390b74dce",
   "metadata": {},
   "outputs": [],
   "source": [
    "with open(\"../conf/config.yml\", \"r\", encoding='utf8') as ymlfile:\n",
    "    cfg = yaml.load(ymlfile, Loader=yaml.FullLoader)\n",
    "\n",
    "# ruta donde se ubican los datos del Anurio de Aforos\n",
    "path_in = cfg['rutas']['anuario_aforos']\n",
    "\n",
    "# inicio y fin del periodo de estudio\n",
    "start = cfg['periodo'].get('inicio', None)\n",
    "end = cfg['periodo'].get('final', None)\n",
    "start, end = [pd.to_datetime(i) for i in [start, end]]\n",
    "\n",
    "# tamaño mínimo y máximo de la cuenca\n",
    "area_min = cfg['area'].get('min', 100) # km²\n",
    "area_max = cfg['area'].get('max', None) # km²\n",
    "\n",
    "# disponibilidad mínima de datos durante el periodo de estudio (tanto por uno)\n",
    "disponibilidad = cfg['seleccion'].get('disponibilidad', .9)\n",
    "min_años = cfg['seleccion'].get('n_años', .9)"
   ]
  },
  {
   "cell_type": "code",
   "execution_count": 3,
   "id": "6f58ead8-5deb-4970-a7a4-d9d501926312",
   "metadata": {},
   "outputs": [],
   "source": [
    "path_out = f'../data/anuario_aforos/'\n",
    "path_GIS = f'{path_out}GIS/'\n",
    "path_plots = f'{path_out}plots/'\n",
    "for path in [path_out, path_GIS, path_plots]:\n",
    "    if os.path.exists(path) is False:\n",
    "        os.makedirs(path)"
   ]
  },
  {
   "cell_type": "markdown",
   "id": "27417393-9545-4ee4-812d-3c98a96b93d2",
   "metadata": {},
   "source": [
    "### Estaciones"
   ]
  },
  {
   "cell_type": "code",
   "execution_count": 4,
   "id": "fabff412-6e03-484d-b0b8-78bd087be2f0",
   "metadata": {},
   "outputs": [
    {
     "data": {
      "application/vnd.jupyter.widget-view+json": {
       "model_id": "dc06bd65e9c442feb1df2d93f9e7a8bc",
       "version_major": 2,
       "version_minor": 0
      },
      "text/plain": [
       "  0%|          | 0/10 [00:00<?, ?it/s]"
      ]
     },
     "metadata": {},
     "output_type": "display_data"
    },
    {
     "name": "stdout",
     "output_type": "stream",
     "text": [
      "nº de estaciones en el Cantabrico:\t\t57\n",
      "nº de estaciones en el Duero:\t\t169\n",
      "nº de estaciones en el Ebro:\t\t220\n",
      "nº de estaciones en el Galicia:\t\t37\n",
      "nº de estaciones en el Guadalquivir:\t\t95\n",
      "nº de estaciones en el Guadiana:\t\t117\n",
      "nº de estaciones en el Jucar:\t\t95\n",
      "nº de estaciones en el Minho:\t\t62\n",
      "nº de estaciones en el Segura:\t\t59\n",
      "nº de estaciones en el Tajo:\t\t163\n"
     ]
    }
   ],
   "source": [
    "cuencas = [dir for dir in os.listdir(path_in) if os.path.isdir(os.path.join(path_in, dir))]\n",
    "if 'estaciones' in locals():\n",
    "    del estaciones\n",
    "for cuenca in tqdm(cuencas):\n",
    "    stns = extraer_estaciones(f'{path_in}{cuenca}/estaf.csv',\n",
    "                              min_area=area_min, max_area=area_max, years=8, epsg=4326)\n",
    "    stns['cuenca'] = cuenca\n",
    "    if 'estaciones' in locals():\n",
    "        estaciones = pd.concat((estaciones, stns))\n",
    "    else:\n",
    "        estaciones = stns\n",
    "    print('nº de estaciones en el {0}:\\t\\t{1}'.format(cuenca.capitalize(), stns.shape[0]))"
   ]
  },
  {
   "cell_type": "code",
   "execution_count": 5,
   "id": "8eb1f03f-de76-4b22-b741-8f5aff96ba82",
   "metadata": {},
   "outputs": [
    {
     "name": "stdout",
     "output_type": "stream",
     "text": [
      "nº total de estaciones:\t\t1074\n",
      "nº de estaciones en servicio:\t704\n"
     ]
    }
   ],
   "source": [
    "# plot estaciones\n",
    "proj = ccrs.PlateCarree()\n",
    "fig, ax = plt.subplots(subplot_kw={'projection': proj})\n",
    "ax.add_feature(cf.NaturalEarthFeature('physical', 'land', '50m', edgecolor=None, facecolor='lightgray'), zorder=0)\n",
    "ax.set_extent([-9.5, 3.5, 36, 44.5], crs=proj)\n",
    "ax.scatter(estaciones.geometry.x, estaciones.geometry.y, c='steelblue', s=5, alpha=.7, label='Anuario')\n",
    "ax.set_title('Estaciones Anuario de Aforos')\n",
    "ax.axis('off');\n",
    "\n",
    "plt.savefig(f'{path_plots}estaciones.jpg', dpi=300, bbox_inches='tight');\n",
    "\n",
    "print('nº total de estaciones:\\t\\t{0}'.format(estaciones.shape[0]))\n",
    "print('nº de estaciones en servicio:\\t{0}'.format(estaciones.loc[estaciones.serv == 1].shape[0]))"
   ]
  },
  {
   "cell_type": "code",
   "execution_count": 6,
   "id": "b126bb4a-fa04-4b4c-b3bf-a7aa89fb58ae",
   "metadata": {},
   "outputs": [],
   "source": [
    "sns.histplot(estaciones.naa, binwidth=1);"
   ]
  },
  {
   "cell_type": "code",
   "execution_count": 7,
   "id": "87f992d2-0d02-4ae5-a223-4150834050e9",
   "metadata": {},
   "outputs": [],
   "source": [
    "sns.histplot(estaciones.suprest);\n",
    "plt.xscale('log')"
   ]
  },
  {
   "cell_type": "markdown",
   "id": "619e9985-f17c-4e21-93ef-44cba62c412a",
   "metadata": {},
   "source": [
    "### Embalses"
   ]
  },
  {
   "cell_type": "code",
   "execution_count": 8,
   "id": "89d6c120-cb4f-4434-9e02-168877f4541d",
   "metadata": {},
   "outputs": [
    {
     "data": {
      "application/vnd.jupyter.widget-view+json": {
       "model_id": "8d1ee93dbf4e4b66b5828c2251dc75ac",
       "version_major": 2,
       "version_minor": 0
      },
      "text/plain": [
       "  0%|          | 0/10 [00:00<?, ?it/s]"
      ]
     },
     "metadata": {},
     "output_type": "display_data"
    },
    {
     "name": "stdout",
     "output_type": "stream",
     "text": [
      "nº de embalses en el Cantabrico:\t\t22\n",
      "nº de embalses en el Duero:\t\t31\n",
      "nº de embalses en el Ebro:\t\t95\n",
      "nº de embalses en el Galicia:\t\t8\n",
      "nº de embalses en el Guadalquivir:\t\t62\n",
      "nº de embalses en el Guadiana:\t\t31\n",
      "nº de embalses en el Jucar:\t\t35\n",
      "nº de embalses en el Minho:\t\t35\n",
      "nº de embalses en el Segura:\t\t18\n",
      "nº de embalses en el Tajo:\t\t57\n"
     ]
    }
   ],
   "source": [
    "if 'embalses' in locals():\n",
    "    del embalses\n",
    "for cuenca in tqdm(cuencas):\n",
    "    res = extraer_embalses(f'{path_in}{cuenca}/embalse.csv', epsg=4326)\n",
    "    res['cuenca'] = cuenca\n",
    "    if 'embalses' in locals():\n",
    "        embalses = pd.concat((embalses, res))\n",
    "    else:\n",
    "        embalses = res\n",
    "    print('nº de embalses en el {0}:\\t\\t{1}'.format(cuenca.capitalize(), res.shape[0]))\n",
    "    del res"
   ]
  },
  {
   "cell_type": "code",
   "execution_count": 9,
   "id": "714afaaa-77da-487d-a276-f7c1c7ca15e5",
   "metadata": {},
   "outputs": [
    {
     "name": "stdout",
     "output_type": "stream",
     "text": [
      "nº total de embalses:\t\t394\n",
      "nº de embalses en servicio:\t363\n"
     ]
    }
   ],
   "source": [
    "# plot subcuencas\n",
    "proj = ccrs.PlateCarree()\n",
    "fig, ax = plt.subplots(subplot_kw={'projection': proj})\n",
    "ax.add_feature(cf.NaturalEarthFeature('physical', 'land', '50m', edgecolor=None, facecolor='lightgray'), zorder=0)\n",
    "ax.set_extent([-9.5, 3.5, 36, 44.5], crs=proj)\n",
    "ax.scatter(embalses.geometry.x, embalses.geometry.y, c='k', marker='v', s=5, alpha=.7, label='Anuario')\n",
    "ax.set_title('Estaciones Anuario de Aforos')\n",
    "ax.axis('off');\n",
    "\n",
    "plt.savefig(f'{path_plots}embalses.jpg', dpi=300, bbox_inches='tight');\n",
    "\n",
    "print('nº total de embalses:\\t\\t{0}'.format(embalses.shape[0]))\n",
    "print('nº de embalses en servicio:\\t{0}'.format(embalses.loc[embalses.serv == 1].shape[0]))"
   ]
  },
  {
   "cell_type": "code",
   "execution_count": 10,
   "id": "a8eb053e-f704-4b8a-bbf5-7f97832f1f8f",
   "metadata": {},
   "outputs": [
    {
     "data": {
      "application/vnd.jupyter.widget-view+json": {
       "model_id": "eb34f271716c4937939ae447ca1d1303",
       "version_major": 2,
       "version_minor": 0
      },
      "text/plain": [
       "  0%|          | 0/10 [00:00<?, ?it/s]"
      ]
     },
     "metadata": {},
     "output_type": "display_data"
    },
    {
     "name": "stdout",
     "output_type": "stream",
     "text": [
      "nº de estaciones en las series de caudal del Cantabrico:\t\t45 (57)\n",
      "nº de estaciones en las series de caudal del Duero:\t\t160 (169)\n",
      "nº de estaciones en las series de caudal del Ebro:\t\t196 (220)\n",
      "nº de estaciones en las series de caudal del Galicia:\t\t34 (37)\n",
      "nº de estaciones en las series de caudal del Guadalquivir:\t\t75 (95)\n",
      "nº de estaciones en las series de caudal del Guadiana:\t\t82 (117)\n",
      "nº de estaciones en las series de caudal del Jucar:\t\t48 (95)\n",
      "nº de estaciones en las series de caudal del Minho:\t\t50 (62)\n",
      "nº de estaciones en las series de caudal del Segura:\t\t39 (59)\n",
      "nº de estaciones en las series de caudal del Tajo:\t\t105 (163)\n",
      "nº total de estaciones con serie de caudal:\t\t834 (1074)\n"
     ]
    }
   ],
   "source": [
    "if 'caudal' in locals():\n",
    "    del caudal\n",
    "for cuenca in tqdm(cuencas):\n",
    "    ids = estaciones[estaciones.cuenca == cuenca].index.to_list()\n",
    "    q = extraer_caudal(f'{path_in}{cuenca}/afliq.csv', \n",
    "                       indroea=ids, start=start, end=end)\n",
    "    if 'caudal' in locals():\n",
    "        caudal = pd.concat((caudal, q), axis=1)\n",
    "    else:\n",
    "        caudal = q\n",
    "    print('nº de estaciones en las series de caudal del {0}:\\t\\t{1} ({2})'.format(cuenca.capitalize(),\n",
    "                                                                                  q.shape[1],\n",
    "                                                                                  len(ids)))\n",
    "\n",
    "print('nº total de estaciones con serie de caudal:\\t\\t{0} ({1})'.format(caudal.shape[1], estaciones.shape[0]))"
   ]
  },
  {
   "cell_type": "code",
   "execution_count": 11,
   "id": "a5196613-7120-4add-96f6-b874ebaf6798",
   "metadata": {},
   "outputs": [],
   "source": [
    "# añadir un campo booleano en 'estaciones' si tiene o no datos de caudal\n",
    "estaciones['caudal'] = 0\n",
    "estaciones.loc[caudal.columns, 'caudal'] = 1"
   ]
  },
  {
   "cell_type": "code",
   "execution_count": 12,
   "id": "f8b8fac6-140c-40ce-a061-6951585762e6",
   "metadata": {},
   "outputs": [],
   "source": [
    "# calcular la disponibilidad de datos cada año en cada estación\n",
    "caudal_y = caudal.groupby(caudal.index.year)\n",
    "count = caudal_y.count()\n",
    "size = caudal_y.size()\n",
    "for year in size.index:\n",
    "    count.loc[year,:] /= size[year]\n",
    "\n",
    "# nº de años con disponibilidad por encima de la mínima en cada estación\n",
    "disp = count >= disponibilidad\n",
    "\n",
    "# # estaciones con el mínimo de nº de años\n",
    "# n_años = disp.sum(axis=0)\n",
    "# mask_años = n_años.index[n_años >= min_años].to_list()\n",
    "# caudal = caudal[mask_años]\n",
    "# estaciones = estaciones.loc[mask_años, :]\n",
    "\n",
    "# print('nº total de estaciones con {0} años de caudal:\\t\\t{1}'.format(min_años, caudal.shape[1]))"
   ]
  },
  {
   "cell_type": "code",
   "execution_count": 13,
   "id": "992e30bb-a8e7-4fda-917c-6653a7bcaaf0",
   "metadata": {},
   "outputs": [
    {
     "data": {
      "application/vnd.jupyter.widget-view+json": {
       "model_id": "d6d257f0815144feb26a8be45dbb9e1b",
       "version_major": 2,
       "version_minor": 0
      },
      "text/plain": [
       "  0%|          | 0/834 [00:00<?, ?it/s]"
      ]
     },
     "metadata": {},
     "output_type": "display_data"
    }
   ],
   "source": [
    "# quedarse con estaciones con al menos 8 años de datos consecutivos\n",
    "disp_diff = disp.astype(int).diff(axis=0)\n",
    "disp_diff.iloc[0,:] = disp.iloc[0,:].astype(int)\n",
    "\n",
    "# crear dos campos con el año de inicio y fin de la serie a utilizar\n",
    "estaciones[['ini_cal', 'fin_cal']] = np.nan\n",
    "for stn in tqdm(disp_diff.columns):\n",
    "\n",
    "    # inicios y finales de los periodos con datos completos\n",
    "    inicios = disp_diff[disp_diff[stn] == 1].index.to_list()\n",
    "    finales = disp_diff[disp_diff[stn] == -1].index.to_list()\n",
    "    if len(inicios) == len(finales) + 1:\n",
    "        finales.append(disp_diff.index[-1])\n",
    "\n",
    "    # quedarse con el último periodo de datos completos\n",
    "    duraciones = np.array(finales) - np.array(inicios)\n",
    "    i = np.where(duraciones >= min_años)[0]\n",
    "    if len(i) > 0:\n",
    "        fin = finales[i[-1]]#[-1]\n",
    "        inicio = fin - min_años\n",
    "        estaciones.loc[stn, ['ini_cal', 'fin_cal']] = inicio, fin\n",
    "    else:\n",
    "        continue"
   ]
  },
  {
   "cell_type": "code",
   "execution_count": 14,
   "id": "e63d79c9-f5e7-4701-be5b-d4229845d59b",
   "metadata": {},
   "outputs": [
    {
     "name": "stdout",
     "output_type": "stream",
     "text": [
      "nº total de estaciones con 8 años de caudal:\t\t600\n"
     ]
    }
   ],
   "source": [
    "# estaciones con el mínimo de nº de años\n",
    "mask_años = ~estaciones.ini_cal.isnull()\n",
    "# caudal = caudal.loc[:, mask_años]\n",
    "# estaciones = estaciones.loc[mask_años, :]\n",
    "\n",
    "print('nº total de estaciones con {0} años de caudal:\\t\\t{1}'.format(min_años, mask_años.sum()))#caudal.shape[1]))"
   ]
  },
  {
   "cell_type": "code",
   "execution_count": 15,
   "id": "a728a031-eed6-4a5d-8873-9aa31a379617",
   "metadata": {},
   "outputs": [],
   "source": [
    "# fig, ax = plt.subplots(figsize=(16, 16))\n",
    "# for i, stn in enumerate(caudal.columns):\n",
    "#     aux = (~caudal[stn].isnull()).astype(int).copy()\n",
    "#     aux[aux == 0] = np.nan\n",
    "#     ax.plot(aux * i, color='steelblue')\n",
    "    \n",
    "# yticks = np.arange(0, caudal.shape[1], 5)\n",
    "# ax.set(yticks=yticks, yticklabels=caudal.columns[yticks], ylabel='estación',\n",
    "#        xlim=(caudal.index.min(), caudal.index.max()), xlabel='año',\n",
    "#        ); #title=catchment.capitalize()\n",
    "# plt.savefig(f'{path_plots}disponibilidad.jpg', dpi=300, bbox_inches='tight');"
   ]
  },
  {
   "cell_type": "code",
   "execution_count": 16,
   "id": "4a10fb09-3cd6-41e2-bae2-0fa0ce35b940",
   "metadata": {},
   "outputs": [],
   "source": [
    "# gráfico de la disponibilidad de estaciones\n",
    "fig, ax = plt.subplots(figsize=(5, 5))\n",
    "ax.plot(caudal.shape[1] - caudal.isnull().sum(axis=1), lw=1)\n",
    "ax.set(ylim=(-2, caudal.shape[1] + 2), xlim=(start, end), ylabel='nº estaciones')\n",
    "ax.axhline(estaciones.shape[0], c='k', lw=.5)\n",
    "ax.set_title('disponibilidad de estaciones');\n",
    "\n",
    "plt.savefig(f'{path_plots}disponibilidad.jpg', dpi=300, bbox_inches='tight');"
   ]
  },
  {
   "cell_type": "code",
   "execution_count": 17,
   "id": "d7189dfe-e375-43a0-b2c9-dce412a9515e",
   "metadata": {},
   "outputs": [
    {
     "data": {
      "application/vnd.jupyter.widget-view+json": {
       "model_id": "5c0b38700d94414cb937a08ad14034df",
       "version_major": 2,
       "version_minor": 0
      },
      "text/plain": [
       "  0%|          | 0/600 [00:00<?, ?it/s]"
      ]
     },
     "metadata": {},
     "output_type": "display_data"
    },
    {
     "name": "stderr",
     "output_type": "stream",
     "text": [
      "C:\\GitHub\\TFM\\notebook\\anuario_aforos.py:163: RuntimeWarning: More than 20 figures have been opened. Figures created through the pyplot interface (`matplotlib.pyplot.figure`) are retained until explicitly closed and may consume too much memory. (To control this warning, see the rcParam `figure.max_open_warning`). Consider using `matplotlib.pyplot.close()`.\n",
      "  fig, ax = plt.subplots(figsize=kwargs.get('figsize', (16, 4)))\n"
     ]
    }
   ],
   "source": [
    "for stn in tqdm(estaciones[mask_años].index):\n",
    "\n",
    "    # inicio y fin de la serie de esta estación\n",
    "    inicio = datetime(int(estaciones.loc[stn, 'ini_cal']), 1, 1)\n",
    "    fin = datetime(int(estaciones.loc[stn, 'fin_cal']), 1, 1)\n",
    "\n",
    "    # hidrogromas\n",
    "    file = '{0}{1}/plots/{2:04}.jpg'.format(path_out, estaciones.loc[stn, 'cuenca'], stn)\n",
    "    title = '{0} - {1} ({2} km2)'.format(stn, *estaciones.loc[stn, ['lugar', 'suprest']])\n",
    "    plot_caudal(caudal.loc[inicio:fin, stn], title=title, save=file)"
   ]
  },
  {
   "cell_type": "code",
   "execution_count": 18,
   "id": "4eb8ea1f-82cc-4c1d-8f97-32de6ccb46d9",
   "metadata": {},
   "outputs": [],
   "source": [
    "# estaciones a eliminar porque la serie está alterada por embalses\n",
    "# las estaciones comentadas son etaciones dudosas\n",
    "eliminar = {'CANTABRICO': ['1164','1175', '1186', '1196', '1207', '1215', '1237',\n",
    "                           '1264', '1274', '1276', '1294', '1335', '1358', '1359',\n",
    "                           '1425'],\n",
    "            'DUERO': ['2001', '2002', '2004', '2010', '2011', '2018', '2019', '2020',\n",
    "                      '2021', '2023', '2024', '2032', '2040', '2042', '2044', '2052', '2066',\n",
    "                      '2073', '2075', '2078', '2084', '2087', '2088', '2091', '2094',\n",
    "                      '2099', '2102', '2103', '2108', '2109', '2111', '2112', '2124', '2129',\n",
    "                      '2133', '2134', '2135', '2137', '2140', '2148', '2149', '2161',\n",
    "                      '2162', '2718', '2719'],\n",
    "            #'2041', '2050', '2061', '2062', '2074'\n",
    "            'EBRO': ['9001', '9005', '9007', '9008', '9010', '9012', '9013', '9014',\n",
    "                     '9015', '9017', '9022', '9024', '9025', '9026', '9027', '9031',\n",
    "                     '9032', '9034', '9035', '9036', '9042', '9047', '9048', '9049',\n",
    "                     '9055', '9056', '9057', '9058', '9059', '9060', '9065', '9066', '9076', '9083',\n",
    "                     '9084', '9094', '9096', '9097', '9099', '9100', '9101', '9105',\n",
    "                     '9106', '9111', '9115', '9118', '9122', '9123', '9124', '9125',\n",
    "                     '9126', '9127', '9137', '9142', '9145', '9147', '9155', '9161',\n",
    "                     '9163', '9168', '9174', '9176', '9185', '9186', '9190', '9191', '9192',\n",
    "                     '9193', '9201', '9209', '9216', '9225', '9229', '9230', '9231', '9250', '9250', '9251',\n",
    "                     '9258', '9260', '9264', '9266', '9273', '9277', '9278', '9290',\n",
    "                     '9292', '9307', '9315', '9319'],\n",
    "            #, '9153', '9291', '9317'\n",
    "            'GALICIA': ['1455', '1514', '1519', '1550', '1564'],\n",
    "            'GUADALQUIVIR': ['5001', '5004', '5014', '5019', '5020', '5024', '5025',\n",
    "                             '5027', '5041', '5042', '5048', '5081', '5082', '5084', '5090',\n",
    "                             '5095', '5127', '5144'],\n",
    "             # '5045', '5050', '5138', '5140', ''\n",
    "            'GUADIANA': ['4004', '4009', '4013', '4030', '4105', '4201', '4202', '4203', '4209', '4904'],\n",
    "            # , ''\n",
    "            'JUCAR': ['8005', '8015', '8022', '8025', '8032', '8036', '8042', '8071', '8074', '8089', '8093', '8096',\n",
    "                      '8107', '8112', '8119', '8129', '8130', '8137', '8138', '8139',\n",
    "                      '8144', '8145', '8147'],\n",
    "                      #, '8028', '8032', '8060', '8104', '8120'\n",
    "            'MINHO': ['1631', '1639', '1640', '1642', '1719', '1831'],\n",
    "            'SEGURA': ['7001', '7003', '7004', '7006', '7013', '7016', '7018', '7029', '7030', '7055',\n",
    "                       '7057', '7062', '7063', '7064', '7124', '7137', '7164', '7167', '7628'],\n",
    "            # , '7112', '7117', '7121', '7165', ''\n",
    "            'TAJO': ['3003', '3031', '3041', '3054', '3060', '3061', '3063', '3067', '3070', '3080', '3082',\n",
    "                     '3147', '3149', '3153', '3158', '3162', '3164', '3172', '3173', '3177', '3183',\n",
    "                     '3187', '3188', '3230', '3232', '3237', '3238', '3240', '3243', '3248',\n",
    "                     '3254', '3258', '3259', '3270', '3271', '3273', '3281', '3904',\n",
    "                      '3940'],\n",
    "            #'3012', '3014', '3062, '3169', '3174', '3175', '3220', '3233', \n",
    "            #'3250', '3251', '3253', '3255', '3256', '3268', '3276', '3278', '3279', ''\n",
    "            }"
   ]
  },
  {
   "cell_type": "code",
   "execution_count": 19,
   "id": "3cd68bd0-22da-4f57-89ee-fe0439ae35ca",
   "metadata": {},
   "outputs": [],
   "source": [
    "# # estaciones a eliminar porque la serie está alterada por embalses\n",
    "# eliminar = {'ebro': [9008, 9010, 9014, 9025, 9026, 9034, 9035, 9036, 9039, 9042,\n",
    "#                      9055, 9056, 9057, 9058, 9083, 9084, 9096, 9097, 9099, 9101,\n",
    "#                      9105, 9106, 9109, 9110, 9113, 9118, 9122, 9124, 9125, 9126,\n",
    "#                      9142, 9145, 9147, 9168, 9176, 9184, 9192, 9216],\n",
    "#             'cantabrico': [],\n",
    "#             'duero': [2002, 2004, 2010, 2011, 2019, 2020, 2022, 2024, 2032, 2040,\n",
    "#                       2041, 2044, 2047, 2049, 2056, 2073, 2075, 2077, 2078,\n",
    "#                       2087, 2102, 2103, 2107, 2108, 2019, 2124, 2129, 2134],\n",
    "#             'tajo': [3003, 3012, 3030, 3041, 3045, 3052, 3060, 3061, 3062, 3067,\n",
    "#                      3070, 3080, 3082, 3144, 3147, 3153, 3158, 3159, 3169, 3186,\n",
    "#                      3213, 3230, 3232, 3238, 3254, 3255, 3259, 3266, 3268, 3940],\n",
    "#             'minho': [],\n",
    "#             'guadalquivir': [5001, 5020, 5039, 5041, 5077, 5090],\n",
    "#             'segura': [7003, 7006, 7013, 7016, 7018, 7030, 7063],\n",
    "#             'jucar': [8005, 8015, 8018, 8025, 8027, 8074, 8093, 8096, 8099, 8107,\n",
    "#                       8112, 8119, 8129, 8139, 8140, 8141, 8147, ],\n",
    "#             'galicia': []}\n",
    "\n",
    "# estaciones_.drop(eliminar[catchment], axis=0, inplace=True)\n",
    "\n",
    "# print(f'{estaciones_.shape[0]} estaciones fueron seleccionadas')"
   ]
  },
  {
   "cell_type": "code",
   "execution_count": 20,
   "id": "7bdf873a-9a23-4790-8498-12e959ee627b",
   "metadata": {},
   "outputs": [
    {
     "name": "stdout",
     "output_type": "stream",
     "text": [
      "nº de estaciones seleccionadas:\t331\n"
     ]
    }
   ],
   "source": [
    "# crear campo booleano con las estaciones seleccionadas\n",
    "estaciones['sel'] = (~estaciones.ini_cal.isnull()).astype(int)\n",
    "for cuenca in cuencas:\n",
    "    estaciones.loc[eliminar[cuenca], 'sel'] = 0\n",
    "\n",
    "print('nº de estaciones seleccionadas:\\t{0}'.format((estaciones.sel == 1).sum()))"
   ]
  },
  {
   "cell_type": "code",
   "execution_count": 21,
   "id": "b98ff141-e52e-46a2-8b0c-31127ba79954",
   "metadata": {},
   "outputs": [],
   "source": [
    "# estaciones a eliminar porque hay otra estación cercana\n",
    "eliminar2 = {'CANTABRICO': ['1303'],\n",
    "            'DUERO': ['2076', '2070', '2068', '2117', '2710', '2123', '2097', '2085', ],\n",
    "            'EBRO': ['9153', '9046', '9091', '9043', '9268', '9018', '9313', '9253', '9329', '9050'],\n",
    "            'GALICIA': ['1440', '1483'],\n",
    "            'GUADALQUIVIR': ['5076', '5128', '5080'],\n",
    "            'GUADIANA': [],\n",
    "            'JUCAR': ['8030'],\n",
    "            'MINHO': ['1644', '1645','1626', '1625', '1628', '1621', '1607', '1608', '1617', '1754',\n",
    "                      '1727', '1722', '1724'],\n",
    "            'SEGURA': ['7165', '7117', '7129'],\n",
    "            'TAJO': ['3194', '3102', '3159'],\n",
    "            }"
   ]
  },
  {
   "cell_type": "code",
   "execution_count": 22,
   "id": "024c1276-cf0e-4c31-8784-af26bf52ab5c",
   "metadata": {},
   "outputs": [
    {
     "name": "stdout",
     "output_type": "stream",
     "text": [
      "nº de estaciones seleccionadas:\t287\n"
     ]
    }
   ],
   "source": [
    "for cuenca in cuencas:\n",
    "    estaciones.loc[eliminar2[cuenca], 'sel'] = 0\n",
    "\n",
    "print('nº de estaciones seleccionadas:\\t{0}'.format((estaciones.sel == 1).sum()))"
   ]
  },
  {
   "cell_type": "markdown",
   "id": "042593bc-4c38-4bcd-b693-051d36199a6f",
   "metadata": {},
   "source": [
    "## Exportar resultados"
   ]
  },
  {
   "cell_type": "code",
   "execution_count": 23,
   "id": "af77ce76-f792-4151-87f0-6a944e3ddde0",
   "metadata": {},
   "outputs": [],
   "source": [
    "# exportar todas las estaciones juntas\n",
    "estaciones.to_file(f'{path_GIS}estaciones.shp', driver='ESRI Shapefile', index=True)"
   ]
  },
  {
   "cell_type": "code",
   "execution_count": 24,
   "id": "f477bbbb-8a97-497b-995b-a645c5fc8517",
   "metadata": {},
   "outputs": [],
   "source": [
    "# exportar las series de caudal\n",
    "caudal.to_parquet(f'{path_out}caudal.parquet')"
   ]
  },
  {
   "cell_type": "code",
   "execution_count": 25,
   "id": "12b8d725-dbcf-48e3-a3f6-e2081b0b1e8b",
   "metadata": {},
   "outputs": [],
   "source": [
    "# exportar todos los embalses juntos\n",
    "embalses.rename(columns={'nom_embalse': 'nombre'}, inplace=True)\n",
    "embalses.to_file(f'{path_GIS}embalses.shp', driver='ESRI Shapefile', index=True)"
   ]
  }
 ],
 "metadata": {
  "kernelspec": {
   "display_name": "Python 3 (ipykernel)",
   "language": "python",
   "name": "python3"
  },
  "language_info": {
   "codemirror_mode": {
    "name": "ipython",
    "version": 3
   },
   "file_extension": ".py",
   "mimetype": "text/x-python",
   "name": "python",
   "nbconvert_exporter": "python",
   "pygments_lexer": "ipython3",
   "version": "3.11.4"
  }
 },
 "nbformat": 4,
 "nbformat_minor": 5
}
