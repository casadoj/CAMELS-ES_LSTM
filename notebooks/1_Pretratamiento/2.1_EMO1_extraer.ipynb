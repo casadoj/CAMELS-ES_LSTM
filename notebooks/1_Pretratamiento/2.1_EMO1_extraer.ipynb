{
 "cells": [
  {
   "cell_type": "markdown",
   "id": "0c2a2e01-b653-43f3-846b-011f87f9c747",
   "metadata": {},
   "source": [
    "# EMO1 - extraer\n",
    "***\n",
    "\n",
    "***Autor:** Jesús Casado Rodríguez*<br>\n",
    "***Fecha:** 16-09-2023*<br>\n",
    "\n",
    "**Introducción:**<br>\n",
    "En este _notebook_ se recortan espacialmente los datos originales de EMO-1 a la Península Ibérica.\n",
    "\n",
    "**Por hacer:**<br>"
   ]
  },
  {
   "cell_type": "code",
   "execution_count": null,
   "id": "71f3e1e4-a29e-409b-bf1a-3396f394ad45",
   "metadata": {},
   "outputs": [],
   "source": [
    "import os\n",
    "os.environ['USE_PYGEOS'] = '0'\n",
    "import glob\n",
    "import xarray as xr\n",
    "from tqdm import tqdm"
   ]
  },
  {
   "cell_type": "code",
   "execution_count": 3,
   "id": "3fba90ca-fb1c-4817-84e2-9c01613967bc",
   "metadata": {},
   "outputs": [],
   "source": [
    "# directorio donde se encuentran los datos originales\n",
    "path_EMO = '../../../EMO-5/'"
   ]
  },
  {
   "cell_type": "code",
   "execution_count": 29,
   "id": "3c7ab39b-2206-40f0-87e5-56c386a012b0",
   "metadata": {},
   "outputs": [],
   "source": [
    "# extensión de la Península Ibérica en el sistema de coordenadas epsg:3035\n",
    "x_extent = (2.6e6, 3.9e6)\n",
    "y_extent = (2.5e6, 1.5e6)"
   ]
  },
  {
   "cell_type": "code",
   "execution_count": 33,
   "id": "80cbc3d9-8718-497e-903e-0a3013e37bbd",
   "metadata": {},
   "outputs": [
    {
     "name": "stderr",
     "output_type": "stream",
     "text": [
      "\n",
      "  0%|                                                                                            | 0/2 [00:00<?, ?it/s]\u001b[A\n",
      " 50%|█████████████████████████████████████████▌                                         | 1/2 [07:28<07:28, 448.50s/it]\u001b[A\n",
      "100%|███████████████████████████████████████████████████████████████████████████████████| 2/2 [14:22<00:00, 431.04s/it]\u001b[A\n"
     ]
    }
   ],
   "source": [
    "for file in tqdm(glob.glob(f'{path_EMO}EMO-5-*_1990_2019.nc')):\n",
    "    # cargar los datos \n",
    "    data = xr.open_dataset(file, chunks='auto')\n",
    "    \n",
    "\n",
    "    # recortar a España\n",
    "    data_esp = data.sel(x=slice(*x_extent), y=slice(*y_extent))\n",
    "    \n",
    "    # exportar dataset recortado\n",
    "    data_esp.to_netcdf(file.replace('.nc', '_esp.nc'))\n",
    "    \n",
    "    # eliminar archivo original\n",
    "    data.close()\n",
    "    os.remove(file)"
   ]
  },
  {
   "cell_type": "raw",
   "id": "f5baf649-6e4d-4d62-8d3d-ea0d84132dc8",
   "metadata": {},
   "source": []
  }
 ],
 "metadata": {
  "kernelspec": {
   "display_name": "Python 3 (ipykernel)",
   "language": "python",
   "name": "python3"
  },
  "language_info": {
   "codemirror_mode": {
    "name": "ipython",
    "version": 3
   },
   "file_extension": ".py",
   "mimetype": "text/x-python",
   "name": "python",
   "nbconvert_exporter": "python",
   "pygments_lexer": "ipython3",
   "version": "3.11.4"
  }
 },
 "nbformat": 4,
 "nbformat_minor": 5
}
