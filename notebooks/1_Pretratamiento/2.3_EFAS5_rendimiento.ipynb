{
 "cells": [
  {
   "cell_type": "markdown",
   "id": "0c2a2e01-b653-43f3-846b-011f87f9c747",
   "metadata": {},
   "source": [
    "# EFAS - discharge\n",
    "***\n",
    "\n",
    "***Autor:** Jesús Casado Rodríguez*<br>\n",
    "***Fecha:** 21-10-2023*<br>\n",
    "\n",
    "**Introducción:**<br>\n"
   ]
  },
  {
   "cell_type": "code",
   "execution_count": 22,
   "id": "57b7baf5-b8a9-410a-80d5-8e8e2fedaa9a",
   "metadata": {},
   "outputs": [],
   "source": [
    "import os\n",
    "os.environ['USE_PYGEOS'] = '0'\n",
    "import glob\n",
    "import numpy as np\n",
    "import pandas as pd\n",
    "import geopandas as gpd\n",
    "from shapely.geometry import mapping, Point\n",
    "import xarray as xr\n",
    "import rioxarray\n",
    "import matplotlib.pyplot as plt\n",
    "import seaborn as sns\n",
    "import cartopy.crs as ccrs\n",
    "import cartopy.feature as cf\n",
    "import matplotlib.gridspec as gridspec\n",
    "from matplotlib.cm import ScalarMappable\n",
    "from tqdm.notebook import tqdm\n",
    "import yaml\n",
    "\n",
    "from funciones import *\n",
    "from metricas_rendimiento import KGE, KGEmod, ECDF"
   ]
  },
  {
   "cell_type": "code",
   "execution_count": 23,
   "id": "26cff8c6-b775-4268-a61c-dc1a60802d6b",
   "metadata": {},
   "outputs": [],
   "source": [
    "import matplotlib as mpl\n",
    "\n",
    "def create_cmap(cmap, bounds, name='', specify_color=None):\n",
    "    \"\"\"Given the name of a colour map and the boundaries, it creates a discrete colour ramp for future plots\n",
    "    \n",
    "    Inputs:\n",
    "    ------\n",
    "    cmap:          string. Matplotlib's name of a colourmap. E.g. 'coolwarm', 'Blues'...\n",
    "    bounds:        list. Values that define the limits of the discrete colour ramp\n",
    "    name:          string. Optional. Name given to the colour ramp\n",
    "    specify_color: tuple (position, color). It defines a specific color for a specific position in the colour scale. Position must be an integer, and color must be either a colour name or a tuple of 4 floats (red, gren, blue, transparency)\n",
    "    \n",
    "    Outputs:\n",
    "    --------\n",
    "    cmap:   List of colours\n",
    "    norm:   List of boundaries\n",
    "    \"\"\"\n",
    "    \n",
    "    cmap = plt.get_cmap(cmap)\n",
    "    cmaplist = [cmap(i) for i in range(cmap.N)]\n",
    "    if specify_color is not None:\n",
    "        cmaplist[specify_color[0]] = specify_color[1]\n",
    "    cmap = mpl.colors.LinearSegmentedColormap.from_list(name, cmaplist, cmap.N)\n",
    "    norm = mpl.colors.BoundaryNorm(bounds, cmap.N)\n",
    "    \n",
    "    return cmap, norm"
   ]
  },
  {
   "cell_type": "markdown",
   "id": "6537c5ba-f72d-4e94-a2fb-eccd77311378",
   "metadata": {},
   "source": [
    "## Configuración"
   ]
  },
  {
   "cell_type": "code",
   "execution_count": 2,
   "id": "cfa73ec4-9d31-4418-ab79-3b232bbd0d86",
   "metadata": {},
   "outputs": [],
   "source": [
    "with open(\"config.yml\", \"r\", encoding='utf8') as ymlfile:\n",
    "    cfg = yaml.load(ymlfile, Loader=yaml.FullLoader)\n",
    "\n",
    "# ruta donde se ubican los datos del Anurio de Aforos\n",
    "path_anuario = Path('../../data/anuario_aforos/')\n",
    "path_EFAS = Path('../../data/EFASv5/')\n",
    "path_camels = Path(cfg['rutas'].get('CAMELS', '../../data/CAMELS-ES/'))\n",
    "\n",
    "# inicio y fin del periodo de estudio\n",
    "start = cfg['periodo'].get('inicio', None)\n",
    "end = cfg['periodo'].get('final', None)\n",
    "start, end = [pd.to_datetime(i) for i in [start, end]]\n",
    "\n",
    "# tamaño de las muestras de entrenamiento y validación\n",
    "train_size = cfg.get('train_size', .6)\n",
    "assert 0 < train_size <= 1., '\"train_size\" debe de ser un valor entre 0 y 1'\n",
    "val_size = cfg.get('val_size', .2)\n",
    "assert 0 < val_size <= 1., '\"train_size\" debe de ser un valor entre 0 y 1'\n",
    "if train_size + val_size > 1:\n",
    "    val_size = 1 - train_size\n",
    "    print(f'El valor de \"val_size\" fue truncado a {val_size:.2f}')\n",
    "seed = cfg.get('seed', 0)\n",
    "\n",
    "# sistema de referencia de coordenadas de todos los datos\n",
    "crs = 'epsg:4326'\n",
    "\n",
    "# directorio donde guardar los resultados\n",
    "path_out = Path('../../data/EFASv5/discharge/')\n",
    "if path_out.exists() is False:\n",
    "    path_out.mkdir()"
   ]
  },
  {
   "cell_type": "code",
   "execution_count": null,
   "id": "8f42bb8d-005c-4287-856e-4434a1eaa231",
   "metadata": {},
   "outputs": [],
   "source": [
    "# path_AA = 'C:/Users/jcr693/Documents/anuario_aforos/'"
   ]
  },
  {
   "cell_type": "code",
   "execution_count": null,
   "id": "ac9b0207-7ad0-47b0-aebd-bc8f2592ade3",
   "metadata": {},
   "outputs": [],
   "source": [
    "# # directorios con los datos de EFAS\n",
    "# path_EFAS = '../data/EFASv5/'\n",
    "# # path_discharge = f'{path_EFAS}iberia/discharge/'\n",
    "\n",
    "# # directorio con las capas GIS\n",
    "# path_GIS = '../data/GIS/'\n",
    "\n",
    "# # sistema de referencia de coordenadas de todos los datos\n",
    "# crs = 'epsg:4326'"
   ]
  },
  {
   "cell_type": "code",
   "execution_count": null,
   "id": "7e5232ce-c207-4750-a3fb-101edcb8c9d5",
   "metadata": {},
   "outputs": [],
   "source": [
    "# start = '1991-10-01'\n",
    "# end = '2020-09-30'"
   ]
  },
  {
   "cell_type": "markdown",
   "id": "2e71bc97-e7b5-42aa-b852-5cab4009038a",
   "metadata": {},
   "source": [
    "## Estaciones"
   ]
  },
  {
   "cell_type": "code",
   "execution_count": 11,
   "id": "60bb372e-808e-470a-8f06-0c69ab7a55b2",
   "metadata": {},
   "outputs": [
    {
     "name": "stdout",
     "output_type": "stream",
     "text": [
      "nº de estaciones:\t278\n",
      "nº de atributos:\t10\n"
     ]
    }
   ],
   "source": [
    "# cargar tabla de atributos de Caravan\n",
    "atributos = pd.read_csv(path_camels / 'attributes/attributes_caravan_es.csv', index_col=0)\n",
    "atributos.index = atributos.index.astype(str)\n",
    "# atributos.index = [id.split('_')[-1] for id in atributos.index]\n",
    "\n",
    "print('nº de estaciones:\\t{0}\\nnº de atributos:\\t{1}'.format(*atributos.shape))"
   ]
  },
  {
   "cell_type": "code",
   "execution_count": 25,
   "id": "8b349305-9554-443d-bda5-fe1bd9143457",
   "metadata": {},
   "outputs": [],
   "source": [
    "demarcaciones = gpd.read_file('../../data/cartografia/hidrografia/demarcaciones.shp')\n",
    "mask = demarcaciones.NOM_DEMAR.isin(['CANTABRICO ORIENTAL', 'CANTABRICO OCCIDENTAL', 'DUERO', 'EBRO', 'GALICIA-COSTA',\n",
    "                                     'GUADALQUIVIR', 'GUADIANA', 'JUCAR', 'MIÑO-SIL', 'SEGURA', 'TAJO'])\n",
    "demarcaciones = demarcaciones[mask]"
   ]
  },
  {
   "cell_type": "code",
   "execution_count": 12,
   "id": "91ecf2e3-b249-4fb9-8388-ff267ae7c6d5",
   "metadata": {},
   "outputs": [],
   "source": [
    "# cargar estaciones\n",
    "estaciones = gpd.read_file(path_anuario / 'GIS' / 'estaciones.shp')\n",
    "estaciones.set_index('indroea', drop=False, inplace=True)\n",
    "\n",
    "# quitar estaciones de la selección\n",
    "estaciones.loc[~estaciones.index.isin(atributos.index), 'sel'] = 0\n",
    "borrar = ['2048', '3233', '3251', '3255', '4207', '4212', '4214',\n",
    "          '5140', '7112', '7121', '8027', '8092', '8140', '8148', '9087', '9255']\n",
    "estaciones.loc[borrar, 'sel'] = 0\n",
    "\n",
    "mask_stn = estaciones.sel == 1"
   ]
  },
  {
   "cell_type": "code",
   "execution_count": 13,
   "id": "aa956a95-40cd-4e11-8285-0bf482a0068e",
   "metadata": {},
   "outputs": [
    {
     "name": "stdout",
     "output_type": "stream",
     "text": [
      "nº de cuencas en la capa de polígonos:\t269\n"
     ]
    }
   ],
   "source": [
    "# recortar cuencas según la tabla de atributos\n",
    "cuencas = cuencas.loc[mask_stn, :]\n",
    "cuencas.index.name = 'gauge_id'\n",
    "\n",
    "# generar nuevos campos\n",
    "cuencas['gauge_name'] = estaciones.lugar\n",
    "cuencas['gauge_lat'] = estaciones.latwgs84\n",
    "cuencas['gauge_lon'] = estaciones.longwgs84\n",
    "cuencas['country'] = 'Spain'\n",
    "cuencas.area_skm = cuencas.area_skm.astype(int)\n",
    "\n",
    "# eliminar campos\n",
    "cuencas.drop(['HydroID'], axis=1, inplace=True)\n",
    "\n",
    "# reordenar\n",
    "cuencas = cuencas[['gauge_name', 'gauge_lat', 'gauge_lon', 'country', 'area_skm', 'geometry']]\n",
    "\n",
    "n_cuencas = cuencas.shape[0]\n",
    "print('nº de cuencas en la capa de polígonos:\\t{0}'.format(n_cuencas))"
   ]
  },
  {
   "cell_type": "markdown",
   "id": "6911da8d-f25f-4c1a-92ce-ec9841f60eb5",
   "metadata": {},
   "source": [
    "## Caudal histórico EFASv5 "
   ]
  },
  {
   "cell_type": "code",
   "execution_count": 14,
   "id": "766a22d8-dacd-4976-ae09-d2ed64fd9c35",
   "metadata": {},
   "outputs": [
    {
     "data": {
      "text/plain": [
       "(10593, 269)"
      ]
     },
     "execution_count": 14,
     "metadata": {},
     "output_type": "execute_result"
    }
   ],
   "source": [
    "Qsim = xr.open_dataset(path_EFAS / 'caudal/estaciones/dis_1990_2023.nc')['discharge'].to_pandas()\n",
    "Qsim = Qsim.loc[start:end,:]\n",
    "\n",
    "Qsim.shape"
   ]
  },
  {
   "cell_type": "code",
   "execution_count": 15,
   "id": "6c4db6bc-3f30-490c-a649-fb18ad4f57b9",
   "metadata": {},
   "outputs": [],
   "source": [
    "# # cargar datos de los NetCDF\n",
    "# Qsim = xr.open_mfdataset(f'{path_EFAS}caudal/selected_stations/dis_*.nc')['discharge'].compute().to_pandas()\n",
    "\n",
    "# # recortar al periodo de estudio\n",
    "# Qsim = Qsim.loc[start:end, :]\n",
    "\n",
    "# # # exportar series de caudal observado\n",
    "# # Qsim.to_parquet('../data/EFASv5/caudal/reanalisis_seleccion.parquet')"
   ]
  },
  {
   "cell_type": "markdown",
   "id": "64cea88e-bcba-46ef-90ed-27368048d061",
   "metadata": {},
   "source": [
    "Traer del PC del trabajo el código que extrae las series de caudal. Ver si es posible mover también los NetCDF originales de EFAS para la Península Ibérica.\n",
    "\n",
    "Cargar las series del Anuario de Aforos y calcular el KGE de cada estación, y la CDF del conjunto."
   ]
  },
  {
   "cell_type": "markdown",
   "id": "0f9125c7-4617-4d3d-a5cd-05497a756e55",
   "metadata": {},
   "source": [
    "## Caudal _Anuario de Aforos_"
   ]
  },
  {
   "cell_type": "code",
   "execution_count": 16,
   "id": "2d6bb2c7-3705-4f9f-9346-39b1c3ab2a5f",
   "metadata": {},
   "outputs": [
    {
     "data": {
      "text/plain": [
       "(10593, 269)"
      ]
     },
     "execution_count": 16,
     "metadata": {},
     "output_type": "execute_result"
    }
   ],
   "source": [
    "Qobs = pd.read_parquet(path_anuario / 'caudal.parquet')\n",
    "Qobs = Qobs[cuencas.index]\n",
    "\n",
    "Qobs.shape"
   ]
  },
  {
   "cell_type": "markdown",
   "id": "5298868d-ef4a-4020-b3bc-6aaffabc6882",
   "metadata": {},
   "source": [
    "### Rendimiento"
   ]
  },
  {
   "cell_type": "code",
   "execution_count": 18,
   "id": "a4bf54b3-c741-4ea9-b54c-c15224de533f",
   "metadata": {},
   "outputs": [
    {
     "data": {
      "application/vnd.jupyter.widget-view+json": {
       "model_id": "083a884787fa4952a7140bb26e104c9f",
       "version_major": 2,
       "version_minor": 0
      },
      "text/plain": [
       "  0%|          | 0/269 [00:00<?, ?it/s]"
      ]
     },
     "metadata": {},
     "output_type": "display_data"
    }
   ],
   "source": [
    "cuencas['KGE'] = np.nan\n",
    "for id in tqdm(cuencas.index):\n",
    "    cuencas.loc[id, 'KGE'] = KGE(Qobs[id], Qsim[id])[0]\n",
    "cuencas.sort_values('area_skm',ascending=False, inplace=True)"
   ]
  },
  {
   "cell_type": "code",
   "execution_count": 28,
   "id": "78cc5d50-a1bf-463e-9328-445ff888a34d",
   "metadata": {},
   "outputs": [],
   "source": [
    "cmap, norm = create_cmap('RdBu', [-10, -1, -.75, -.5, -.25, 0, .25, .5, .75, 1], name='KGE')"
   ]
  },
  {
   "cell_type": "code",
   "execution_count": 36,
   "id": "815c6886-b181-4131-98b3-2de97a18a760",
   "metadata": {},
   "outputs": [
    {
     "name": "stderr",
     "output_type": "stream",
     "text": [
      "C:\\ProgramFiles\\Anaconda3\\envs\\tfm\\Lib\\site-packages\\geopandas\\plotting.py:732: FutureWarning: is_categorical_dtype is deprecated and will be removed in a future version. Use isinstance(dtype, CategoricalDtype) instead\n",
      "  if pd.api.types.is_categorical_dtype(values.dtype):\n"
     ]
    },
    {
     "data": {
      "image/png": "[encoded data removed]",
      "text/plain": [
       "<Figure size 1000x375 with 3 Axes>"
      ]
     },
     "metadata": {},
     "output_type": "display_data"
    }
   ],
   "source": [
    "# Create a 1x2 grid of subplots using GridSpec\n",
    "fig = plt.figure(figsize=(10, 3.75))\n",
    "gs = gridspec.GridSpec(1, 2)\n",
    "proj = ccrs.PlateCarree()\n",
    "\n",
    "# Create the first subplot with PlateCarree projection\n",
    "ax1 = plt.subplot(gs[1], projection=proj)\n",
    "ax1.add_feature(cf.NaturalEarthFeature('physical', 'land', '10m', edgecolor=None, facecolor='lightgray'),\n",
    "               zorder=0)\n",
    "ax1.set_extent([-9.5, 3.5, 36, 44.5], crs=proj)\n",
    "demarcaciones.plot(ax=ax1, facecolor='none', edgecolor='w', linewidth=0.6, zorder=2)\n",
    "cuencas.plot(column='KGE', cmap=cmap, norm=norm, alpha=1, ax=ax1, zorder=1)\n",
    "sm = ScalarMappable(cmap=cmap, norm=norm)\n",
    "sm.set_array([])\n",
    "ax1.axis('off')\n",
    "# colorbar\n",
    "cax = fig.add_axes([0.555, 0.05, 0.333, 0.025])\n",
    "cbar = plt.colorbar(sm, location='bottom', shrink=.5, cax=cax)\n",
    "cbar.set_label('KGE (-)', rotation=0)\n",
    "cbar.ax.tick_params(size=0)\n",
    "cax.set_xticklabels(['', '-1.0', '-0.75', '-0.5', '-0.25', '0.0', '0.25', '0.5', '0.75', '1.0'])\n",
    "# cax.spines[['top', 'left', 'bottom', 'right']].set_visible(False)\n",
    "\n",
    "ax2 = plt.subplot(gs[0])\n",
    "ax2.plot(ECDF(cuencas.KGE, plot=False), label='EFASv5', lw=1.2, c='steelblue', ls='-')\n",
    "ax2.set(xlim=(-.01, 1.01),\n",
    "       xlabel='ECDF (-)',\n",
    "       ylim=(-1.02, 1.02),\n",
    "       ylabel='KGE (-)')\n",
    "# ax.spines[['top', 'right']].set_visible(False)\n",
    "ax2.legend(frameon=False, loc=4);\n",
    "\n",
    "# plt.savefig('../../docs/fig3_rendimiento_EFASv5.jpg', dpi=300, bbox_inches='tight');"
   ]
  },
  {
   "cell_type": "code",
   "execution_count": null,
   "id": "02860a76-d6a3-434d-82f3-1647c0885115",
   "metadata": {},
   "outputs": [],
   "source": [
    "cuencas['KGE_EFAS'] = np.nan\n",
    "cuencas.loc[estaciones.index, 'KGE_EFAS'] = estaciones.KGE"
   ]
  },
  {
   "cell_type": "code",
   "execution_count": null,
   "id": "e05df28b-a7e7-43a3-9a88-136209256225",
   "metadata": {},
   "outputs": [],
   "source": []
  },
  {
   "cell_type": "code",
   "execution_count": null,
   "id": "f554a186-4349-41bb-bacc-6b99a7bd0c43",
   "metadata": {},
   "outputs": [],
   "source": []
  },
  {
   "cell_type": "code",
   "execution_count": null,
   "id": "eb3a8a91-92f3-4415-9f46-82eb01f71fb0",
   "metadata": {},
   "outputs": [],
   "source": [
    "# cuencas = [dir for dir in os.listdir(path_AA) if os.path.isdir(os.path.join(path_AA, dir))]\n",
    "# Qobs = pd.DataFrame(index=pd.date_range(start, end, freq='1d'), dtype=float)\n",
    "# for cuenca in tqdm(cuencas):\n",
    "#     ids = estaciones[(estaciones.cuenca == cuenca.lower())].index.to_list()\n",
    "#     Q = caudal_anuario_aforos(f'{path_AA}{cuenca}/afliq.csv', indroea=ids, start=start, end=end)\n",
    "#     Qobs = pd.concat((Qobs, Q), axis=1)"
   ]
  },
  {
   "cell_type": "code",
   "execution_count": null,
   "id": "bbd27c46-b8c8-4442-a2f2-4f345b10bec7",
   "metadata": {},
   "outputs": [],
   "source": [
    "cuenca"
   ]
  },
  {
   "cell_type": "code",
   "execution_count": null,
   "id": "ace879ea-3931-4142-ae91-6474e00fd96c",
   "metadata": {},
   "outputs": [],
   "source": [
    "estaciones[(estaciones.cuenca == cuenca.lower())].index.to_list()"
   ]
  },
  {
   "cell_type": "code",
   "execution_count": null,
   "id": "2e87c70d-f347-4637-adb6-694030fe81dc",
   "metadata": {},
   "outputs": [],
   "source": [
    "Q = caudal_anuario_aforos(f'{path_AA}{cuenca}/afliq.csv', start=start, end=end)"
   ]
  },
  {
   "cell_type": "code",
   "execution_count": null,
   "id": "270c12f8-61ad-4ad5-b76a-ba9750bc6e6a",
   "metadata": {},
   "outputs": [],
   "source": [
    "Q.columns"
   ]
  },
  {
   "cell_type": "code",
   "execution_count": null,
   "id": "cf2dd850-2ebc-4740-90d1-01e4de80745c",
   "metadata": {},
   "outputs": [],
   "source": [
    "ids"
   ]
  },
  {
   "cell_type": "code",
   "execution_count": null,
   "id": "fb9ef5ea-3d9a-4966-b26e-1148f21aca4e",
   "metadata": {},
   "outputs": [],
   "source": [
    "    # # cargar series temporales\n",
    "    # data = pd.read_csv(f'{path_AA}{cuenca}/afliq.csv', sep=';', index_col='indroea')\n",
    "    # data.index = data.index.astype(str)\n",
    "    # data.fecha = pd.to_datetime(data.fecha, dayfirst=True)\n",
    "\n",
    "    # # mantener sólo estaciones seleccionadas\n",
    "    # ids = list(set(data.index).intersection(estaciones.index))\n",
    "    # data = data.loc[ids, :]\n",
    "    # if data.shape[0] == 0:\n",
    "    #     continue\n",
    "\n",
    "    # # recortar a la fecha de estudio\n",
    "    # data = data.loc[(data.fecha >= start) & (data.fecha <= end),:]\n",
    "\n",
    "    # # reformatear series de caudal y nivel\n",
    "    # Q = pd.DataFrame(index=pd.date_range(data.fecha.min(), data.fecha.max(), freq='1d'), columns=data.index.unique(), dtype=float) \n",
    "    # for stn in Q.columns:\n",
    "    #     data_stn = data.loc[stn].set_index('fecha', drop=True)\n",
    "    #     Q[stn] = data_stn.caudal\n",
    "\n",
    "    # Qobs = pd.concat((Qobs, Q), axis=1)"
   ]
  },
  {
   "cell_type": "code",
   "execution_count": null,
   "id": "b9ef7282-e04b-4374-9bcd-05dccd3f85e3",
   "metadata": {},
   "outputs": [],
   "source": [
    "# exportar series de caudal observado\n",
    "Qobs.to_parquet('../data/anuario_aforos/caudal_seleccion.parquet')"
   ]
  },
  {
   "cell_type": "markdown",
   "id": "921ae0eb-654a-442d-9b87-988ae589d552",
   "metadata": {},
   "source": [
    "## Rendimiento EFASv5"
   ]
  },
  {
   "cell_type": "code",
   "execution_count": null,
   "id": "a6699f1f-3364-47d5-88bc-d9df6caa3574",
   "metadata": {},
   "outputs": [],
   "source": [
    "# calcular el coeficiente de eficiencia de Kling-Gupta de cada estación\n",
    "estaciones['KGE_EFAS'] = pd.Series({id: KGE(Qobs[id], Qsim[id]) for id in estaciones.index}, name='KGE')"
   ]
  },
  {
   "cell_type": "code",
   "execution_count": null,
   "id": "d57805b1-dc9b-4a0e-8aa0-f44ade866a85",
   "metadata": {},
   "outputs": [],
   "source": [
    "# plot subcuencas\n",
    "proj = ccrs.PlateCarree()\n",
    "fig, ax = plt.subplots(subplot_kw={'projection': proj})\n",
    "ax.add_feature(cf.NaturalEarthFeature('physical', 'land', '50m', edgecolor=None, facecolor='lightgray'), zorder=0)\n",
    "ax.set_extent([-9.5, 3.5, 36, 44.5], crs=proj)\n",
    "subcuencas.plot(ax=ax, facecolor='none', edgecolor='k', linewidth=0.35)\n",
    "estaciones.plot(c=estaciones.KGE_EFAS, cmap='coolwarm_r', markersize=10, ax=ax)\n",
    "# ax.scatter(estaciones.geometry.x, estaciones.geometry.y, s=10, c=estaciones.KGE_EFAS, cmap='coolwarm')\n",
    "ax.axis('off');"
   ]
  },
  {
   "cell_type": "code",
   "execution_count": null,
   "id": "baf3537b-e301-49b9-ba77-28d150fff796",
   "metadata": {},
   "outputs": [],
   "source": [
    "ecdf_KGE = ECDF(estaciones.KGE_EFAS, plot=True, title='EFASv5', ylabel='KGE (-)')"
   ]
  }
 ],
 "metadata": {
  "kernelspec": {
   "display_name": "Python 3 (ipykernel)",
   "language": "python",
   "name": "python3"
  },
  "language_info": {
   "codemirror_mode": {
    "name": "ipython",
    "version": 3
   },
   "file_extension": ".py",
   "mimetype": "text/x-python",
   "name": "python",
   "nbconvert_exporter": "python",
   "pygments_lexer": "ipython3",
   "version": "3.11.4"
  }
 },
 "nbformat": 4,
 "nbformat_minor": 5
}
