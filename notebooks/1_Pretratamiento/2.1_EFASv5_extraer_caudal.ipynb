{
 "cells": [
  {
   "cell_type": "markdown",
   "id": "d98f2de6-4f1d-4a51-9a01-0f8648716d5e",
   "metadata": {},
   "source": [
    "# EFASv5 - extraer caudal\n",
    "***\n",
    "\n",
    "***Autor:** Jesús Casado*<br>\n",
    "***Fecha:** 08-08-2023*<br>"
   ]
  },
  {
   "cell_type": "code",
   "execution_count": null,
   "id": "ca48db8a-7b13-45ac-9e1e-fc277489f783",
   "metadata": {},
   "outputs": [],
   "source": [
    "import os\n",
    "os.environ['USE_PYGEOS'] = '0'\n",
    "import glob\n",
    "import numpy as np\n",
    "import pandas as pd\n",
    "import xarray as xr\n",
    "import matplotlib.pyplot as plt\n",
    "import geopandas as gpd\n",
    "# from shapely.geometry import Point\n",
    "from tqdm.notebook import tqdm"
   ]
  },
  {
   "cell_type": "markdown",
   "id": "8ac20535-30d3-4520-a390-6bac8f561ac2",
   "metadata": {},
   "source": [
    "## Configuración"
   ]
  },
  {
   "cell_type": "code",
   "execution_count": null,
   "id": "30f80c36-6e05-4eee-bb39-7b19679e32c5",
   "metadata": {},
   "outputs": [],
   "source": [
    "path_EFAS = '../../EFASv5/iberia/'\n",
    "\n",
    "path_out = '../EFASv5/discharge/reanalysis/'\n",
    "if os.path.exists(path_out) is False:\n",
    "    os.makedirs(path_out)\n",
    "    \n",
    "estaciones = 'EFAS' # ROEA\n",
    "\n",
    "folder = {'EFAS': 'reporting_poitns',\n",
    "          'ROEA': 'selected_stations'}"
   ]
  },
  {
   "cell_type": "markdown",
   "id": "fbf729fd-b337-44f7-9c5b-79c664555cf4",
   "metadata": {},
   "source": [
    "## Estaciones\n",
    "### Estaciones ROEA"
   ]
  },
  {
   "cell_type": "code",
   "execution_count": null,
   "id": "9528620c-7ddb-4d36-80cf-1a2ab89d7610",
   "metadata": {},
   "outputs": [],
   "source": [
    "if estaciones == 'ROEA':\n",
    "    \n",
    "    # cargar shapefile de puntos\n",
    "    puntos = gpd.read_file('../estaciones_seleccion_EFAS.shp')\n",
    "    puntos.set_index('indroea', drop=True, inplace=True)\n",
    "\n",
    "    # xarrays con las coordenadas de las estaciones\n",
    "    x = xr.DataArray(puntos.geometry.x, dims='id')\n",
    "    y = xr.DataArray(puntos.geometry.y, dims='id')"
   ]
  },
  {
   "cell_type": "markdown",
   "id": "6c69fda9-287f-4687-9700-c15362431efe",
   "metadata": {},
   "source": [
    "### Puntos de EFAS"
   ]
  },
  {
   "cell_type": "code",
   "execution_count": null,
   "id": "b8174a13-125a-41cf-98cb-0514e0102516",
   "metadata": {},
   "outputs": [],
   "source": [
    "if estaciones == 'EFAS':\n",
    "    \n",
    "    # cargar shapefile de puntos\n",
    "    puntos = gpd.read_file(f'{path_EFAS}reporting_points.shp')\n",
    "    puntos.geometry = gpd.points_from_xy(puntos.LisfloodX, puntos.LisfloodY)\n",
    "    puntos.set_index('ObsID', drop=True, inplace=True)\n",
    "\n",
    "    # xarrays con las coordenadas de las estaciones\n",
    "    x = xr.DataArray(puntos.geometry.x, dims='id')\n",
    "    y = xr.DataArray(puntos.geometry.y, dims='id')"
   ]
  },
  {
   "cell_type": "markdown",
   "id": "b82e883c-52a1-45c6-9b07-73dc885169df",
   "metadata": {},
   "source": [
    "## Caudal\n",
    "### Reanálisis EFAS"
   ]
  },
  {
   "cell_type": "code",
   "execution_count": null,
   "id": "874e5c59-e6dc-400e-b1bb-ec75b78dda72",
   "metadata": {},
   "outputs": [],
   "source": [
    "# extreaer series de caudal archivo a archivo\n",
    "files = glob.glob(f'{path_EFAS}reanalysis/dis_*.nc')\n",
    "for file in tqdm(files):\n",
    "    \n",
    "    # check if output file already exists\n",
    "    file_out = '{0}{1}/{2}'.format(path_out, folder[estaciones], file.split('\\\\')[-1])\n",
    "    if os.path.exists(file_out):\n",
    "        continue\n",
    "    \n",
    "    # load data\n",
    "    dis = xr.open_dataset(file, chunks='auto')['dis']\n",
    "    dis.close()\n",
    "    \n",
    "    # extract discharge for the selected stations\n",
    "    dis = dis.sel(lon=x, lat=y, method='nearest')\n",
    "    dis = dis.drop(['lon', 'lat'])\n",
    "    \n",
    "    # resample to daily timesteps. WARNING! The data is shifted 6 h!!!\n",
    "    #dis['time'] = dis.time + np.timedelta64(6, 'h')\n",
    "    dis = dis.resample(time='1D').mean()\n",
    "    \n",
    "    break\n",
    "    \n",
    "    # compute the lazy DataArray\n",
    "    dis = dis.compute()\n",
    "\n",
    "    # export\n",
    "    dis.name = 'discharge'\n",
    "    dis.to_netcdf(file_out)"
   ]
  }
 ],
 "metadata": {
  "kernelspec": {
   "display_name": "Python 3 (ipykernel)",
   "language": "python",
   "name": "python3"
  },
  "language_info": {
   "codemirror_mode": {
    "name": "ipython",
    "version": 3
   },
   "file_extension": ".py",
   "mimetype": "text/x-python",
   "name": "python",
   "nbconvert_exporter": "python",
   "pygments_lexer": "ipython3",
   "version": "3.11.4"
  }
 },
 "nbformat": 4,
 "nbformat_minor": 5
}
