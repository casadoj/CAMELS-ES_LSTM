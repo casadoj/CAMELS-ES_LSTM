{
 "cells": [
  {
   "cell_type": "markdown",
   "id": "d98f2de6-4f1d-4a51-9a01-0f8648716d5e",
   "metadata": {},
   "source": [
    "# EFASv5 - extraer caudal\n",
    "***\n",
    "\n",
    "***Autor:** Jesús Casado Rodríguez*<br>\n",
    "***Fecha:** 23-09-2023*<br>\n",
    "\n",
    "**Introducción:**<br>\n",
    "Este _notebook_ extrae las series temporales de caudal simulado por el reanálisis de EFASv5 en los puntos/estaciones de interés.\n",
    "\n",
    "Si se define `estaciones = 'ROEA'`, se carga una capa de puntos con las estaciones de aforo de la Red Oficial de Estaciones de Aforo seleccionadas en el notebook *1_Anuario_seleccion_estaciones.ipynb*. En esta capa GIS incluye las coordenadas corregidas para que los puntos se ubiquen sobre lo que EFASv5 considera río.\n",
    "\n",
    "Si se define `estaciones = 'EFAS'`, se carga una capa de puntas con los puntos de reporte del sistema EFAS."
   ]
  },
  {
   "cell_type": "code",
   "execution_count": 6,
   "id": "ca48db8a-7b13-45ac-9e1e-fc277489f783",
   "metadata": {},
   "outputs": [],
   "source": [
    "import os\n",
    "os.environ['USE_PYGEOS'] = '0'\n",
    "import glob\n",
    "import numpy as np\n",
    "import pandas as pd\n",
    "import xarray as xr\n",
    "import matplotlib.pyplot as plt\n",
    "import geopandas as gpd\n",
    "# from shapely.geometry import Point\n",
    "from tqdm.notebook import tqdm\n",
    "import yaml\n",
    "from pathlib import Path"
   ]
  },
  {
   "cell_type": "markdown",
   "id": "8ac20535-30d3-4520-a390-6bac8f561ac2",
   "metadata": {},
   "source": [
    "## Configuración"
   ]
  },
  {
   "cell_type": "code",
   "execution_count": 29,
   "id": "7053c4c2-facb-43db-920e-a24ee399387b",
   "metadata": {},
   "outputs": [],
   "source": [
    "with open(\"config.yml\", \"r\", encoding='utf8') as ymlfile:\n",
    "    cfg = yaml.load(ymlfile, Loader=yaml.FullLoader)\n",
    "\n",
    "# rutas de entrada y salida de datos\n",
    "path_anuario = Path(cfg['rutas']['anuario_aforos']['repo'])\n",
    "path_efas = Path(cfg['rutas']['EFAS'].get('repo', '../../data/EFAS'))\n",
    "path_out = path_out / 'caudal'\n",
    "for path in [path_out]:\n",
    "    if path.exists() is False:\n",
    "        path.mkdir()"
   ]
  },
  {
   "cell_type": "markdown",
   "id": "2fdb90d6-f88a-42df-9422-2b42aa60bb9d",
   "metadata": {},
   "source": [
    "Definir si se van a extraer las series para los puntos del *Anuario de Aforos* (ROEA) o para los puntos de EFAS."
   ]
  },
  {
   "cell_type": "code",
   "execution_count": 43,
   "id": "a6df292a-aed6-4c51-a9b8-e66569583338",
   "metadata": {},
   "outputs": [],
   "source": [
    "estaciones = 'ROEA' #'EFAS'"
   ]
  },
  {
   "cell_type": "markdown",
   "id": "fbf729fd-b337-44f7-9c5b-79c664555cf4",
   "metadata": {},
   "source": [
    "## Estaciones\n",
    "### Estaciones ROEA"
   ]
  },
  {
   "cell_type": "code",
   "execution_count": 44,
   "id": "9528620c-7ddb-4d36-80cf-1a2ab89d7610",
   "metadata": {},
   "outputs": [],
   "source": [
    "if estaciones == 'ROEA':\n",
    "    \n",
    "    # cargar shapefile de puntos\n",
    "    puntos = gpd.read_file(path_anuario / 'GIS/estaciones_seleccion_LISFLOOD.shp')\n",
    "    puntos.set_index('gauge_id', drop=True, inplace=True)\n",
    "\n",
    "    # xarrays con las coordenadas de las estaciones\n",
    "    x = xr.DataArray(puntos.geometry.x, dims='id')\n",
    "    y = xr.DataArray(puntos.geometry.y, dims='id')"
   ]
  },
  {
   "cell_type": "markdown",
   "id": "6c69fda9-287f-4687-9700-c15362431efe",
   "metadata": {},
   "source": [
    "### Puntos de EFAS"
   ]
  },
  {
   "cell_type": "code",
   "execution_count": 34,
   "id": "b8174a13-125a-41cf-98cb-0514e0102516",
   "metadata": {},
   "outputs": [],
   "source": [
    "if estaciones == 'EFAS':\n",
    "    \n",
    "    # cargar shapefile de puntos\n",
    "    puntos = gpd.read_file(path_efas / 'GIS/reporting_points.shp')\n",
    "    # puntos.geometry = gpd.points_from_xy(puntos.LisfloodX, puntos.LisfloodY)\n",
    "    puntos.set_index('ObsID', drop=True, inplace=True)\n",
    "\n",
    "    # xarrays con las coordenadas de las estaciones\n",
    "    x = xr.DataArray(puntos.geometry.x, dims='id')\n",
    "    y = xr.DataArray(puntos.geometry.y, dims='id')"
   ]
  },
  {
   "cell_type": "markdown",
   "id": "b82e883c-52a1-45c6-9b07-73dc885169df",
   "metadata": {},
   "source": [
    "## Caudal\n",
    "### Reanálisis EFAS"
   ]
  },
  {
   "cell_type": "code",
   "execution_count": null,
   "id": "a1618e8f-fcf1-4849-bb71-51c9c49491bb",
   "metadata": {},
   "outputs": [],
   "source": [
    "folder = {'EFAS': 'reporting_points',\n",
    "          'ROEA': 'estaciones'}\n",
    "\n",
    "# extreaer series de caudal archivo a archivo\n",
    "for file in tqdm(glob.glob(f'{path_efas}/reanalysis/dis_*.nc')):\n",
    "\n",
    "    # check if output file already exists\n",
    "    file_out = '{0}/{1}/{2}'.format(path_out, folder[estaciones], file.split('\\\\')[-1])\n",
    "    if os.path.exists(file_out):\n",
    "        continue\n",
    "    \n",
    "    # load data\n",
    "    dis = xr.open_dataset(file, chunks='auto')['dis']\n",
    "    dis.close()\n",
    "    \n",
    "    # extract discharge for the selected stations\n",
    "    dis = dis.sel(lon=x, lat=y, method='nearest')\n",
    "    dis = dis.drop(['lon', 'lat'])\n",
    "    \n",
    "    # resample to daily timesteps. WARNING! The data is shifted 6 h!!!\n",
    "    #dis['time'] = dis.time + np.timedelta64(6, 'h')\n",
    "    dis = dis.resample(time='1D').mean()\n",
    "        \n",
    "    # compute the lazy DataArray\n",
    "    dis = dis.compute()\n",
    "\n",
    "    # export\n",
    "    dis.name = 'discharge'\n",
    "    dis.to_netcdf(file_out)"
   ]
  }
 ],
 "metadata": {
  "kernelspec": {
   "display_name": "Python 3 (ipykernel)",
   "language": "python",
   "name": "python3"
  },
  "language_info": {
   "codemirror_mode": {
    "name": "ipython",
    "version": 3
   },
   "file_extension": ".py",
   "mimetype": "text/x-python",
   "name": "python",
   "nbconvert_exporter": "python",
   "pygments_lexer": "ipython3",
   "version": "3.11.4"
  }
 },
 "nbformat": 4,
 "nbformat_minor": 5
}
