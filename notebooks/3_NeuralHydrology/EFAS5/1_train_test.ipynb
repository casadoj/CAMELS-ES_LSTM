{
 "cells": [
  {
   "cell_type": "markdown",
   "metadata": {
    "id": "a5tGM7HbkLVV"
   },
   "source": [
    "# LSTM EFAS5: entrenamiento y validación\n",
    "***\n",
    "\n",
    "***Autor:** Jesús Casado Rodríguez*<br>\n",
    "***Fecha:** 30-09-2023*<br>\n",
    "\n",
    "**Introducción:**<br>\n",
    "En este _notebook_ se analizan entrena y valida el modelo LSTM que replica el caudal simulado en EFAS5.\n",
    "\n",
    "**Por hacer**:"
   ]
  },
  {
   "cell_type": "code",
   "execution_count": null,
   "metadata": {
    "executionInfo": {
     "elapsed": 11101,
     "status": "ok",
     "timestamp": 1694888998973,
     "user": {
      "displayName": "Jesús Casado Rodríguez",
      "userId": "18221488739992928084"
     },
     "user_tz": -120
    },
    "id": "SsdhqIPCkQvD"
   },
   "outputs": [],
   "source": [
    "%%capture\n",
    "! pip install neuralhydrology"
   ]
  },
  {
   "cell_type": "code",
   "execution_count": null,
   "metadata": {
    "executionInfo": {
     "elapsed": 14362,
     "status": "ok",
     "timestamp": 1694889013330,
     "user": {
      "displayName": "Jesús Casado Rodríguez",
      "userId": "18221488739992928084"
     },
     "user_tz": -120
    },
    "id": "a_W-qdQ9kLVc"
   },
   "outputs": [],
   "source": [
    "import pickle\n",
    "import pandas as pd\n",
    "from pathlib import Path\n",
    "import torch\n",
    "from tqdm.notebook import tqdm\n",
    "\n",
    "from neuralhydrology.utils.config import Config\n",
    "from neuralhydrology.evaluation import metrics\n",
    "from neuralhydrology.nh_run import start_run, eval_run"
   ]
  },
  {
   "cell_type": "code",
   "execution_count": null,
   "metadata": {
    "colab": {
     "base_uri": "https://localhost:8080/"
    },
    "executionInfo": {
     "elapsed": 28595,
     "status": "ok",
     "timestamp": 1694889041910,
     "user": {
      "displayName": "Jesús Casado Rodríguez",
      "userId": "18221488739992928084"
     },
     "user_tz": -120
    },
    "id": "2hhaQf-tk0bL",
    "outputId": "46b78685-59b2-4794-e227-f046743564a0"
   },
   "outputs": [],
   "source": [
    "from google.colab import drive\n",
    "drive.mount('/content/drive')"
   ]
  },
  {
   "cell_type": "code",
   "execution_count": null,
   "metadata": {
    "colab": {
     "base_uri": "https://localhost:8080/"
    },
    "executionInfo": {
     "elapsed": 3092,
     "status": "ok",
     "timestamp": 1694889044991,
     "user": {
      "displayName": "Jesús Casado Rodríguez",
      "userId": "18221488739992928084"
     },
     "user_tz": -120
    },
    "id": "IIZeExFFtbfe",
    "outputId": "d9b9eed6-19ee-4c8f-c6d0-138fdf64eb4f"
   },
   "outputs": [],
   "source": [
    "%cd /content/drive/MyDrive/TFM/notebook/models/\n",
    "from model_utils import *\n",
    "%cd ./EFAS5/"
   ]
  },
  {
   "cell_type": "markdown",
   "metadata": {
    "id": "hmggHyt3tbff"
   },
   "source": [
    "### Configuración"
   ]
  },
  {
   "cell_type": "code",
   "execution_count": null,
   "metadata": {
    "colab": {
     "base_uri": "https://localhost:8080/"
    },
    "executionInfo": {
     "elapsed": 785,
     "status": "ok",
     "timestamp": 1694890697661,
     "user": {
      "displayName": "Jesús Casado Rodríguez",
      "userId": "18221488739992928084"
     },
     "user_tz": -120
    },
    "id": "sC9wXa4Itbff",
    "outputId": "67b7a2d5-d6f3-489d-f2f0-78e6cef220fe"
   },
   "outputs": [],
   "source": [
    "# cargar archivo de configuración\n",
    "config_file = Path('config_test3.yml')\n",
    "cfg = Config(config_file)\n",
    "\n",
    "target = cfg.target_variables[0]\n",
    "\n",
    "print(cfg.experiment_name)\n",
    "print('epochs:', cfg.epochs, sep='\\t\\t')\n",
    "print('hidden size:', cfg.hidden_size, sep='\\t')\n",
    "print('batch size:', cfg.batch_size, sep='\\t')\n",
    "print('dropout:', cfg.output_dropout, sep='\\t')\n",
    "print('clip gradients:', cfg.clip_gradient_norm, sep='\\t')"
   ]
  },
  {
   "cell_type": "markdown",
   "metadata": {
    "id": "I4hagTCytbfh"
   },
   "source": [
    "### Entrenamiento"
   ]
  },
  {
   "cell_type": "code",
   "execution_count": null,
   "metadata": {
    "colab": {
     "base_uri": "https://localhost:8080/"
    },
    "executionInfo": {
     "elapsed": 809902,
     "status": "ok",
     "timestamp": 1694891514032,
     "user": {
      "displayName": "Jesús Casado Rodríguez",
      "userId": "18221488739992928084"
     },
     "user_tz": -120
    },
    "id": "M-KLDY-gkLVe",
    "outputId": "e9376484-4a08-474f-8fd8-5f44a8e52182"
   },
   "outputs": [],
   "source": [
    "# si se dispone de GPU\n",
    "if torch.cuda.is_available():\n",
    "    start_run(config_file=config_file)\n",
    "# si sólo se dispone de CPU\n",
    "else:\n",
    "    start_run(config_file=config_file, gpu=-1)"
   ]
  },
  {
   "cell_type": "markdown",
   "metadata": {
    "id": "iObWtn15kLVf"
   },
   "source": [
    "### Simulación"
   ]
  },
  {
   "cell_type": "code",
   "execution_count": null,
   "metadata": {
    "executionInfo": {
     "elapsed": 12,
     "status": "ok",
     "timestamp": 1694891514033,
     "user": {
      "displayName": "Jesús Casado Rodríguez",
      "userId": "18221488739992928084"
     },
     "user_tz": -120
    },
    "id": "HEHrK63jz4X8"
   },
   "outputs": [],
   "source": [
    "run_dir = Path(f'runs/{cfg.experiment_name}_1609_185822')"
   ]
  },
  {
   "cell_type": "code",
   "execution_count": null,
   "metadata": {},
   "outputs": [],
   "source": [
    "# extraer el rendimiento de cada época y muestra\n",
    "metrics = pd.DataFrame(columns=range(1, cfg.epochs + 1))\n",
    "for epoch in tqdm(metrics.columns):\n",
    "    try:\n",
    "        _, metrics[epoch] = get_results(run_dir, 'validation', epoch=epoch)\n",
    "    except:\n",
    "        continue\n",
    "\n",
    "best_epoch = metrics.median().idxmax()\n",
    "print('mejor época: {0}\\t\\tKGE = {1:.3f}'.format(best_epoch, metrics.median().max()))"
   ]
  },
  {
   "cell_type": "markdown",
   "metadata": {},
   "source": [
    "#### Periodo de entrenamiento"
   ]
  },
  {
   "cell_type": "code",
   "execution_count": null,
   "metadata": {
    "colab": {
     "base_uri": "https://localhost:8080/"
    },
    "executionInfo": {
     "elapsed": 915209,
     "status": "ok",
     "timestamp": 1694892429233,
     "user": {
      "displayName": "Jesús Casado Rodríguez",
      "userId": "18221488739992928084"
     },
     "user_tz": -120
    },
    "id": "WIDqiVX-2pVa",
    "outputId": "86aae21f-f20e-4c84-8925-406f5a697e7e"
   },
   "outputs": [],
   "source": [
    "period = 'train'\n",
    "\n",
    "if run_all:\n",
    "    for epoch in np.arange(1, cfg.epochs + 1):\n",
    "        if torch.cuda.is_available(): # con GPU\n",
    "            eval_run(run_dir=run_dir, period=period, epoch=epoch, gpu=0)\n",
    "        else: # con CPU\n",
    "            eval_run(run_dir=run_dir, period=period, epoch=epoch, gpu=-1)\n",
    "else:\n",
    "    if torch.cuda.is_available(): # con GPU\n",
    "        eval_run(run_dir=run_dir, period=period, epoch=best_epoch, gpu=0)\n",
    "    else: # con CPU\n",
    "        eval_run(run_dir=run_dir, period=period, epoch=best_epoch, gpu=-1)"
   ]
  },
  {
   "cell_type": "markdown",
   "metadata": {
    "colab": {
     "base_uri": "https://localhost:8080/"
    },
    "executionInfo": {
     "elapsed": 386582,
     "status": "ok",
     "timestamp": 1694892815792,
     "user": {
      "displayName": "Jesús Casado Rodríguez",
      "userId": "18221488739992928084"
     },
     "user_tz": -120
    },
    "id": "c7LOqDMb2qz9",
    "outputId": "0b421401-d3d4-46b9-9237-f3e4196acc6e"
   },
   "source": [
    "#### Periodo de evaluación"
   ]
  },
  {
   "cell_type": "code",
   "execution_count": null,
   "metadata": {},
   "outputs": [],
   "source": [
    "period = 'test'\n",
    "\n",
    "if run_all:\n",
    "    for epoch in np.arange(1, cfg.epochs + 1):\n",
    "        if torch.cuda.is_available(): # con GPU\n",
    "            eval_run(run_dir=run_dir, period=period, epoch=epoch, gpu=0)\n",
    "        else: # con CPU\n",
    "            eval_run(run_dir=run_dir, period=period, epoch=epoch, gpu=-1)\n",
    "else:\n",
    "    if torch.cuda.is_available(): # con GPU\n",
    "        eval_run(run_dir=run_dir, period=period, epoch=best_epoch, gpu=0)\n",
    "    else: # con CPU\n",
    "        eval_run(run_dir=run_dir, period=period, epoch=best_epoch, gpu=-1)"
   ]
  }
 ],
 "metadata": {
  "accelerator": "GPU",
  "colab": {
   "gpuType": "V100",
   "provenance": []
  },
  "kernelspec": {
   "display_name": "Python 3 (ipykernel)",
   "language": "python",
   "name": "python3"
  },
  "language_info": {
   "codemirror_mode": {
    "name": "ipython",
    "version": 3
   },
   "file_extension": ".py",
   "mimetype": "text/x-python",
   "name": "python",
   "nbconvert_exporter": "python",
   "pygments_lexer": "ipython3",
   "version": "3.10.8"
  }
 },
 "nbformat": 4,
 "nbformat_minor": 4
}
