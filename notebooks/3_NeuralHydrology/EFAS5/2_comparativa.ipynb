{
 "cells": [
  {
   "cell_type": "markdown",
   "id": "7483730b-354f-4429-885e-676cad736c60",
   "metadata": {
    "id": "a5tGM7HbkLVV"
   },
   "source": [
    "# LSTM CAMELS-ES: comparativa\n",
    "***\n",
    "\n",
    "***Autor:** Jesús Casado Rodríguez*<br>\n",
    "***Fecha:** 16-09-2023*<br>\n",
    "\n",
    "**Introducción:**<br>\n",
    "En este _notebook_ se comparan los distintos modelos LSTM entrenados sobre los datos de CAMELS-ES.\n",
    "\n",
    "**Por hacer**:"
   ]
  },
  {
   "cell_type": "code",
   "execution_count": 1,
   "id": "dcba7aa9-ae8f-4ad1-836c-ebb2e2420596",
   "metadata": {},
   "outputs": [],
   "source": [
    "import numpy as np\n",
    "import pandas as pd\n",
    "import os\n",
    "import glob\n",
    "from tqdm.notebook import tqdm\n",
    "from pathlib import Path\n",
    "from neuralhydrology.utils.config import Config\n",
    "\n",
    "os.chdir('../')\n",
    "from model_utils import *\n",
    "os.chdir('EFAS5/')"
   ]
  },
  {
   "cell_type": "code",
   "execution_count": 6,
   "id": "5d0c48e4-afed-432f-8b9d-6585a95173a2",
   "metadata": {},
   "outputs": [
    {
     "data": {
      "application/vnd.jupyter.widget-view+json": {
       "model_id": "2c7822ad0e73441d9b833190e029ae67",
       "version_major": 2,
       "version_minor": 0
      },
      "text/plain": [
       "  0%|          | 0/7 [00:00<?, ?it/s]"
      ]
     },
     "metadata": {},
     "output_type": "display_data"
    },
    {
     "name": "stdout",
     "output_type": "stream",
     "text": [
      "EFAS_test1          \tmejor época: 3\t\tKGE = 0.747\n",
      "EFAS_test2          \tmejor época: 6\t\tKGE = 0.459\n",
      "EFAS_test3.1        \tmejor época: 3\t\tKGE = 0.682\n",
      "EFAS_test3.2        \tmejor época: 1\t\tKGE = 0.615\n",
      "EFAS_test3.3        \tmejor época: 8\t\tKGE = 0.745\n",
      "EFAS_test3.4        \tmejor época: 6\t\tKGE = 0.751\n",
      "EFAS_test3.5        \tmejor época: 5\t\tKGE = 0.664\n"
     ]
    }
   ],
   "source": [
    "runs = [Path(x) for x in glob.glob('runs/EFAS*') if os.path.isdir(x)]\n",
    "names = [Config(Path(run) / 'config.yml').experiment_name for run in runs]\n",
    "\n",
    "compare = pd.DataFrame(index=names, columns=['train', 'validation', 'test'])\n",
    "for run in tqdm(runs):\n",
    "    cfg = Config(Path(run) / 'config.yml')\n",
    "    name = cfg.experiment_name\n",
    "    # extraer el rendimiento de cada época y muestra\n",
    "    df = pd.DataFrame(columns=range(1, cfg.epochs + 1))\n",
    "    for epoch in df.columns:\n",
    "        try:\n",
    "            _, df[epoch] = get_results(Path(run), 'validation', epoch=epoch)\n",
    "        except:\n",
    "            continue\n",
    "    \n",
    "    epoch = df.median().idxmax()\n",
    "    print('{0:<20}\\tmejor época: {1}\\t\\tKGE = {2:.3f}'.format(name, epoch, df.median().max()))\n",
    "    \n",
    "    for period in ['train', 'validation', 'test']:\n",
    "        _, rend = get_results(Path(run), period, epoch=epoch)\n",
    "        compare.loc[name, period] = rend.median().values[0]"
   ]
  },
  {
   "cell_type": "code",
   "execution_count": 7,
   "id": "09b131ac-f699-4217-8e88-15204d122784",
   "metadata": {},
   "outputs": [
    {
     "data": {
      "text/html": [
       "<div>\n",
       "<style scoped>\n",
       "    .dataframe tbody tr th:only-of-type {\n",
       "        vertical-align: middle;\n",
       "    }\n",
       "\n",
       "    .dataframe tbody tr th {\n",
       "        vertical-align: top;\n",
       "    }\n",
       "\n",
       "    .dataframe thead th {\n",
       "        text-align: right;\n",
       "    }\n",
       "</style>\n",
       "<table border=\"1\" class=\"dataframe\">\n",
       "  <thead>\n",
       "    <tr style=\"text-align: right;\">\n",
       "      <th></th>\n",
       "      <th>train</th>\n",
       "      <th>validation</th>\n",
       "      <th>test</th>\n",
       "    </tr>\n",
       "  </thead>\n",
       "  <tbody>\n",
       "    <tr>\n",
       "      <th>EFAS_test1</th>\n",
       "      <td>0.800841</td>\n",
       "      <td>0.747094</td>\n",
       "      <td>0.712037</td>\n",
       "    </tr>\n",
       "    <tr>\n",
       "      <th>EFAS_test2</th>\n",
       "      <td>0.813124</td>\n",
       "      <td>0.458677</td>\n",
       "      <td>0.449706</td>\n",
       "    </tr>\n",
       "    <tr>\n",
       "      <th>EFAS_test3.1</th>\n",
       "      <td>0.762351</td>\n",
       "      <td>0.68199</td>\n",
       "      <td>0.697903</td>\n",
       "    </tr>\n",
       "    <tr>\n",
       "      <th>EFAS_test3.2</th>\n",
       "      <td>0.803864</td>\n",
       "      <td>0.61529</td>\n",
       "      <td>0.707814</td>\n",
       "    </tr>\n",
       "    <tr>\n",
       "      <th>EFAS_test3.3</th>\n",
       "      <td>0.820202</td>\n",
       "      <td>0.744633</td>\n",
       "      <td>0.732228</td>\n",
       "    </tr>\n",
       "    <tr>\n",
       "      <th>EFAS_test3.4</th>\n",
       "      <td>0.891496</td>\n",
       "      <td>0.750842</td>\n",
       "      <td>0.79124</td>\n",
       "    </tr>\n",
       "    <tr>\n",
       "      <th>EFAS_test3.5</th>\n",
       "      <td>0.849329</td>\n",
       "      <td>0.663674</td>\n",
       "      <td>0.70751</td>\n",
       "    </tr>\n",
       "  </tbody>\n",
       "</table>\n",
       "</div>"
      ],
      "text/plain": [
       "                 train validation      test\n",
       "EFAS_test1    0.800841   0.747094  0.712037\n",
       "EFAS_test2    0.813124   0.458677  0.449706\n",
       "EFAS_test3.1  0.762351    0.68199  0.697903\n",
       "EFAS_test3.2  0.803864    0.61529  0.707814\n",
       "EFAS_test3.3  0.820202   0.744633  0.732228\n",
       "EFAS_test3.4  0.891496   0.750842   0.79124\n",
       "EFAS_test3.5  0.849329   0.663674   0.70751"
      ]
     },
     "execution_count": 7,
     "metadata": {},
     "output_type": "execute_result"
    }
   ],
   "source": [
    "compare"
   ]
  },
  {
   "cell_type": "markdown",
   "id": "d0c1a404-4064-4856-9cf0-a8968464be68",
   "metadata": {},
   "source": [
    "Escojo como mejor modelo el llamado `CAMELS-ES_hidden128`."
   ]
  },
  {
   "cell_type": "code",
   "execution_count": null,
   "id": "ff6af09e-a544-4745-8188-47b3c06b3ba5",
   "metadata": {},
   "outputs": [],
   "source": []
  }
 ],
 "metadata": {
  "kernelspec": {
   "display_name": "Python 3 (ipykernel)",
   "language": "python",
   "name": "python3"
  },
  "language_info": {
   "codemirror_mode": {
    "name": "ipython",
    "version": 3
   },
   "file_extension": ".py",
   "mimetype": "text/x-python",
   "name": "python",
   "nbconvert_exporter": "python",
   "pygments_lexer": "ipython3",
   "version": "3.10.8"
  }
 },
 "nbformat": 4,
 "nbformat_minor": 5
}
