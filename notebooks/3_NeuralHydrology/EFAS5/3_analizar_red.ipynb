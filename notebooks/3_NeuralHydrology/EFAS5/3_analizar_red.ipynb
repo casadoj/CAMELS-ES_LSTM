{
 "cells": [
  {
   "cell_type": "markdown",
   "id": "e61ee494-13fb-48f0-a7a7-800a646ca286",
   "metadata": {},
   "source": [
    "# LSTM EFAS5: analizar la red\n",
    "***\n",
    "\n",
    "***Autor:** Jesús Casado Rodríguez*<br>\n",
    "***Fecha:** 25-09-2023*<br>\n",
    "\n",
    "**Introducción:**<br>\n",
    "En este _notebook_ se analiza la red entrenada en el modelo LSTM que replica el caudal simulado en EFAS5 a partir de las series meteorológicas de EMO1 y los atributos estáticos derivados de los mapas estáticos de LISFLOOD y los parámetros calibrados del modelo LISFLOOD.\n",
    "\n",
    "**Por hacer**:"
   ]
  },
  {
   "cell_type": "code",
   "execution_count": 1,
   "id": "e31723f0-575e-477c-937c-32df9d199765",
   "metadata": {
    "tags": []
   },
   "outputs": [],
   "source": [
    "import pandas as pd\n",
    "from pathlib import Path\n",
    "import matplotlib.pyplot as plt\n",
    "from tqdm.notebook import tqdm\n",
    "import torch\n",
    "from torch.utils.data import DataLoader\n",
    "from neuralhydrology.evaluation import metrics\n",
    "from neuralhydrology.datasetzoo import get_dataset, genericdataset, camelsus\n",
    "from neuralhydrology.evaluation.utils import load_scaler\n",
    "from neuralhydrology.modelzoo.cudalstm import CudaLSTM\n",
    "from neuralhydrology.modelzoo.customlstm import CustomLSTM\n",
    "from neuralhydrology.nh_run import start_run\n",
    "from neuralhydrology.utils.config import Config"
   ]
  },
  {
   "cell_type": "code",
   "execution_count": 2,
   "id": "74ff7d97-a56a-4bee-9fb6-8b5ed3c7beef",
   "metadata": {},
   "outputs": [],
   "source": [
    "# definir experimento y simulación\n",
    "run = 'EFAS_test3_2609_093820'\n",
    "run_dir = Path(f'runs/{run}')\n",
    "config_file = Path(run_dir / 'config.yml')"
   ]
  },
  {
   "cell_type": "code",
   "execution_count": 3,
   "id": "7e64493f-67a9-47c9-abff-f19dbdda7bc2",
   "metadata": {
    "tags": []
   },
   "outputs": [],
   "source": [
    "# config_file = Path('config.yml')\n",
    "# run_dir = Path(\"runs/EFAS_2008_153350\")"
   ]
  },
  {
   "cell_type": "code",
   "execution_count": 4,
   "id": "49f68f52-999a-438e-8f70-7c095caf4e8d",
   "metadata": {
    "tags": []
   },
   "outputs": [],
   "source": [
    "# # by default we assume that you have at least one CUDA-capable NVIDIA GPU\n",
    "# if torch.cuda.is_available():\n",
    "#     start_run(config_file=config_file)\n",
    "\n",
    "# # fall back to CPU-only mode\n",
    "# else:\n",
    "#     start_run(config_file=config_file, gpu=-1)"
   ]
  },
  {
   "cell_type": "markdown",
   "id": "5cc6b9af-1b3d-44a1-b306-fe1ed0044344",
   "metadata": {},
   "source": [
    "### Modelo"
   ]
  },
  {
   "cell_type": "code",
   "execution_count": 6,
   "id": "a0591639-6728-45ee-8cfc-e1d8811c0ad6",
   "metadata": {
    "tags": []
   },
   "outputs": [],
   "source": [
    "# cargar archivo de configuración\n",
    "config = Config(config_file)\n",
    "epoch = 8 #config.epochs"
   ]
  },
  {
   "cell_type": "code",
   "execution_count": 7,
   "id": "48b55a49-5ba1-4753-aed5-74e60f29fcbf",
   "metadata": {
    "tags": []
   },
   "outputs": [],
   "source": [
    "# cargar los pesos del modelo entrenado\n",
    "model_path = run_dir / f'model_epoch{epoch:03}.pt'\n",
    "model_weights = torch.load(str(model_path), map_location='cpu')  # load the weights from the file, creating the weight tensors on CPU"
   ]
  },
  {
   "cell_type": "markdown",
   "id": "d9a0ba3b-c638-4852-b107-1378341f8c44",
   "metadata": {},
   "source": [
    "**CudaLSTM**"
   ]
  },
  {
   "cell_type": "code",
   "execution_count": 8,
   "id": "79b44b40-f06b-4b37-8b5a-d22c19de80f4",
   "metadata": {
    "tags": []
   },
   "outputs": [
    {
     "data": {
      "text/plain": [
       "CudaLSTM(\n",
       "  (embedding_net): InputLayer(\n",
       "    (statics_embedding): Identity()\n",
       "    (dynamics_embedding): Identity()\n",
       "  )\n",
       "  (lstm): LSTM(46, 128)\n",
       "  (dropout): Dropout(p=0.5, inplace=False)\n",
       "  (head): Regression(\n",
       "    (net): Sequential(\n",
       "      (0): Linear(in_features=128, out_features=1, bias=True)\n",
       "    )\n",
       "  )\n",
       ")"
      ]
     },
     "execution_count": 8,
     "metadata": {},
     "output_type": "execute_result"
    }
   ],
   "source": [
    "# crear un nuevo modelo CudaLSTM con pesos aleatorios\n",
    "cuda_lstm = CudaLSTM(cfg=config)\n",
    "\n",
    "# asignar los pesos del modelo entrenado\n",
    "cuda_lstm.load_state_dict(model_weights)\n",
    "cuda_lstm"
   ]
  },
  {
   "cell_type": "markdown",
   "id": "1534f5c4-20d8-4be8-a9e8-0f34cc1671a0",
   "metadata": {},
   "source": [
    "**CustomLSTM**"
   ]
  },
  {
   "cell_type": "code",
   "execution_count": 9,
   "id": "3f825411-37a2-4ae9-a9a7-8f5386a167d3",
   "metadata": {
    "tags": []
   },
   "outputs": [
    {
     "data": {
      "text/plain": [
       "CustomLSTM(\n",
       "  (embedding_net): InputLayer(\n",
       "    (statics_embedding): Identity()\n",
       "    (dynamics_embedding): Identity()\n",
       "  )\n",
       "  (cell): _LSTMCell()\n",
       "  (dropout): Dropout(p=0.5, inplace=False)\n",
       "  (head): Regression(\n",
       "    (net): Sequential(\n",
       "      (0): Linear(in_features=128, out_features=1, bias=True)\n",
       "    )\n",
       "  )\n",
       ")"
      ]
     },
     "execution_count": 9,
     "metadata": {},
     "output_type": "execute_result"
    }
   ],
   "source": [
    "# crear un nuevo CustomLSTM con pesos aleatorios\n",
    "custom_lstm = CustomLSTM(cfg=config)\n",
    "\n",
    "# copiar los pesos del modelo entrenado\n",
    "custom_lstm.copy_weights(cuda_lstm)  \n",
    "custom_lstm"
   ]
  },
  {
   "cell_type": "code",
   "execution_count": null,
   "id": "01f1a72f-0efc-4f6c-ac7a-81e2db4048fa",
   "metadata": {
    "tags": []
   },
   "outputs": [
    {
     "data": {
      "application/vnd.jupyter.widget-view+json": {
       "model_id": "aabb01f2f8b74bf482d5a05aff662c52",
       "version_major": 2,
       "version_minor": 0
      },
      "text/plain": [
       "  0%|          | 0/388 [00:00<?, ?it/s]"
      ]
     },
     "metadata": {},
     "output_type": "display_data"
    }
   ],
   "source": [
    "# make sure we're in eval mode where dropout is deactivated\n",
    "custom_lstm.eval()\n",
    "cuda_lstm.eval()\n",
    "\n",
    "# load the dataset\n",
    "scaler = load_scaler(run_dir)\n",
    "dataset = get_dataset(config, is_train=False, period='test', scaler=scaler)\n",
    "dataloader = DataLoader(dataset, batch_size=1000, shuffle=False, collate_fn=dataset.collate_fn)\n",
    "\n",
    "# cudalstm_output = []\n",
    "customlstm_output = []\n",
    "# no need to calculate any gradients since we're just running some evaluations\n",
    "with torch.no_grad():\n",
    "    for sample in tqdm(dataloader):\n",
    "        customlstm_output.append(custom_lstm(sample))\n",
    "        # cudalstm_output.append(cuda_lstm(sample))\n",
    "\n",
    "# print('CudaLSTM output:  ', list(cudalstm_output[0].keys()))\n",
    "print('CustomLSTM output:', list(customlstm_output[0].keys()))\n",
    "\n",
    "# check if predictions of CustomLSTM and CudaLSTM are identical\n",
    "# print('Identical predictions:', torch.allclose(customlstm_output[0]['y_hat'], cudalstm_output[0]['y_hat'], atol=1e-5))"
   ]
  },
  {
   "cell_type": "code",
   "execution_count": null,
   "id": "f9f72b8f-b77e-478d-9fa1-816d4a8bdf06",
   "metadata": {
    "tags": []
   },
   "outputs": [],
   "source": [
    "# print('CudaLSTM shape:  ', cudalstm_output[0]['c_n'].shape)  # [batch size, 1, hidden size]\n",
    "print('CustomLSTM shape:', customlstm_output[0]['c_n'].shape)  # [batch size, sequence length, hidden size]"
   ]
  },
  {
   "cell_type": "code",
   "execution_count": null,
   "id": "b97faca5-56f2-4690-bb02-1c333f7bb7b0",
   "metadata": {
    "tags": []
   },
   "outputs": [],
   "source": [
    "len(customlstm_output)"
   ]
  },
  {
   "cell_type": "code",
   "execution_count": null,
   "id": "20e068a9-53b1-487e-b67d-5d48ab4c2c1e",
   "metadata": {
    "tags": []
   },
   "outputs": [],
   "source": [
    "# Concatenate all batches into one tensor that contains the final time step of each sample.\n",
    "cell_states = torch.cat([out['c_n'][:, -1, :] for out in customlstm_output], dim=0)\n",
    "\n",
    "# Load the forcings input for the corresponding date range\n",
    "date_range = pd.date_range(config.test_start_date, config.test_end_date, freq='1D')"
   ]
  },
  {
   "cell_type": "code",
   "execution_count": null,
   "id": "eb6da258-fbde-4851-91c5-8c8866c4096e",
   "metadata": {
    "tags": []
   },
   "outputs": [],
   "source": [
    "config.data_dir"
   ]
  },
  {
   "cell_type": "code",
   "execution_count": null,
   "id": "1e813c24-8d8a-4003-9855-41906c331322",
   "metadata": {
    "tags": []
   },
   "outputs": [],
   "source": [
    "forcings = genericdataset.load_timeseries(config.data_dir, '1620').loc[date_range, config.dynamic_inputs]"
   ]
  },
  {
   "cell_type": "code",
   "execution_count": null,
   "id": "aa96ec83-7e78-4d7f-ac5f-903118f6e814",
   "metadata": {
    "tags": []
   },
   "outputs": [],
   "source": [
    "fig, (ax, ax2) = plt.subplots(2, 1, figsize=(15, 6), sharex=True)\n",
    "\n",
    "ax.plot(date_range, cell_states, c='C0', alpha=.2)\n",
    "ax.plot(date_range, cell_states[:, 7], c='C0')\n",
    "\n",
    "ax.set_ylabel('cell state')\n",
    "ax2.set_ylabel('min/max temperature')\n",
    "\n",
    "ax2.plot(date_range, forcings['tmin(C)'], c='C1')\n",
    "ax2.plot(date_range, forcings['tmax(C)'], c='C2')\n",
    "plt.tight_layout()"
   ]
  },
  {
   "cell_type": "code",
   "execution_count": null,
   "id": "9213a767-ec5c-43d8-b9ec-ca83f16b16ef",
   "metadata": {
    "tags": []
   },
   "outputs": [],
   "source": [
    "f, ax = plt.subplots(4, 2, figsize=(20, 14), sharex=True)\n",
    "ax[0,0].set_title('Input values')\n",
    "lines = ax[0,0].plot(dataset[0]['x_d'])  # these are the normalized inputs we fed the LSTM above\n",
    "ax[0,0].legend(lines, config.dynamic_inputs, frameon=False)\n",
    "\n",
    "ax[1,0].set_title('Cell state')\n",
    "ax[1,0].plot(customlstm_output[0]['c_n'][0], alpha=.3)\n",
    "\n",
    "ax[0,1].set_title('Hidden state')\n",
    "ax[0,1].plot(customlstm_output[0]['h_n'][0], alpha=.3)\n",
    "\n",
    "ax[1,1].set_title('Output gate')\n",
    "ax[1,1].plot(customlstm_output[0]['o'][0], alpha=.3)\n",
    "\n",
    "ax[2,0].set_title('Forget gate')\n",
    "ax[2,0].plot(customlstm_output[0]['f'][0], alpha=.3)\n",
    "\n",
    "ax[2,1].set_title('Input gate')\n",
    "ax[2,1].plot(customlstm_output[0]['i'][0], alpha=.3)\n",
    "\n",
    "ax[3,0].set_title('Cell input activation')\n",
    "ax[3,0].plot(customlstm_output[0]['g'][0], alpha=.3)\n",
    "\n",
    "f.delaxes(ax[3,1])\n",
    "plt.tight_layout()"
   ]
  },
  {
   "cell_type": "markdown",
   "id": "11d4a4bc-ba3e-425f-8118-5296381f2445",
   "metadata": {},
   "source": [
    "### Optimizador"
   ]
  },
  {
   "cell_type": "code",
   "execution_count": null,
   "id": "69167f6c-eea2-4e6d-88a3-20ad4dcc21be",
   "metadata": {
    "tags": []
   },
   "outputs": [],
   "source": [
    "optimizer = torch.load(run_dir / f'optimizer_state_epoch{config.epochs:03}.pt', map_location=torch.device('cpu'))"
   ]
  },
  {
   "cell_type": "code",
   "execution_count": null,
   "id": "cbfd2707-76c9-4910-aa0b-2d96bb19f265",
   "metadata": {
    "tags": []
   },
   "outputs": [],
   "source": [
    "optimizer.keys()"
   ]
  },
  {
   "cell_type": "code",
   "execution_count": null,
   "id": "3b20c9d2-9a83-4158-9fe9-3a4207af4bab",
   "metadata": {},
   "outputs": [],
   "source": [
    "optimizer['state']"
   ]
  },
  {
   "cell_type": "code",
   "execution_count": null,
   "id": "a4503a32-1a74-4551-b19e-5070cdb057fe",
   "metadata": {},
   "outputs": [],
   "source": []
  }
 ],
 "metadata": {
  "kernelspec": {
   "display_name": "Python 3 (ipykernel)",
   "language": "python",
   "name": "python3"
  },
  "language_info": {
   "codemirror_mode": {
    "name": "ipython",
    "version": 3
   },
   "file_extension": ".py",
   "mimetype": "text/x-python",
   "name": "python",
   "nbconvert_exporter": "python",
   "pygments_lexer": "ipython3",
   "version": "3.10.8"
  }
 },
 "nbformat": 4,
 "nbformat_minor": 5
}
