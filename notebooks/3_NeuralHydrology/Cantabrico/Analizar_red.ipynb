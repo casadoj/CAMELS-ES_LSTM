{
 "cells": [
  {
   "cell_type": "code",
   "execution_count": 1,
   "id": "3bdeb80e-6b7d-458b-9f66-a5d36231ff38",
   "metadata": {
    "tags": []
   },
   "outputs": [],
   "source": [
    "import pickle\n",
    "import pandas as pd\n",
    "from pathlib import Path\n",
    "import matplotlib.pyplot as plt\n",
    "import seaborn as sns\n",
    "import torch\n",
    "from neuralhydrology.evaluation import metrics"
   ]
  },
  {
   "cell_type": "code",
   "execution_count": 2,
   "id": "bbb3a3c7-af73-43d1-91c6-2d5e312eba45",
   "metadata": {
    "tags": []
   },
   "outputs": [],
   "source": [
    "from typing import Dict\n",
    "\n",
    "from torch.utils.data import DataLoader\n",
    "\n",
    "from neuralhydrology.datasetzoo import get_dataset, camelsus\n",
    "from neuralhydrology.evaluation.utils import load_scaler\n",
    "from neuralhydrology.modelzoo.cudalstm import CudaLSTM\n",
    "from neuralhydrology.modelzoo.customlstm import CustomLSTM\n",
    "from neuralhydrology.nh_run import start_run\n",
    "from neuralhydrology.utils.config import Config"
   ]
  },
  {
   "cell_type": "code",
   "execution_count": 3,
   "id": "7e64493f-67a9-47c9-abff-f19dbdda7bc2",
   "metadata": {
    "tags": []
   },
   "outputs": [],
   "source": [
    "config_file = Path('config.yml')\n",
    "run_dir = Path(\"runs/Cantabrico_1808_095102\")"
   ]
  },
  {
   "cell_type": "markdown",
   "id": "5cc6b9af-1b3d-44a1-b306-fe1ed0044344",
   "metadata": {},
   "source": [
    "### Modelo"
   ]
  },
  {
   "cell_type": "code",
   "execution_count": 4,
   "id": "4846b0e7-46e4-4836-a92b-9687ce3f365a",
   "metadata": {
    "tags": []
   },
   "outputs": [
    {
     "data": {
      "text/plain": [
       "CudaLSTM(\n",
       "  (embedding_net): InputLayer(\n",
       "    (statics_embedding): Identity()\n",
       "    (dynamics_embedding): Identity()\n",
       "  )\n",
       "  (lstm): LSTM(29, 128)\n",
       "  (dropout): Dropout(p=0.4, inplace=False)\n",
       "  (head): Regression(\n",
       "    (net): Sequential(\n",
       "      (0): Linear(in_features=128, out_features=1, bias=True)\n",
       "    )\n",
       "  )\n",
       ")"
      ]
     },
     "execution_count": 4,
     "metadata": {},
     "output_type": "execute_result"
    }
   ],
   "source": [
    "cudalstm_config = Config(config_file)\n",
    "\n",
    "# create a new model instance with random weights\n",
    "cuda_lstm = CudaLSTM(cfg=cudalstm_config)\n",
    "\n",
    "# load the trained weights into the new model.\n",
    "model_path = run_dir / 'model_epoch030.pt'\n",
    "model_weights = torch.load(str(model_path), map_location='cpu')  # load the weights from the file, creating the weight tensors on CPU\n",
    "cuda_lstm.load_state_dict(model_weights)  # set the new model's weights to the values loaded from file\n",
    "cuda_lstm"
   ]
  },
  {
   "cell_type": "code",
   "execution_count": 5,
   "id": "3f825411-37a2-4ae9-a9a7-8f5386a167d3",
   "metadata": {
    "tags": []
   },
   "outputs": [
    {
     "data": {
      "text/plain": [
       "CustomLSTM(\n",
       "  (embedding_net): InputLayer(\n",
       "    (statics_embedding): Identity()\n",
       "    (dynamics_embedding): Identity()\n",
       "  )\n",
       "  (cell): _LSTMCell()\n",
       "  (dropout): Dropout(p=0.4, inplace=False)\n",
       "  (head): Regression(\n",
       "    (net): Sequential(\n",
       "      (0): Linear(in_features=128, out_features=1, bias=True)\n",
       "    )\n",
       "  )\n",
       ")"
      ]
     },
     "execution_count": 5,
     "metadata": {},
     "output_type": "execute_result"
    }
   ],
   "source": [
    "custom_lstm = CustomLSTM(cfg=cudalstm_config)  # create a new CustomLSTM (with random weights)\n",
    "custom_lstm.copy_weights(cuda_lstm)  # copy the CudaLSTM weights into the CustomLSTM\n",
    "custom_lstm"
   ]
  },
  {
   "cell_type": "code",
   "execution_count": 6,
   "id": "35fa8b4a-2e43-4f86-979f-ddee38720f60",
   "metadata": {
    "tags": []
   },
   "outputs": [
    {
     "data": {
      "text/plain": [
       "True"
      ]
     },
     "execution_count": 6,
     "metadata": {},
     "output_type": "execute_result"
    }
   ],
   "source": [
    "torch.allclose(cuda_lstm.lstm.bias_ih_l0, custom_lstm.cell.b_ih)"
   ]
  },
  {
   "cell_type": "code",
   "execution_count": 7,
   "id": "01f1a72f-0efc-4f6c-ac7a-81e2db4048fa",
   "metadata": {
    "tags": []
   },
   "outputs": [
    {
     "name": "stdout",
     "output_type": "stream",
     "text": [
      "CudaLSTM output:   ['lstm_output', 'h_n', 'c_n', 'y_hat']\n",
      "CustomLSTM output: ['h_n', 'c_n', 'i', 'f', 'g', 'o', 'y_hat']\n",
      "Identical predictions: False\n"
     ]
    }
   ],
   "source": [
    "# make sure we're in eval mode where dropout is deactivated\n",
    "custom_lstm.eval()\n",
    "cuda_lstm.eval()\n",
    "\n",
    "# load the dataset\n",
    "scaler = load_scaler(run_dir)\n",
    "dataset = get_dataset(cudalstm_config, is_train=False, period='test', scaler=scaler)\n",
    "dataloader = DataLoader(dataset, batch_size=1000, shuffle=False, collate_fn=dataset.collate_fn)\n",
    "\n",
    "cudalstm_output = []\n",
    "customlstm_output = []\n",
    "# no need to calculate any gradients since we're just running some evaluations\n",
    "with torch.no_grad():\n",
    "    for sample in dataloader:\n",
    "        customlstm_output.append(custom_lstm(sample))\n",
    "        cudalstm_output.append(cuda_lstm(sample))\n",
    "\n",
    "print('CudaLSTM output:  ', list(cudalstm_output[0].keys()))\n",
    "print('CustomLSTM output:', list(customlstm_output[0].keys()))\n",
    "\n",
    "# check if predictions of CustomLSTM and CudaLSTM are identical\n",
    "print('Identical predictions:', torch.allclose(customlstm_output[0]['y_hat'], cudalstm_output[0]['y_hat'], atol=1e-5))"
   ]
  },
  {
   "cell_type": "code",
   "execution_count": 9,
   "id": "f9f72b8f-b77e-478d-9fa1-816d4a8bdf06",
   "metadata": {
    "tags": []
   },
   "outputs": [
    {
     "name": "stdout",
     "output_type": "stream",
     "text": [
      "CudaLSTM shape:   torch.Size([1000, 1, 128])\n",
      "CustomLSTM shape: torch.Size([1000, 365, 128])\n"
     ]
    }
   ],
   "source": [
    "print('CudaLSTM shape:  ', cudalstm_output[0]['c_n'].shape)  # [batch size, 1, hidden size]\n",
    "print('CustomLSTM shape:', customlstm_output[0]['c_n'].shape)  # [batch size, sequence length, hidden size]"
   ]
  },
  {
   "cell_type": "code",
   "execution_count": 10,
   "id": "28800fa6-fbb0-4113-abc8-21186c8bb8ec",
   "metadata": {
    "tags": []
   },
   "outputs": [
    {
     "name": "stdout",
     "output_type": "stream",
     "text": [
      "CudaLSTM shape:   torch.Size([1000, 1, 128])\n",
      "CustomLSTM shape: torch.Size([1000, 365, 128])\n"
     ]
    }
   ],
   "source": [
    "print('CudaLSTM shape:  ', cudalstm_output[1]['c_n'].shape)  # [batch size, 1, hidden size]\n",
    "print('CustomLSTM shape:', customlstm_output[1]['c_n'].shape)  # [batch size, sequence length, hidden size]"
   ]
  },
  {
   "cell_type": "code",
   "execution_count": 8,
   "id": "b97faca5-56f2-4690-bb02-1c333f7bb7b0",
   "metadata": {
    "tags": []
   },
   "outputs": [
    {
     "data": {
      "text/plain": [
       "14"
      ]
     },
     "execution_count": 8,
     "metadata": {},
     "output_type": "execute_result"
    }
   ],
   "source": [
    "len(customlstm_output)"
   ]
  },
  {
   "cell_type": "code",
   "execution_count": 11,
   "id": "20e068a9-53b1-487e-b67d-5d48ab4c2c1e",
   "metadata": {
    "tags": []
   },
   "outputs": [
    {
     "ename": "ValueError",
     "evalue": "test_start_date is not specified in the config (.yml).",
     "output_type": "error",
     "traceback": [
      "\u001b[1;31m---------------------------------------------------------------------------\u001b[0m",
      "\u001b[1;31mValueError\u001b[0m                                Traceback (most recent call last)",
      "Cell \u001b[1;32mIn[11], line 5\u001b[0m\n\u001b[0;32m      2\u001b[0m cell_states \u001b[38;5;241m=\u001b[39m torch\u001b[38;5;241m.\u001b[39mcat([out[\u001b[38;5;124m'\u001b[39m\u001b[38;5;124mc_n\u001b[39m\u001b[38;5;124m'\u001b[39m][:, \u001b[38;5;241m-\u001b[39m\u001b[38;5;241m1\u001b[39m, :] \u001b[38;5;28;01mfor\u001b[39;00m out \u001b[38;5;129;01min\u001b[39;00m customlstm_output], dim\u001b[38;5;241m=\u001b[39m\u001b[38;5;241m0\u001b[39m)\n\u001b[0;32m      4\u001b[0m \u001b[38;5;66;03m# Load the forcings input for the corresponding date range\u001b[39;00m\n\u001b[1;32m----> 5\u001b[0m date_range \u001b[38;5;241m=\u001b[39m pd\u001b[38;5;241m.\u001b[39mdate_range(\u001b[43mcudalstm_config\u001b[49m\u001b[38;5;241;43m.\u001b[39;49m\u001b[43mtest_start_date\u001b[49m, cudalstm_config\u001b[38;5;241m.\u001b[39mtest_end_date, freq\u001b[38;5;241m=\u001b[39m\u001b[38;5;124m'\u001b[39m\u001b[38;5;124m1D\u001b[39m\u001b[38;5;124m'\u001b[39m)\n",
      "File \u001b[1;32mc:\\github\\neuralhydrology\\neuralhydrology\\utils\\config.py:727\u001b[0m, in \u001b[0;36mConfig.test_start_date\u001b[1;34m(self)\u001b[0m\n\u001b[0;32m    725\u001b[0m \u001b[38;5;129m@property\u001b[39m\n\u001b[0;32m    726\u001b[0m \u001b[38;5;28;01mdef\u001b[39;00m \u001b[38;5;21mtest_start_date\u001b[39m(\u001b[38;5;28mself\u001b[39m) \u001b[38;5;241m-\u001b[39m\u001b[38;5;241m>\u001b[39m pd\u001b[38;5;241m.\u001b[39mTimestamp:\n\u001b[1;32m--> 727\u001b[0m     \u001b[38;5;28;01mreturn\u001b[39;00m \u001b[38;5;28;43mself\u001b[39;49m\u001b[38;5;241;43m.\u001b[39;49m\u001b[43m_get_value_verbose\u001b[49m\u001b[43m(\u001b[49m\u001b[38;5;124;43m\"\u001b[39;49m\u001b[38;5;124;43mtest_start_date\u001b[39;49m\u001b[38;5;124;43m\"\u001b[39;49m\u001b[43m)\u001b[49m\n",
      "File \u001b[1;32mc:\\github\\neuralhydrology\\neuralhydrology\\utils\\config.py:136\u001b[0m, in \u001b[0;36mConfig._get_value_verbose\u001b[1;34m(self, key)\u001b[0m\n\u001b[0;32m    134\u001b[0m \u001b[38;5;250m\u001b[39m\u001b[38;5;124;03m\"\"\"Use this function internally to return attributes of the config that are mandatory\"\"\"\u001b[39;00m\n\u001b[0;32m    135\u001b[0m \u001b[38;5;28;01mif\u001b[39;00m key \u001b[38;5;129;01mnot\u001b[39;00m \u001b[38;5;129;01min\u001b[39;00m \u001b[38;5;28mself\u001b[39m\u001b[38;5;241m.\u001b[39m_cfg\u001b[38;5;241m.\u001b[39mkeys():\n\u001b[1;32m--> 136\u001b[0m     \u001b[38;5;28;01mraise\u001b[39;00m \u001b[38;5;167;01mValueError\u001b[39;00m(\u001b[38;5;124mf\u001b[39m\u001b[38;5;124m\"\u001b[39m\u001b[38;5;132;01m{\u001b[39;00mkey\u001b[38;5;132;01m}\u001b[39;00m\u001b[38;5;124m is not specified in the config (.yml).\u001b[39m\u001b[38;5;124m\"\u001b[39m)\n\u001b[0;32m    137\u001b[0m \u001b[38;5;28;01melif\u001b[39;00m \u001b[38;5;28mself\u001b[39m\u001b[38;5;241m.\u001b[39m_cfg[key] \u001b[38;5;129;01mis\u001b[39;00m \u001b[38;5;28;01mNone\u001b[39;00m:\n\u001b[0;32m    138\u001b[0m     \u001b[38;5;28;01mraise\u001b[39;00m \u001b[38;5;167;01mValueError\u001b[39;00m(\u001b[38;5;124mf\u001b[39m\u001b[38;5;124m\"\u001b[39m\u001b[38;5;132;01m{\u001b[39;00mkey\u001b[38;5;132;01m}\u001b[39;00m\u001b[38;5;124m is mandatory but \u001b[39m\u001b[38;5;124m'\u001b[39m\u001b[38;5;124mNone\u001b[39m\u001b[38;5;124m'\u001b[39m\u001b[38;5;124m in the config.\u001b[39m\u001b[38;5;124m\"\u001b[39m)\n",
      "\u001b[1;31mValueError\u001b[0m: test_start_date is not specified in the config (.yml)."
     ]
    }
   ],
   "source": [
    "# Concatenate all batches into one tensor that contains the final time step of each sample.\n",
    "cell_states = torch.cat([out['c_n'][:, -1, :] for out in customlstm_output], dim=0)\n",
    "\n",
    "# Load the forcings input for the corresponding date range\n",
    "date_range = pd.date_range(cudalstm_config.test_start_date, cudalstm_config.test_end_date, freq='1D')"
   ]
  },
  {
   "cell_type": "code",
   "execution_count": null,
   "id": "f98c0e0d-f856-403d-b3fa-049c04b50d1c",
   "metadata": {},
   "outputs": [],
   "source": [
    "forcings = camelsus.load_camels_us_forcings(cudalstm_config.data_dir, '01022500', 'daymet')[0].loc[date_range]"
   ]
  },
  {
   "cell_type": "code",
   "execution_count": 42,
   "id": "9213a767-ec5c-43d8-b9ec-ca83f16b16ef",
   "metadata": {
    "tags": []
   },
   "outputs": [
    {
     "data": {
      "image/png": "[encoded data removed]",
      "text/plain": [
       "<Figure size 2000x1400 with 7 Axes>"
      ]
     },
     "metadata": {},
     "output_type": "display_data"
    }
   ],
   "source": [
    "f, ax = plt.subplots(4, 2, figsize=(20, 14), sharex=True)\n",
    "ax[0,0].set_title('Input values')\n",
    "#lines = ax[0,0].plot(dataset[0]['x_d'])  # these are the normalized inputs we fed the LSTM above\n",
    "#ax[0,0].legend(lines, cudalstm_config.dynamic_inputs, frameon=False)\n",
    "\n",
    "ax[1,0].set_title('Cell state')\n",
    "ax[1,0].plot(customlstm_output[0]['c_n'][0])\n",
    "\n",
    "ax[0,1].set_title('Hidden state')\n",
    "ax[0,1].plot(customlstm_output[0]['h_n'][0])\n",
    "\n",
    "ax[1,1].set_title('Output gate')\n",
    "ax[1,1].plot(customlstm_output[0]['o'][0])\n",
    "\n",
    "ax[2,0].set_title('Forget gate')\n",
    "ax[2,0].plot(customlstm_output[0]['f'][0])\n",
    "\n",
    "ax[2,1].set_title('Input gate')\n",
    "ax[2,1].plot(customlstm_output[0]['i'][0])\n",
    "\n",
    "ax[3,0].set_title('Cell input activation')\n",
    "ax[3,0].plot(customlstm_output[0]['g'][0])\n",
    "\n",
    "f.delaxes(ax[3,1])\n",
    "plt.tight_layout()"
   ]
  },
  {
   "cell_type": "markdown",
   "id": "dcb7762b-72df-4b4c-967c-d7cddb447c64",
   "metadata": {
    "tags": []
   },
   "source": [
    "***"
   ]
  },
  {
   "cell_type": "code",
   "execution_count": 3,
   "id": "6098108d-dd28-4beb-98f3-cd31a1c2a602",
   "metadata": {
    "tags": []
   },
   "outputs": [],
   "source": [
    "model = torch.load(run_dir / 'model_epoch030.pt', map_location=torch.device('cpu'))\n",
    "\n",
    "if torch.cuda.is_available():\n",
    "    model = model.to('cuda')"
   ]
  },
  {
   "cell_type": "code",
   "execution_count": 5,
   "id": "d07019b2-a0ca-4469-9be7-1d0e9ef76e56",
   "metadata": {
    "tags": []
   },
   "outputs": [
    {
     "data": {
      "text/plain": [
       "odict_keys(['lstm.weight_ih_l0', 'lstm.weight_hh_l0', 'lstm.bias_ih_l0', 'lstm.bias_hh_l0', 'head.net.0.weight', 'head.net.0.bias'])"
      ]
     },
     "execution_count": 5,
     "metadata": {},
     "output_type": "execute_result"
    }
   ],
   "source": [
    "model.keys()"
   ]
  },
  {
   "cell_type": "code",
   "execution_count": 10,
   "id": "74f709b2-2d8a-4b39-81dd-f57e0154fe76",
   "metadata": {
    "tags": []
   },
   "outputs": [
    {
     "name": "stdout",
     "output_type": "stream",
     "text": [
      "lstm.weight_ih_l0\ttorch.Size([512, 29])\n",
      "lstm.weight_hh_l0\ttorch.Size([512, 128])\n",
      "lstm.bias_ih_l0\ttorch.Size([512])\n",
      "lstm.bias_hh_l0\ttorch.Size([512])\n",
      "head.net.0.weight\ttorch.Size([1, 128])\n",
      "head.net.0.bias\ttorch.Size([1])\n"
     ]
    }
   ],
   "source": [
    "for key in model.keys():\n",
    "    print(key, model[key].shape, sep='\\t')"
   ]
  },
  {
   "cell_type": "markdown",
   "id": "11d4a4bc-ba3e-425f-8118-5296381f2445",
   "metadata": {},
   "source": [
    "### Optimizador"
   ]
  },
  {
   "cell_type": "code",
   "execution_count": 11,
   "id": "69167f6c-eea2-4e6d-88a3-20ad4dcc21be",
   "metadata": {
    "tags": []
   },
   "outputs": [],
   "source": [
    "optimizer = torch.load(run_dir / 'optimizer_state_epoch030.pt', map_location=torch.device('cpu'))"
   ]
  },
  {
   "cell_type": "code",
   "execution_count": 12,
   "id": "cbfd2707-76c9-4910-aa0b-2d96bb19f265",
   "metadata": {
    "tags": []
   },
   "outputs": [
    {
     "data": {
      "text/plain": [
       "dict_keys(['state', 'param_groups'])"
      ]
     },
     "execution_count": 12,
     "metadata": {},
     "output_type": "execute_result"
    }
   ],
   "source": [
    "optimizer.keys()"
   ]
  },
  {
   "cell_type": "code",
   "execution_count": 15,
   "id": "3b20c9d2-9a83-4158-9fe9-3a4207af4bab",
   "metadata": {},
   "outputs": [
    {
     "data": {
      "text/plain": [
       "{0: {'step': tensor(6960.),\n",
       "  'exp_avg': tensor([[ 9.0062e-08, -2.0210e-07, -2.2574e-07,  ...,  3.2497e-07,\n",
       "            3.6161e-07, -7.0539e-07],\n",
       "          [-4.7444e-09, -3.2513e-09, -1.2327e-09,  ..., -5.0478e-09,\n",
       "           -1.0374e-09,  4.5407e-09],\n",
       "          [-9.5753e-08, -8.2562e-09,  3.0173e-09,  ...,  2.5874e-08,\n",
       "            3.5104e-08, -5.3518e-08],\n",
       "          ...,\n",
       "          [ 1.1354e-06, -2.4460e-07, -6.1073e-07,  ..., -4.9660e-07,\n",
       "           -1.5411e-07, -1.6017e-07],\n",
       "          [-1.1742e-08, -5.5606e-08, -6.8281e-09,  ...,  2.2427e-08,\n",
       "            1.4428e-07, -7.4157e-09],\n",
       "          [ 1.5283e-06, -1.0814e-07, -3.0446e-07,  ..., -1.3340e-07,\n",
       "           -3.3442e-08,  3.1851e-07]]),\n",
       "  'exp_avg_sq': tensor([[3.4233e-11, 1.2968e-12, 2.6395e-12,  ..., 1.0800e-12, 1.5310e-12,\n",
       "           2.2989e-12],\n",
       "          [1.0376e-15, 5.1534e-16, 6.4916e-16,  ..., 2.5449e-15, 3.3568e-15,\n",
       "           3.2273e-15],\n",
       "          [4.3818e-13, 8.3720e-15, 1.4194e-14,  ..., 3.7206e-14, 2.8073e-14,\n",
       "           8.2590e-14],\n",
       "          ...,\n",
       "          [3.2012e-11, 1.1993e-12, 2.3518e-12,  ..., 1.5588e-12, 1.9762e-12,\n",
       "           2.2151e-12],\n",
       "          [2.1745e-13, 1.1402e-12, 8.5728e-13,  ..., 4.5214e-13, 6.8610e-13,\n",
       "           4.3140e-13],\n",
       "          [6.6400e-12, 1.0516e-12, 1.3559e-12,  ..., 2.4388e-13, 1.0148e-12,\n",
       "           5.3788e-13]])},\n",
       " 1: {'step': tensor(6960.),\n",
       "  'exp_avg': tensor([[-1.0418e-08, -2.6111e-08, -1.0952e-08,  ..., -1.2409e-07,\n",
       "            1.0021e-07, -5.3899e-08],\n",
       "          [ 4.9186e-12, -2.2083e-09,  1.1219e-09,  ..., -1.8531e-12,\n",
       "           -2.6755e-10,  2.6195e-11],\n",
       "          [ 2.2978e-10,  2.2253e-09,  5.3048e-09,  ...,  4.1029e-10,\n",
       "            3.9571e-09, -3.0274e-09],\n",
       "          ...,\n",
       "          [ 1.3443e-08,  8.2955e-08,  2.3435e-08,  ..., -6.6896e-08,\n",
       "            2.7983e-08,  2.8284e-09],\n",
       "          [-1.0095e-09, -2.3023e-09,  8.2270e-09,  ..., -2.5619e-09,\n",
       "           -3.5673e-09, -8.3689e-09],\n",
       "          [ 6.3992e-09, -4.3953e-08,  3.0481e-08,  ...,  2.9446e-08,\n",
       "           -8.4538e-09,  2.5121e-08]]),\n",
       "  'exp_avg_sq': tensor([[1.1914e-14, 3.8152e-14, 5.5471e-14,  ..., 6.0487e-14, 5.6111e-14,\n",
       "           4.7461e-14],\n",
       "          [2.9527e-17, 4.0552e-16, 9.9577e-17,  ..., 1.5556e-17, 1.4228e-17,\n",
       "           6.4107e-18],\n",
       "          [4.4905e-17, 8.9696e-15, 6.7956e-16,  ..., 7.7118e-17, 1.8427e-16,\n",
       "           9.6271e-17],\n",
       "          ...,\n",
       "          [4.3296e-14, 1.2471e-13, 1.2965e-13,  ..., 1.2213e-13, 4.4125e-15,\n",
       "           5.1720e-14],\n",
       "          [2.8766e-16, 4.9711e-14, 1.4568e-14,  ..., 1.0494e-15, 6.4257e-14,\n",
       "           1.2564e-15],\n",
       "          [3.4616e-14, 6.0089e-14, 1.4346e-14,  ..., 3.1033e-14, 8.1162e-15,\n",
       "           1.0249e-13]])},\n",
       " 2: {'step': tensor(6960.),\n",
       "  'exp_avg': tensor([ 1.3521e-07, -6.1844e-09, -3.1541e-08, -3.3665e-07, -9.6998e-11,\n",
       "          -8.4623e-08, -1.2075e-07,  7.0473e-07, -2.5231e-08,  6.5522e-08,\n",
       "           1.9245e-07,  1.4306e-09,  4.5346e-10, -2.8197e-07, -6.2660e-08,\n",
       "          -9.6873e-08, -1.7782e-08,  1.7254e-07,  6.8855e-08, -2.0801e-08,\n",
       "           1.0608e-09,  1.3372e-07,  5.3271e-09, -3.8062e-08,  2.3138e-06,\n",
       "           8.4313e-08, -1.5642e-07,  1.4298e-07,  8.8594e-08, -1.8969e-07,\n",
       "          -5.1870e-08,  1.3692e-08, -2.4506e-08, -6.8042e-08,  4.2554e-10,\n",
       "           1.7579e-07,  2.4528e-07, -1.5431e-08,  2.9961e-07,  1.3802e-07,\n",
       "          -1.9322e-08, -8.9848e-11, -2.2343e-08,  8.3094e-11,  4.5922e-08,\n",
       "           6.3878e-08,  1.2959e-07,  2.9964e-08,  6.9746e-08,  9.3195e-08,\n",
       "          -9.9504e-08, -6.1469e-08, -6.1208e-10, -7.7941e-08, -4.9760e-09,\n",
       "           2.1163e-09,  9.6508e-09, -5.0262e-09,  8.9612e-09,  2.1540e-07,\n",
       "          -1.8088e-08, -1.9630e-07,  2.4762e-07, -5.4236e-08, -1.3873e-09,\n",
       "          -2.2321e-08,  3.1506e-07, -2.5425e-10,  1.1510e-07, -5.9391e-08,\n",
       "          -2.0049e-09, -2.3041e-07, -6.4690e-12,  9.5987e-08,  1.3177e-08,\n",
       "           3.5567e-09,  2.0845e-08,  6.4494e-09, -2.6888e-08,  5.7409e-08,\n",
       "          -8.8735e-08, -2.9727e-08,  7.4878e-08, -4.4643e-08, -3.4471e-08,\n",
       "          -2.8588e-07,  3.8450e-07, -3.1500e-11, -2.1609e-07, -5.2870e-08,\n",
       "          -3.9635e-09, -2.4150e-09,  2.0966e-10, -2.3901e-09, -5.8232e-08,\n",
       "          -2.8823e-07, -1.7488e-07, -1.0809e-10,  1.2372e-08,  6.8149e-08,\n",
       "           5.7901e-07, -5.2621e-08,  4.4030e-08, -1.5658e-08, -5.0662e-07,\n",
       "          -4.4980e-08,  1.9829e-08,  2.7169e-08,  5.5645e-07, -9.4784e-09,\n",
       "           1.2969e-07, -4.4367e-09, -5.3830e-08, -5.9379e-08,  4.6689e-07,\n",
       "          -6.9273e-07,  2.7960e-08, -3.8414e-11, -2.7857e-08, -5.7832e-08,\n",
       "           3.9887e-09, -3.9741e-09, -3.7758e-08, -1.8250e-07,  2.4885e-08,\n",
       "           2.8913e-07,  5.4357e-09,  1.5836e-07, -2.5056e-08, -4.2838e-09,\n",
       "          -3.4761e-08,  1.7008e-08, -1.0168e-11, -3.3021e-07, -6.4369e-08,\n",
       "           8.0673e-07,  3.8524e-08, -3.2433e-08,  2.6836e-07,  9.2006e-09,\n",
       "           5.6873e-11,  6.2613e-08, -9.6669e-08, -5.5097e-08,  6.7635e-08,\n",
       "          -7.3329e-08, -3.6771e-08,  9.0026e-08,  7.2476e-10,  4.5524e-08,\n",
       "          -4.0036e-10, -1.5621e-08, -7.3548e-07,  8.5631e-08, -2.1859e-07,\n",
       "          -1.9006e-08, -6.5174e-09,  2.1489e-07,  4.5711e-08, -1.2314e-09,\n",
       "           7.5739e-08,  1.7723e-10,  1.4322e-10,  9.1746e-08, -1.6189e-08,\n",
       "          -3.7759e-09, -4.9822e-08,  3.5570e-08, -1.5446e-08, -8.2228e-11,\n",
       "           7.6739e-08,  5.4843e-12,  9.6795e-08,  2.0777e-08, -1.6066e-08,\n",
       "           8.8209e-08,  4.6952e-08, -7.0161e-07, -6.8881e-08, -6.3959e-07,\n",
       "          -1.6894e-09, -5.0631e-08, -2.7565e-08,  2.9172e-09,  1.5559e-08,\n",
       "           5.4772e-08,  7.7067e-08, -8.9767e-08,  6.4785e-08,  3.2974e-07,\n",
       "          -1.0794e-07, -1.1611e-08, -3.3557e-10,  1.7352e-08,  2.3904e-08,\n",
       "          -3.7491e-08,  7.1716e-08, -8.2135e-09,  7.2691e-09, -7.1545e-08,\n",
       "          -1.6426e-12,  2.4186e-07,  7.2806e-10,  8.5157e-09,  2.2989e-08,\n",
       "           9.3214e-09, -1.8188e-08,  2.5146e-08, -4.7509e-08, -2.8418e-08,\n",
       "          -6.0541e-08, -5.2268e-08,  6.9407e-08,  1.4681e-07,  2.0416e-08,\n",
       "           6.4188e-12, -1.0144e-07, -2.4798e-08, -3.4010e-09, -2.6773e-09,\n",
       "           4.3185e-10, -2.0921e-09, -3.2627e-08, -8.1552e-08, -1.5305e-07,\n",
       "          -8.5887e-12,  2.7287e-08,  8.9870e-08, -1.2339e-08, -6.2149e-08,\n",
       "           7.9058e-09,  4.9865e-09,  1.0486e-07, -3.4108e-08,  2.8242e-08,\n",
       "          -9.0891e-08, -5.1630e-09, -1.9538e-08,  3.1353e-08, -4.1522e-08,\n",
       "          -1.1735e-08, -8.1485e-08, -1.9400e-08, -8.6052e-07,  4.3013e-07,\n",
       "          -4.7822e-10,  9.1212e-08, -3.7999e-08,  4.9114e-09,  1.1851e-09,\n",
       "          -8.1186e-08,  2.0633e-07,  2.0706e-08, -1.3052e-07, -1.6618e-08,\n",
       "           7.2674e-08, -1.1541e-07,  5.6235e-09,  7.0264e-08, -6.0457e-07,\n",
       "           3.6936e-10,  2.7382e-07, -5.6915e-07,  2.6356e-07,  9.4481e-09,\n",
       "           1.1112e-07, -2.0812e-07, -1.0342e-07,  2.1515e-09,  5.5136e-07,\n",
       "           1.3514e-07, -1.4259e-06, -1.5358e-08,  4.0029e-08,  1.7761e-08,\n",
       "           4.5424e-08, -1.7673e-08,  7.2727e-09, -6.4557e-10, -1.3659e-08,\n",
       "           3.6570e-07, -3.6382e-09,  2.9050e-07,  1.6800e-07, -1.1567e-08,\n",
       "           1.8092e-07, -3.9686e-08,  1.1731e-07,  1.9759e-07,  2.6936e-07,\n",
       "          -6.9336e-11,  1.0907e-07, -7.5780e-08, -1.2861e-08,  5.8323e-07,\n",
       "          -1.2611e-09, -3.5564e-08, -3.2711e-10, -5.2730e-08, -9.0192e-11,\n",
       "           6.9685e-09, -5.0965e-09,  1.5946e-06,  6.2409e-07,  8.8082e-08,\n",
       "          -1.6186e-09, -6.6053e-08, -2.0178e-08, -1.7573e-09,  1.2321e-08,\n",
       "           7.7168e-08, -6.1948e-09,  3.9602e-09,  5.1331e-08, -4.4840e-08,\n",
       "           2.5026e-07, -8.9907e-08,  2.1185e-07, -7.9062e-07, -1.6425e-07,\n",
       "           1.6437e-10, -3.1858e-08,  2.1708e-07,  3.3687e-08, -8.2685e-08,\n",
       "           4.3858e-08,  7.9601e-08, -1.7804e-08,  1.2794e-10,  5.2655e-07,\n",
       "          -1.1577e-09,  1.3128e-08, -3.9133e-09,  8.5889e-10, -1.6513e-08,\n",
       "           3.8139e-08,  5.0522e-07, -2.1561e-07, -1.4496e-07, -1.7651e-08,\n",
       "           1.1817e-07, -9.2268e-08, -4.5572e-08, -1.8202e-10, -3.5453e-08,\n",
       "           4.4602e-08,  2.4641e-08,  5.3282e-09,  3.0015e-09, -1.5129e-09,\n",
       "           5.1673e-08, -2.1483e-07,  2.9569e-08,  1.5296e-10,  7.2295e-08,\n",
       "           2.3388e-08,  1.6501e-07,  2.9454e-09, -1.1428e-07,  3.8549e-08,\n",
       "          -6.4030e-08, -8.0827e-08, -7.3787e-08, -1.7153e-07,  1.4621e-07,\n",
       "           1.1208e-09,  1.8139e-08,  9.0369e-08, -9.5071e-09, -3.2972e-07,\n",
       "           1.2619e-07,  6.8036e-08,  2.6978e-08, -1.9923e-09,  1.7892e-08,\n",
       "          -2.2425e-08,  1.0340e-08, -2.6484e-08,  1.1838e-08, -1.2566e-08,\n",
       "          -6.2934e-09, -2.0355e-07, -1.4004e-07,  1.0189e-07,  2.6003e-07,\n",
       "          -4.6914e-08,  1.9747e-07, -4.5839e-07,  2.7866e-07,  5.1265e-07,\n",
       "          -3.9075e-09,  5.5831e-07,  1.1140e-07, -3.7948e-07,  1.8344e-07,\n",
       "          -4.9633e-07,  3.8215e-07, -3.4910e-07, -2.5796e-08, -2.5802e-08,\n",
       "           1.9378e-07,  2.1181e-07, -1.5126e-07,  5.4797e-07,  4.6461e-08,\n",
       "           4.0569e-07, -3.2235e-08, -3.4726e-07,  1.0477e-07,  3.8474e-07,\n",
       "          -5.1180e-08, -3.3924e-07,  1.9916e-08, -4.1307e-07,  3.6761e-08,\n",
       "          -1.1905e-07,  9.2505e-08, -1.6793e-07, -6.4121e-08,  3.3049e-07,\n",
       "           1.8746e-07,  1.2636e-07,  5.6374e-07,  1.1025e-07, -9.6804e-08,\n",
       "           3.3195e-07, -1.8714e-07,  1.5652e-07, -7.0995e-08,  3.2224e-07,\n",
       "           1.7854e-07,  5.3279e-07,  5.7272e-08, -1.1481e-08, -2.4663e-08,\n",
       "           3.0058e-07,  3.3254e-07, -4.6314e-07,  1.2535e-08, -1.4313e-07,\n",
       "           1.0538e-07, -1.3060e-07,  6.2928e-07,  4.8915e-07,  2.6288e-07,\n",
       "           4.1773e-08,  1.2110e-07,  5.9820e-08, -4.2251e-08, -1.4019e-08,\n",
       "           1.8663e-07, -9.5553e-08,  1.0019e-07, -2.1772e-07,  3.8923e-08,\n",
       "           2.7330e-08,  4.3119e-07, -3.8546e-07,  4.5644e-08, -2.0044e-07,\n",
       "          -1.2008e-07,  2.6557e-07,  4.1426e-07,  1.9799e-07,  3.3783e-07,\n",
       "          -1.7485e-08, -4.0751e-08, -1.2586e-07,  3.6481e-08, -3.3607e-07,\n",
       "          -6.9478e-08,  1.6782e-07,  3.4833e-07,  8.8272e-08,  3.9897e-07,\n",
       "           3.0698e-07, -1.2017e-07,  2.9222e-08, -3.1361e-07, -1.5296e-07,\n",
       "          -2.3528e-07,  8.7604e-08, -6.7135e-08, -9.3919e-08, -9.2301e-08,\n",
       "           6.9113e-08,  1.3313e-07,  4.7439e-08, -2.4032e-07,  4.0885e-08,\n",
       "          -2.7708e-07,  2.5096e-07,  1.5614e-07,  2.1721e-07,  2.0516e-07,\n",
       "           1.3913e-08,  2.7702e-07, -1.0729e-07,  6.5332e-08,  3.8589e-07,\n",
       "          -1.2852e-07, -3.4651e-07, -1.0659e-07,  2.9606e-07,  7.8235e-08,\n",
       "           1.0838e-08, -4.2535e-09,  6.6207e-08, -5.3618e-08,  8.0867e-07,\n",
       "           1.5136e-07,  8.7666e-08]),\n",
       "  'exp_avg_sq': tensor([1.6588e-12, 4.0038e-15, 3.8459e-14, 1.9846e-13, 6.6688e-18, 5.4282e-13,\n",
       "          1.1917e-13, 2.2239e-12, 7.4654e-14, 1.0352e-13, 5.2491e-13, 3.4793e-16,\n",
       "          3.1254e-16, 3.1116e-13, 3.2971e-14, 1.0549e-12, 2.6216e-14, 6.0682e-13,\n",
       "          7.0357e-13, 1.4865e-13, 2.0895e-16, 9.7104e-14, 5.0186e-15, 2.5246e-14,\n",
       "          1.4490e-11, 1.0418e-13, 5.8745e-14, 3.6855e-14, 2.1261e-13, 3.1037e-13,\n",
       "          7.4330e-14, 4.8543e-13, 7.3036e-13, 1.9097e-13, 5.2549e-17, 8.4221e-13,\n",
       "          7.8928e-13, 2.6519e-14, 9.5119e-13, 1.1630e-13, 5.1891e-14, 3.8747e-17,\n",
       "          4.7211e-14, 2.4007e-17, 3.1229e-14, 3.5733e-13, 1.8889e-11, 4.0818e-14,\n",
       "          9.6812e-14, 2.5280e-12, 2.4005e-13, 1.2907e-12, 7.2092e-17, 6.3233e-14,\n",
       "          3.4655e-14, 4.3204e-16, 4.7619e-15, 8.7083e-14, 6.4324e-14, 1.4771e-12,\n",
       "          3.5577e-13, 3.4602e-13, 2.7198e-12, 1.6815e-13, 3.9632e-16, 4.0198e-14,\n",
       "          1.0158e-12, 1.9005e-15, 5.3338e-14, 4.7535e-14, 4.9730e-15, 2.2465e-13,\n",
       "          2.5791e-16, 1.7451e-13, 8.9957e-15, 3.6010e-15, 5.6238e-15, 3.8984e-15,\n",
       "          1.8478e-14, 2.0344e-14, 4.2511e-14, 1.3712e-14, 5.2460e-13, 2.8258e-14,\n",
       "          8.4456e-13, 3.6857e-13, 9.3846e-13, 2.3242e-17, 2.2864e-12, 7.4654e-14,\n",
       "          1.3867e-15, 1.0246e-14, 9.8605e-18, 9.2240e-16, 6.7877e-14, 2.5857e-13,\n",
       "          7.3176e-13, 3.6756e-17, 5.6216e-15, 2.9325e-13, 1.8457e-12, 4.4385e-14,\n",
       "          5.6478e-13, 5.7791e-14, 9.2357e-13, 7.7845e-14, 2.3088e-13, 2.7114e-13,\n",
       "          1.6942e-12, 3.4920e-15, 3.4317e-13, 5.0447e-13, 5.1529e-14, 1.0216e-13,\n",
       "          1.3582e-12, 2.0332e-11, 2.1250e-14, 4.7173e-17, 7.1961e-13, 2.0841e-14,\n",
       "          1.2615e-15, 2.7815e-13, 6.2476e-14, 8.9832e-13, 1.2278e-14, 9.0589e-13,\n",
       "          1.0898e-14, 4.8146e-13, 6.9333e-14, 3.1474e-15, 4.7517e-14, 3.3701e-14,\n",
       "          3.8131e-17, 1.7802e-13, 1.1893e-13, 7.1579e-12, 1.3478e-14, 3.4125e-13,\n",
       "          2.5375e-13, 4.8082e-15, 2.8293e-15, 1.3709e-12, 4.9293e-14, 4.1191e-13,\n",
       "          2.3107e-13, 5.7476e-13, 1.7139e-13, 1.4764e-13, 5.2167e-16, 1.7452e-14,\n",
       "          4.2019e-16, 2.4487e-14, 3.7347e-12, 9.5620e-14, 2.3347e-13, 1.5665e-13,\n",
       "          2.6722e-14, 1.2801e-13, 8.7262e-14, 3.1254e-14, 2.9966e-13, 4.3559e-14,\n",
       "          1.3176e-16, 1.6664e-12, 8.8392e-14, 9.0957e-15, 8.9194e-13, 5.2279e-14,\n",
       "          3.6039e-15, 2.4281e-16, 9.6972e-14, 9.2487e-17, 8.3982e-14, 1.0863e-13,\n",
       "          1.4757e-11, 1.4982e-12, 1.6283e-14, 3.5439e-12, 4.4401e-14, 9.0504e-12,\n",
       "          2.3628e-16, 5.6832e-14, 1.5401e-14, 6.0091e-16, 1.4054e-14, 8.3554e-14,\n",
       "          3.6035e-13, 6.7089e-13, 4.2300e-13, 4.8569e-13, 3.4479e-13, 2.3356e-14,\n",
       "          8.4732e-16, 1.0067e-14, 2.3945e-13, 4.2431e-14, 1.4588e-13, 5.3128e-15,\n",
       "          2.1515e-14, 2.6880e-13, 1.0929e-15, 2.3516e-13, 6.4994e-16, 7.1104e-15,\n",
       "          9.1360e-15, 8.3105e-15, 1.8562e-14, 1.5119e-14, 1.9747e-13, 2.7285e-14,\n",
       "          1.6346e-13, 1.4281e-14, 4.6804e-13, 2.2130e-13, 1.1946e-13, 1.2965e-16,\n",
       "          7.1509e-13, 1.6435e-13, 4.9459e-15, 5.5471e-15, 1.1569e-16, 8.2560e-16,\n",
       "          4.8288e-15, 7.5440e-14, 6.5273e-13, 5.1483e-17, 9.9661e-15, 1.2198e-13,\n",
       "          5.6603e-13, 6.9134e-14, 5.4842e-13, 4.6897e-14, 6.1884e-13, 3.7661e-13,\n",
       "          1.8043e-13, 4.0597e-13, 2.2820e-13, 4.2573e-14, 1.6743e-13, 2.0878e-13,\n",
       "          1.9877e-14, 8.0500e-14, 1.4282e-13, 1.5670e-11, 7.4266e-13, 1.3968e-16,\n",
       "          5.6946e-13, 1.6855e-14, 5.6688e-16, 2.3138e-14, 4.7598e-14, 5.1790e-13,\n",
       "          1.2513e-14, 7.9259e-13, 1.4567e-13, 2.2857e-13, 7.5394e-13, 4.5140e-15,\n",
       "          1.7866e-13, 2.5701e-12, 3.9067e-15, 5.0014e-13, 1.0705e-12, 4.6226e-12,\n",
       "          4.0920e-14, 2.1731e-13, 3.3354e-13, 6.5036e-13, 1.0800e-14, 4.0630e-12,\n",
       "          9.4365e-13, 4.7469e-12, 6.9223e-14, 9.0010e-13, 1.4831e-13, 4.3071e-13,\n",
       "          2.9490e-14, 2.7123e-13, 2.3403e-14, 7.0299e-14, 1.2122e-10, 1.3883e-13,\n",
       "          2.0166e-12, 1.4743e-12, 1.5048e-13, 7.2210e-13, 2.7298e-13, 2.2728e-13,\n",
       "          5.4243e-13, 1.5181e-12, 5.8070e-14, 8.3967e-13, 1.6015e-13, 2.0524e-14,\n",
       "          3.7005e-12, 7.7685e-13, 1.3476e-13, 3.7381e-14, 7.0182e-14, 4.3258e-15,\n",
       "          1.0581e-14, 3.8581e-15, 6.9638e-11, 6.0805e-12, 1.5405e-13, 4.9518e-14,\n",
       "          2.1383e-13, 4.0446e-12, 5.6542e-15, 4.8431e-13, 5.4728e-13, 1.8418e-14,\n",
       "          1.9884e-14, 7.8847e-13, 2.5478e-12, 2.6477e-12, 5.9593e-13, 8.9866e-13,\n",
       "          2.8682e-12, 2.6519e-13, 2.2785e-13, 4.5613e-14, 4.5733e-13, 4.7302e-13,\n",
       "          8.8408e-14, 1.0575e-13, 2.5098e-13, 1.9049e-13, 6.4136e-14, 2.7433e-12,\n",
       "          8.1077e-15, 2.2232e-13, 7.6782e-15, 9.2876e-15, 3.8880e-14, 1.2086e-13,\n",
       "          1.8307e-12, 5.5029e-13, 2.7322e-13, 3.6354e-14, 2.9182e-13, 5.8078e-13,\n",
       "          2.0503e-13, 6.2569e-14, 6.1064e-12, 6.3936e-13, 2.2765e-13, 8.4355e-14,\n",
       "          7.1398e-14, 5.2239e-14, 2.9186e-13, 2.9394e-13, 1.0506e-12, 6.9467e-15,\n",
       "          1.5347e-13, 1.0899e-12, 6.0755e-13, 1.5832e-13, 3.1802e-12, 7.0757e-14,\n",
       "          3.2490e-13, 1.9390e-12, 8.7223e-13, 6.2255e-13, 3.1453e-13, 1.0180e-13,\n",
       "          1.2744e-13, 4.2579e-13, 1.2871e-13, 6.4708e-13, 3.8103e-13, 2.9813e-11,\n",
       "          2.5000e-12, 1.3636e-14, 1.0268e-12, 3.8543e-14, 1.3864e-14, 1.3399e-13,\n",
       "          2.2506e-14, 4.8810e-13, 2.7036e-14, 6.1640e-13, 9.0760e-13, 2.2750e-13,\n",
       "          7.6746e-13, 2.6717e-12, 3.6657e-13, 7.1215e-13, 4.2243e-13, 8.3173e-13,\n",
       "          5.6388e-14, 2.9332e-12, 4.2561e-13, 8.5693e-13, 2.6470e-12, 3.2764e-12,\n",
       "          5.9469e-13, 2.0207e-12, 5.9564e-14, 8.6705e-14, 6.3561e-13, 4.8020e-13,\n",
       "          1.5832e-12, 3.2765e-12, 1.2907e-12, 5.6548e-13, 1.3538e-12, 8.9226e-13,\n",
       "          2.0510e-13, 1.5948e-12, 2.0289e-13, 1.5506e-12, 2.7919e-13, 3.1924e-13,\n",
       "          4.3112e-13, 4.9574e-13, 7.2962e-13, 7.2649e-13, 9.9272e-13, 1.0718e-12,\n",
       "          3.4778e-13, 1.0445e-12, 2.0397e-12, 4.8938e-13, 1.5510e-13, 5.8454e-13,\n",
       "          2.5903e-13, 5.7059e-13, 1.9569e-12, 7.9632e-13, 4.2874e-13, 1.6181e-12,\n",
       "          6.8826e-13, 3.6183e-12, 4.9209e-13, 2.2511e-12, 8.5737e-13, 3.2158e-13,\n",
       "          7.0350e-13, 1.8803e-12, 4.3246e-13, 6.0703e-13, 2.4179e-12, 2.3637e-12,\n",
       "          1.0497e-12, 6.6344e-13, 1.0058e-12, 2.2858e-13, 6.1171e-13, 2.9597e-13,\n",
       "          3.8740e-13, 8.6999e-13, 6.0244e-13, 5.2313e-13, 1.6720e-13, 6.5048e-13,\n",
       "          1.1726e-12, 1.9098e-12, 4.0521e-12, 8.3917e-13, 8.7797e-13, 1.3620e-12,\n",
       "          1.9818e-12, 1.0817e-12, 1.4813e-12, 7.0104e-13, 2.3839e-13, 4.7959e-13,\n",
       "          9.3017e-13, 1.3922e-12, 6.3363e-13, 1.7167e-12, 7.5427e-13, 1.5907e-12,\n",
       "          1.3935e-12, 1.1995e-12, 1.3994e-13, 5.2924e-13, 5.3003e-13, 3.9257e-13,\n",
       "          8.5166e-13, 7.6985e-13, 2.2435e-13, 3.2129e-13, 6.4320e-13, 5.8251e-13,\n",
       "          7.0439e-13, 1.6540e-13, 2.4514e-12, 5.1635e-13, 1.1871e-12, 7.0898e-13,\n",
       "          9.3340e-14, 3.8366e-13, 1.3999e-12, 7.4208e-14, 1.4220e-12, 7.3331e-13,\n",
       "          7.4260e-13, 4.3348e-12, 1.6350e-12, 2.2185e-12, 2.8146e-13, 5.1300e-13,\n",
       "          1.0708e-12, 9.9779e-13, 6.0948e-13, 9.4085e-13, 1.0177e-12, 2.2973e-12,\n",
       "          6.1787e-13, 1.1177e-12])},\n",
       " 3: {'step': tensor(6960.),\n",
       "  'exp_avg': tensor([ 1.3521e-07, -6.1844e-09, -3.1541e-08, -3.3665e-07, -9.6998e-11,\n",
       "          -8.4623e-08, -1.2075e-07,  7.0473e-07, -2.5231e-08,  6.5522e-08,\n",
       "           1.9245e-07,  1.4306e-09,  4.5346e-10, -2.8197e-07, -6.2660e-08,\n",
       "          -9.6873e-08, -1.7782e-08,  1.7254e-07,  6.8855e-08, -2.0801e-08,\n",
       "           1.0608e-09,  1.3372e-07,  5.3271e-09, -3.8062e-08,  2.3138e-06,\n",
       "           8.4313e-08, -1.5642e-07,  1.4298e-07,  8.8594e-08, -1.8969e-07,\n",
       "          -5.1870e-08,  1.3692e-08, -2.4506e-08, -6.8042e-08,  4.2554e-10,\n",
       "           1.7579e-07,  2.4528e-07, -1.5431e-08,  2.9961e-07,  1.3802e-07,\n",
       "          -1.9322e-08, -8.9848e-11, -2.2343e-08,  8.3094e-11,  4.5922e-08,\n",
       "           6.3878e-08,  1.2959e-07,  2.9964e-08,  6.9746e-08,  9.3195e-08,\n",
       "          -9.9504e-08, -6.1469e-08, -6.1208e-10, -7.7941e-08, -4.9760e-09,\n",
       "           2.1163e-09,  9.6508e-09, -5.0262e-09,  8.9612e-09,  2.1540e-07,\n",
       "          -1.8088e-08, -1.9630e-07,  2.4762e-07, -5.4236e-08, -1.3873e-09,\n",
       "          -2.2321e-08,  3.1506e-07, -2.5425e-10,  1.1510e-07, -5.9391e-08,\n",
       "          -2.0049e-09, -2.3041e-07, -6.4690e-12,  9.5987e-08,  1.3177e-08,\n",
       "           3.5567e-09,  2.0845e-08,  6.4494e-09, -2.6888e-08,  5.7409e-08,\n",
       "          -8.8735e-08, -2.9727e-08,  7.4878e-08, -4.4643e-08, -3.4471e-08,\n",
       "          -2.8588e-07,  3.8450e-07, -3.1500e-11, -2.1609e-07, -5.2870e-08,\n",
       "          -3.9635e-09, -2.4150e-09,  2.0966e-10, -2.3901e-09, -5.8232e-08,\n",
       "          -2.8823e-07, -1.7488e-07, -1.0809e-10,  1.2372e-08,  6.8149e-08,\n",
       "           5.7901e-07, -5.2621e-08,  4.4030e-08, -1.5658e-08, -5.0662e-07,\n",
       "          -4.4980e-08,  1.9829e-08,  2.7169e-08,  5.5645e-07, -9.4784e-09,\n",
       "           1.2969e-07, -4.4367e-09, -5.3830e-08, -5.9379e-08,  4.6689e-07,\n",
       "          -6.9273e-07,  2.7960e-08, -3.8414e-11, -2.7857e-08, -5.7832e-08,\n",
       "           3.9887e-09, -3.9741e-09, -3.7758e-08, -1.8250e-07,  2.4885e-08,\n",
       "           2.8913e-07,  5.4357e-09,  1.5836e-07, -2.5056e-08, -4.2838e-09,\n",
       "          -3.4761e-08,  1.7008e-08, -1.0168e-11, -3.3021e-07, -6.4369e-08,\n",
       "           8.0673e-07,  3.8524e-08, -3.2433e-08,  2.6836e-07,  9.2006e-09,\n",
       "           5.6873e-11,  6.2613e-08, -9.6669e-08, -5.5097e-08,  6.7635e-08,\n",
       "          -7.3329e-08, -3.6771e-08,  9.0026e-08,  7.2476e-10,  4.5524e-08,\n",
       "          -4.0036e-10, -1.5621e-08, -7.3548e-07,  8.5631e-08, -2.1859e-07,\n",
       "          -1.9006e-08, -6.5174e-09,  2.1489e-07,  4.5711e-08, -1.2314e-09,\n",
       "           7.5739e-08,  1.7723e-10,  1.4322e-10,  9.1746e-08, -1.6189e-08,\n",
       "          -3.7759e-09, -4.9822e-08,  3.5570e-08, -1.5446e-08, -8.2228e-11,\n",
       "           7.6739e-08,  5.4843e-12,  9.6795e-08,  2.0777e-08, -1.6066e-08,\n",
       "           8.8209e-08,  4.6952e-08, -7.0161e-07, -6.8881e-08, -6.3959e-07,\n",
       "          -1.6894e-09, -5.0631e-08, -2.7565e-08,  2.9172e-09,  1.5559e-08,\n",
       "           5.4772e-08,  7.7067e-08, -8.9767e-08,  6.4785e-08,  3.2974e-07,\n",
       "          -1.0794e-07, -1.1611e-08, -3.3557e-10,  1.7352e-08,  2.3904e-08,\n",
       "          -3.7491e-08,  7.1716e-08, -8.2135e-09,  7.2691e-09, -7.1545e-08,\n",
       "          -1.6426e-12,  2.4186e-07,  7.2806e-10,  8.5157e-09,  2.2989e-08,\n",
       "           9.3214e-09, -1.8188e-08,  2.5146e-08, -4.7509e-08, -2.8418e-08,\n",
       "          -6.0541e-08, -5.2268e-08,  6.9407e-08,  1.4681e-07,  2.0416e-08,\n",
       "           6.4188e-12, -1.0144e-07, -2.4798e-08, -3.4010e-09, -2.6773e-09,\n",
       "           4.3185e-10, -2.0921e-09, -3.2627e-08, -8.1552e-08, -1.5305e-07,\n",
       "          -8.5887e-12,  2.7287e-08,  8.9870e-08, -1.2339e-08, -6.2149e-08,\n",
       "           7.9058e-09,  4.9865e-09,  1.0486e-07, -3.4108e-08,  2.8242e-08,\n",
       "          -9.0891e-08, -5.1630e-09, -1.9538e-08,  3.1353e-08, -4.1522e-08,\n",
       "          -1.1735e-08, -8.1485e-08, -1.9400e-08, -8.6052e-07,  4.3013e-07,\n",
       "          -4.7822e-10,  9.1212e-08, -3.7999e-08,  4.9114e-09,  1.1851e-09,\n",
       "          -8.1186e-08,  2.0633e-07,  2.0706e-08, -1.3052e-07, -1.6618e-08,\n",
       "           7.2674e-08, -1.1541e-07,  5.6235e-09,  7.0264e-08, -6.0457e-07,\n",
       "           3.6936e-10,  2.7382e-07, -5.6915e-07,  2.6356e-07,  9.4481e-09,\n",
       "           1.1112e-07, -2.0812e-07, -1.0342e-07,  2.1515e-09,  5.5136e-07,\n",
       "           1.3514e-07, -1.4259e-06, -1.5358e-08,  4.0029e-08,  1.7761e-08,\n",
       "           4.5424e-08, -1.7673e-08,  7.2727e-09, -6.4557e-10, -1.3659e-08,\n",
       "           3.6570e-07, -3.6382e-09,  2.9050e-07,  1.6800e-07, -1.1567e-08,\n",
       "           1.8092e-07, -3.9686e-08,  1.1731e-07,  1.9759e-07,  2.6936e-07,\n",
       "          -6.9336e-11,  1.0907e-07, -7.5780e-08, -1.2861e-08,  5.8323e-07,\n",
       "          -1.2611e-09, -3.5564e-08, -3.2711e-10, -5.2730e-08, -9.0192e-11,\n",
       "           6.9685e-09, -5.0965e-09,  1.5946e-06,  6.2409e-07,  8.8082e-08,\n",
       "          -1.6186e-09, -6.6053e-08, -2.0178e-08, -1.7573e-09,  1.2321e-08,\n",
       "           7.7168e-08, -6.1948e-09,  3.9602e-09,  5.1331e-08, -4.4840e-08,\n",
       "           2.5026e-07, -8.9907e-08,  2.1185e-07, -7.9062e-07, -1.6425e-07,\n",
       "           1.6437e-10, -3.1858e-08,  2.1708e-07,  3.3687e-08, -8.2685e-08,\n",
       "           4.3858e-08,  7.9601e-08, -1.7804e-08,  1.2794e-10,  5.2655e-07,\n",
       "          -1.1577e-09,  1.3128e-08, -3.9133e-09,  8.5889e-10, -1.6513e-08,\n",
       "           3.8139e-08,  5.0522e-07, -2.1561e-07, -1.4496e-07, -1.7651e-08,\n",
       "           1.1817e-07, -9.2268e-08, -4.5572e-08, -1.8202e-10, -3.5453e-08,\n",
       "           4.4602e-08,  2.4641e-08,  5.3282e-09,  3.0015e-09, -1.5129e-09,\n",
       "           5.1673e-08, -2.1483e-07,  2.9569e-08,  1.5296e-10,  7.2295e-08,\n",
       "           2.3388e-08,  1.6501e-07,  2.9454e-09, -1.1428e-07,  3.8549e-08,\n",
       "          -6.4030e-08, -8.0827e-08, -7.3787e-08, -1.7153e-07,  1.4621e-07,\n",
       "           1.1208e-09,  1.8139e-08,  9.0369e-08, -9.5071e-09, -3.2972e-07,\n",
       "           1.2619e-07,  6.8036e-08,  2.6978e-08, -1.9923e-09,  1.7892e-08,\n",
       "          -2.2425e-08,  1.0340e-08, -2.6484e-08,  1.1838e-08, -1.2566e-08,\n",
       "          -6.2934e-09, -2.0355e-07, -1.4004e-07,  1.0189e-07,  2.6003e-07,\n",
       "          -4.6914e-08,  1.9747e-07, -4.5839e-07,  2.7866e-07,  5.1265e-07,\n",
       "          -3.9075e-09,  5.5831e-07,  1.1140e-07, -3.7948e-07,  1.8344e-07,\n",
       "          -4.9633e-07,  3.8215e-07, -3.4910e-07, -2.5796e-08, -2.5802e-08,\n",
       "           1.9378e-07,  2.1181e-07, -1.5126e-07,  5.4797e-07,  4.6461e-08,\n",
       "           4.0569e-07, -3.2235e-08, -3.4726e-07,  1.0477e-07,  3.8474e-07,\n",
       "          -5.1180e-08, -3.3924e-07,  1.9916e-08, -4.1307e-07,  3.6761e-08,\n",
       "          -1.1905e-07,  9.2505e-08, -1.6793e-07, -6.4121e-08,  3.3049e-07,\n",
       "           1.8746e-07,  1.2636e-07,  5.6374e-07,  1.1025e-07, -9.6804e-08,\n",
       "           3.3195e-07, -1.8714e-07,  1.5652e-07, -7.0995e-08,  3.2224e-07,\n",
       "           1.7854e-07,  5.3279e-07,  5.7272e-08, -1.1481e-08, -2.4663e-08,\n",
       "           3.0058e-07,  3.3254e-07, -4.6314e-07,  1.2535e-08, -1.4313e-07,\n",
       "           1.0538e-07, -1.3060e-07,  6.2928e-07,  4.8915e-07,  2.6288e-07,\n",
       "           4.1773e-08,  1.2110e-07,  5.9820e-08, -4.2251e-08, -1.4019e-08,\n",
       "           1.8663e-07, -9.5553e-08,  1.0019e-07, -2.1772e-07,  3.8923e-08,\n",
       "           2.7330e-08,  4.3119e-07, -3.8546e-07,  4.5644e-08, -2.0044e-07,\n",
       "          -1.2008e-07,  2.6557e-07,  4.1426e-07,  1.9799e-07,  3.3783e-07,\n",
       "          -1.7485e-08, -4.0751e-08, -1.2586e-07,  3.6481e-08, -3.3607e-07,\n",
       "          -6.9478e-08,  1.6782e-07,  3.4833e-07,  8.8272e-08,  3.9897e-07,\n",
       "           3.0698e-07, -1.2017e-07,  2.9222e-08, -3.1361e-07, -1.5296e-07,\n",
       "          -2.3528e-07,  8.7604e-08, -6.7135e-08, -9.3919e-08, -9.2301e-08,\n",
       "           6.9113e-08,  1.3313e-07,  4.7439e-08, -2.4032e-07,  4.0885e-08,\n",
       "          -2.7708e-07,  2.5096e-07,  1.5614e-07,  2.1721e-07,  2.0516e-07,\n",
       "           1.3913e-08,  2.7702e-07, -1.0729e-07,  6.5332e-08,  3.8589e-07,\n",
       "          -1.2852e-07, -3.4651e-07, -1.0659e-07,  2.9606e-07,  7.8235e-08,\n",
       "           1.0838e-08, -4.2535e-09,  6.6207e-08, -5.3618e-08,  8.0867e-07,\n",
       "           1.5136e-07,  8.7666e-08]),\n",
       "  'exp_avg_sq': tensor([1.6588e-12, 4.0038e-15, 3.8459e-14, 1.9846e-13, 6.6688e-18, 5.4282e-13,\n",
       "          1.1917e-13, 2.2239e-12, 7.4654e-14, 1.0352e-13, 5.2491e-13, 3.4793e-16,\n",
       "          3.1254e-16, 3.1116e-13, 3.2971e-14, 1.0549e-12, 2.6216e-14, 6.0682e-13,\n",
       "          7.0357e-13, 1.4865e-13, 2.0895e-16, 9.7104e-14, 5.0186e-15, 2.5246e-14,\n",
       "          1.4490e-11, 1.0418e-13, 5.8745e-14, 3.6855e-14, 2.1261e-13, 3.1037e-13,\n",
       "          7.4330e-14, 4.8543e-13, 7.3036e-13, 1.9097e-13, 5.2549e-17, 8.4221e-13,\n",
       "          7.8928e-13, 2.6519e-14, 9.5119e-13, 1.1630e-13, 5.1891e-14, 3.8747e-17,\n",
       "          4.7211e-14, 2.4007e-17, 3.1229e-14, 3.5733e-13, 1.8889e-11, 4.0818e-14,\n",
       "          9.6812e-14, 2.5280e-12, 2.4005e-13, 1.2907e-12, 7.2092e-17, 6.3233e-14,\n",
       "          3.4655e-14, 4.3204e-16, 4.7619e-15, 8.7083e-14, 6.4324e-14, 1.4771e-12,\n",
       "          3.5577e-13, 3.4602e-13, 2.7198e-12, 1.6815e-13, 3.9632e-16, 4.0198e-14,\n",
       "          1.0158e-12, 1.9005e-15, 5.3338e-14, 4.7535e-14, 4.9730e-15, 2.2465e-13,\n",
       "          2.5791e-16, 1.7451e-13, 8.9957e-15, 3.6010e-15, 5.6238e-15, 3.8984e-15,\n",
       "          1.8478e-14, 2.0344e-14, 4.2511e-14, 1.3712e-14, 5.2460e-13, 2.8258e-14,\n",
       "          8.4456e-13, 3.6857e-13, 9.3846e-13, 2.3242e-17, 2.2864e-12, 7.4654e-14,\n",
       "          1.3867e-15, 1.0246e-14, 9.8605e-18, 9.2240e-16, 6.7877e-14, 2.5857e-13,\n",
       "          7.3176e-13, 3.6756e-17, 5.6216e-15, 2.9325e-13, 1.8457e-12, 4.4385e-14,\n",
       "          5.6478e-13, 5.7791e-14, 9.2357e-13, 7.7845e-14, 2.3088e-13, 2.7114e-13,\n",
       "          1.6942e-12, 3.4920e-15, 3.4317e-13, 5.0447e-13, 5.1529e-14, 1.0216e-13,\n",
       "          1.3582e-12, 2.0332e-11, 2.1250e-14, 4.7173e-17, 7.1961e-13, 2.0841e-14,\n",
       "          1.2615e-15, 2.7815e-13, 6.2476e-14, 8.9832e-13, 1.2278e-14, 9.0589e-13,\n",
       "          1.0898e-14, 4.8146e-13, 6.9333e-14, 3.1474e-15, 4.7517e-14, 3.3701e-14,\n",
       "          3.8131e-17, 1.7802e-13, 1.1893e-13, 7.1579e-12, 1.3478e-14, 3.4125e-13,\n",
       "          2.5375e-13, 4.8082e-15, 2.8293e-15, 1.3709e-12, 4.9293e-14, 4.1191e-13,\n",
       "          2.3107e-13, 5.7476e-13, 1.7139e-13, 1.4764e-13, 5.2167e-16, 1.7452e-14,\n",
       "          4.2019e-16, 2.4487e-14, 3.7347e-12, 9.5620e-14, 2.3347e-13, 1.5665e-13,\n",
       "          2.6722e-14, 1.2801e-13, 8.7262e-14, 3.1254e-14, 2.9966e-13, 4.3559e-14,\n",
       "          1.3176e-16, 1.6664e-12, 8.8392e-14, 9.0957e-15, 8.9194e-13, 5.2279e-14,\n",
       "          3.6039e-15, 2.4281e-16, 9.6972e-14, 9.2487e-17, 8.3982e-14, 1.0863e-13,\n",
       "          1.4757e-11, 1.4982e-12, 1.6283e-14, 3.5439e-12, 4.4401e-14, 9.0504e-12,\n",
       "          2.3628e-16, 5.6832e-14, 1.5401e-14, 6.0091e-16, 1.4054e-14, 8.3554e-14,\n",
       "          3.6035e-13, 6.7089e-13, 4.2300e-13, 4.8569e-13, 3.4479e-13, 2.3356e-14,\n",
       "          8.4732e-16, 1.0067e-14, 2.3945e-13, 4.2431e-14, 1.4588e-13, 5.3128e-15,\n",
       "          2.1515e-14, 2.6880e-13, 1.0929e-15, 2.3516e-13, 6.4994e-16, 7.1104e-15,\n",
       "          9.1360e-15, 8.3105e-15, 1.8562e-14, 1.5119e-14, 1.9747e-13, 2.7285e-14,\n",
       "          1.6346e-13, 1.4281e-14, 4.6804e-13, 2.2130e-13, 1.1946e-13, 1.2965e-16,\n",
       "          7.1509e-13, 1.6435e-13, 4.9459e-15, 5.5471e-15, 1.1569e-16, 8.2560e-16,\n",
       "          4.8288e-15, 7.5440e-14, 6.5273e-13, 5.1483e-17, 9.9661e-15, 1.2198e-13,\n",
       "          5.6603e-13, 6.9134e-14, 5.4842e-13, 4.6897e-14, 6.1884e-13, 3.7661e-13,\n",
       "          1.8043e-13, 4.0597e-13, 2.2820e-13, 4.2573e-14, 1.6743e-13, 2.0878e-13,\n",
       "          1.9877e-14, 8.0500e-14, 1.4282e-13, 1.5670e-11, 7.4266e-13, 1.3968e-16,\n",
       "          5.6946e-13, 1.6855e-14, 5.6688e-16, 2.3138e-14, 4.7598e-14, 5.1790e-13,\n",
       "          1.2513e-14, 7.9259e-13, 1.4567e-13, 2.2857e-13, 7.5394e-13, 4.5140e-15,\n",
       "          1.7866e-13, 2.5701e-12, 3.9067e-15, 5.0014e-13, 1.0705e-12, 4.6226e-12,\n",
       "          4.0920e-14, 2.1731e-13, 3.3354e-13, 6.5036e-13, 1.0800e-14, 4.0630e-12,\n",
       "          9.4365e-13, 4.7469e-12, 6.9223e-14, 9.0010e-13, 1.4831e-13, 4.3071e-13,\n",
       "          2.9490e-14, 2.7123e-13, 2.3403e-14, 7.0299e-14, 1.2122e-10, 1.3883e-13,\n",
       "          2.0166e-12, 1.4743e-12, 1.5048e-13, 7.2210e-13, 2.7298e-13, 2.2728e-13,\n",
       "          5.4243e-13, 1.5181e-12, 5.8070e-14, 8.3967e-13, 1.6015e-13, 2.0524e-14,\n",
       "          3.7005e-12, 7.7685e-13, 1.3476e-13, 3.7381e-14, 7.0182e-14, 4.3258e-15,\n",
       "          1.0581e-14, 3.8581e-15, 6.9638e-11, 6.0805e-12, 1.5405e-13, 4.9518e-14,\n",
       "          2.1383e-13, 4.0446e-12, 5.6542e-15, 4.8431e-13, 5.4728e-13, 1.8418e-14,\n",
       "          1.9884e-14, 7.8847e-13, 2.5478e-12, 2.6477e-12, 5.9593e-13, 8.9866e-13,\n",
       "          2.8682e-12, 2.6519e-13, 2.2785e-13, 4.5613e-14, 4.5733e-13, 4.7302e-13,\n",
       "          8.8408e-14, 1.0575e-13, 2.5098e-13, 1.9049e-13, 6.4136e-14, 2.7433e-12,\n",
       "          8.1077e-15, 2.2232e-13, 7.6782e-15, 9.2876e-15, 3.8880e-14, 1.2086e-13,\n",
       "          1.8307e-12, 5.5029e-13, 2.7322e-13, 3.6354e-14, 2.9182e-13, 5.8078e-13,\n",
       "          2.0503e-13, 6.2569e-14, 6.1064e-12, 6.3936e-13, 2.2765e-13, 8.4355e-14,\n",
       "          7.1398e-14, 5.2239e-14, 2.9186e-13, 2.9394e-13, 1.0506e-12, 6.9467e-15,\n",
       "          1.5347e-13, 1.0899e-12, 6.0755e-13, 1.5832e-13, 3.1802e-12, 7.0757e-14,\n",
       "          3.2490e-13, 1.9390e-12, 8.7223e-13, 6.2255e-13, 3.1453e-13, 1.0180e-13,\n",
       "          1.2744e-13, 4.2579e-13, 1.2871e-13, 6.4708e-13, 3.8103e-13, 2.9813e-11,\n",
       "          2.5000e-12, 1.3636e-14, 1.0268e-12, 3.8543e-14, 1.3864e-14, 1.3399e-13,\n",
       "          2.2506e-14, 4.8810e-13, 2.7036e-14, 6.1640e-13, 9.0760e-13, 2.2750e-13,\n",
       "          7.6746e-13, 2.6717e-12, 3.6657e-13, 7.1215e-13, 4.2243e-13, 8.3173e-13,\n",
       "          5.6388e-14, 2.9332e-12, 4.2561e-13, 8.5693e-13, 2.6470e-12, 3.2764e-12,\n",
       "          5.9469e-13, 2.0207e-12, 5.9564e-14, 8.6705e-14, 6.3561e-13, 4.8020e-13,\n",
       "          1.5832e-12, 3.2765e-12, 1.2907e-12, 5.6548e-13, 1.3538e-12, 8.9226e-13,\n",
       "          2.0510e-13, 1.5948e-12, 2.0289e-13, 1.5506e-12, 2.7919e-13, 3.1924e-13,\n",
       "          4.3112e-13, 4.9574e-13, 7.2962e-13, 7.2649e-13, 9.9272e-13, 1.0718e-12,\n",
       "          3.4778e-13, 1.0445e-12, 2.0397e-12, 4.8938e-13, 1.5510e-13, 5.8454e-13,\n",
       "          2.5903e-13, 5.7059e-13, 1.9569e-12, 7.9632e-13, 4.2874e-13, 1.6181e-12,\n",
       "          6.8826e-13, 3.6183e-12, 4.9209e-13, 2.2511e-12, 8.5737e-13, 3.2158e-13,\n",
       "          7.0350e-13, 1.8803e-12, 4.3246e-13, 6.0703e-13, 2.4179e-12, 2.3637e-12,\n",
       "          1.0497e-12, 6.6344e-13, 1.0058e-12, 2.2858e-13, 6.1171e-13, 2.9597e-13,\n",
       "          3.8740e-13, 8.6999e-13, 6.0244e-13, 5.2313e-13, 1.6720e-13, 6.5048e-13,\n",
       "          1.1726e-12, 1.9098e-12, 4.0521e-12, 8.3917e-13, 8.7797e-13, 1.3620e-12,\n",
       "          1.9818e-12, 1.0817e-12, 1.4813e-12, 7.0104e-13, 2.3839e-13, 4.7959e-13,\n",
       "          9.3017e-13, 1.3922e-12, 6.3363e-13, 1.7167e-12, 7.5427e-13, 1.5907e-12,\n",
       "          1.3935e-12, 1.1995e-12, 1.3994e-13, 5.2924e-13, 5.3003e-13, 3.9257e-13,\n",
       "          8.5166e-13, 7.6985e-13, 2.2435e-13, 3.2129e-13, 6.4320e-13, 5.8251e-13,\n",
       "          7.0439e-13, 1.6540e-13, 2.4514e-12, 5.1635e-13, 1.1871e-12, 7.0898e-13,\n",
       "          9.3340e-14, 3.8366e-13, 1.3999e-12, 7.4208e-14, 1.4220e-12, 7.3331e-13,\n",
       "          7.4260e-13, 4.3348e-12, 1.6350e-12, 2.2185e-12, 2.8146e-13, 5.1300e-13,\n",
       "          1.0708e-12, 9.9779e-13, 6.0948e-13, 9.4085e-13, 1.0177e-12, 2.2973e-12,\n",
       "          6.1787e-13, 1.1177e-12])},\n",
       " 4: {'step': tensor(6960.),\n",
       "  'exp_avg': tensor([[-5.8188e-07,  3.3771e-06,  4.9920e-06,  3.7947e-06,  6.2564e-07,\n",
       "            2.4464e-07, -7.5911e-07,  9.1359e-06,  4.5452e-06,  5.6178e-06,\n",
       "           -3.6821e-06, -2.1237e-07, -4.0243e-06,  2.7017e-06, -4.4271e-06,\n",
       "           -1.9633e-06,  3.0294e-06, -5.3658e-06, -1.5235e-07,  1.7379e-06,\n",
       "           -3.7200e-06, -1.8824e-06, -2.3639e-06, -3.2975e-07,  3.2376e-06,\n",
       "            5.2588e-07,  1.3970e-06,  9.7951e-07,  2.0844e-06,  2.2401e-07,\n",
       "            1.7760e-06,  1.1660e-06, -2.7881e-07,  3.9537e-07,  8.0366e-07,\n",
       "            4.7510e-06,  5.5948e-07, -2.3531e-06,  3.8984e-06, -1.5298e-06,\n",
       "           -4.4062e-07,  6.1808e-06, -1.4539e-06,  1.8380e-06,  8.6903e-06,\n",
       "            1.8292e-06,  4.3851e-06,  3.4459e-06,  6.5075e-08,  9.2299e-07,\n",
       "           -1.8563e-06, -1.9237e-07,  2.4269e-06, -1.5843e-06,  1.9686e-06,\n",
       "           -2.7695e-07,  2.3577e-06, -1.8335e-07, -9.1739e-07, -6.7014e-07,\n",
       "           -1.5159e-06,  8.6834e-07,  2.2890e-06,  2.3755e-07, -9.8583e-07,\n",
       "            2.3110e-06,  2.3752e-07,  8.9105e-07,  7.0475e-07,  9.5736e-07,\n",
       "           -9.2757e-08, -4.0204e-06,  2.5470e-06,  2.7565e-06,  5.4761e-07,\n",
       "           -3.2223e-06, -6.0854e-06, -1.9744e-06,  3.9560e-06, -5.9564e-07,\n",
       "            8.4878e-07,  1.2595e-06, -1.7433e-06, -8.0098e-07, -1.9576e-07,\n",
       "            1.9077e-06, -1.5792e-06,  6.5318e-06,  1.2471e-06,  3.6225e-07,\n",
       "           -3.6960e-06,  2.5577e-06, -1.5255e-06,  3.9762e-07, -1.2521e-06,\n",
       "           -1.8517e-06, -2.2640e-06,  2.9238e-06,  1.6294e-06, -1.7010e-06,\n",
       "           -2.2844e-06, -6.6556e-07,  2.6656e-06, -5.2255e-08, -1.3396e-05,\n",
       "            9.9090e-07, -1.2323e-06, -1.0764e-06,  2.2093e-07,  9.9225e-07,\n",
       "           -4.4618e-06,  5.3319e-07,  1.9819e-06,  6.3385e-08,  1.1696e-06,\n",
       "           -1.8273e-06, -5.2378e-07, -1.4910e-06, -5.7152e-08, -5.2629e-06,\n",
       "           -3.3987e-07, -1.3604e-07, -4.2062e-06, -4.4556e-07, -1.6304e-06,\n",
       "           -1.3263e-06, -3.7096e-07,  5.3709e-07]]),\n",
       "  'exp_avg_sq': tensor([[1.5918e-11, 1.8721e-10, 5.2396e-11, 8.9502e-11, 3.6505e-11, 4.5591e-11,\n",
       "           2.2003e-11, 2.9238e-10, 7.5373e-11, 6.7235e-11, 1.3243e-10, 3.9830e-10,\n",
       "           9.9672e-11, 1.8631e-10, 2.6867e-11, 7.0143e-11, 1.5477e-10, 8.8145e-11,\n",
       "           5.2183e-11, 6.3158e-11, 9.3094e-11, 3.1295e-11, 1.4743e-10, 4.8694e-11,\n",
       "           6.1526e-10, 4.1684e-11, 4.8117e-11, 9.8960e-11, 2.2013e-11, 1.3879e-10,\n",
       "           5.8015e-11, 2.1615e-11, 2.1720e-11, 6.2683e-11, 5.3920e-11, 2.3869e-10,\n",
       "           2.2999e-11, 1.1613e-10, 1.1045e-10, 6.7447e-11, 2.4935e-11, 1.6741e-10,\n",
       "           2.7348e-11, 5.2411e-11, 3.4325e-10, 6.8686e-11, 4.9958e-10, 4.4559e-10,\n",
       "           4.1628e-11, 2.6441e-10, 1.2782e-10, 2.0387e-10, 8.5395e-11, 1.5652e-11,\n",
       "           2.5258e-10, 4.9188e-10, 7.5203e-11, 7.0220e-11, 8.3310e-11, 1.1814e-10,\n",
       "           1.9155e-10, 1.7049e-10, 6.3382e-11, 5.1502e-11, 1.6640e-10, 6.0569e-11,\n",
       "           4.2334e-11, 5.9455e-11, 4.2884e-11, 2.4087e-11, 2.0570e-11, 5.6675e-10,\n",
       "           1.5801e-10, 7.7697e-11, 2.7917e-10, 7.9072e-11, 1.4105e-10, 1.4618e-10,\n",
       "           7.1548e-11, 4.1571e-11, 1.8050e-10, 3.1494e-11, 2.6483e-11, 4.2373e-11,\n",
       "           5.9531e-11, 8.7581e-11, 2.4077e-11, 2.0675e-10, 5.1272e-11, 6.9448e-11,\n",
       "           2.9238e-10, 7.9576e-11, 3.2608e-11, 8.4967e-11, 5.8836e-11, 5.6372e-11,\n",
       "           9.7925e-11, 2.3510e-10, 2.3162e-11, 5.8700e-11, 6.2599e-11, 8.3305e-11,\n",
       "           4.8245e-11, 2.3324e-11, 6.9712e-10, 4.0740e-11, 1.3673e-10, 1.6428e-10,\n",
       "           2.6439e-11, 2.1069e-11, 1.2884e-10, 6.8839e-11, 5.4463e-11, 6.8099e-11,\n",
       "           4.8008e-11, 3.1763e-10, 9.0266e-11, 5.5380e-10, 8.4888e-11, 1.3829e-10,\n",
       "           1.0050e-10, 4.7161e-11, 1.4011e-10, 1.0485e-10, 1.4477e-10, 2.8676e-11,\n",
       "           1.8821e-11, 5.1374e-11]])},\n",
       " 5: {'step': tensor(6960.),\n",
       "  'exp_avg': tensor([-6.2665e-06]),\n",
       "  'exp_avg_sq': tensor([1.1790e-09])}}"
      ]
     },
     "execution_count": 15,
     "metadata": {},
     "output_type": "execute_result"
    }
   ],
   "source": [
    "optimizer['state']"
   ]
  },
  {
   "cell_type": "code",
   "execution_count": null,
   "id": "a4503a32-1a74-4551-b19e-5070cdb057fe",
   "metadata": {},
   "outputs": [],
   "source": []
  }
 ],
 "metadata": {
  "kernelspec": {
   "display_name": "Python 3 (ipykernel)",
   "language": "python",
   "name": "python3"
  },
  "language_info": {
   "codemirror_mode": {
    "name": "ipython",
    "version": 3
   },
   "file_extension": ".py",
   "mimetype": "text/x-python",
   "name": "python",
   "nbconvert_exporter": "python",
   "pygments_lexer": "ipython3",
   "version": "3.10.12"
  }
 },
 "nbformat": 4,
 "nbformat_minor": 5
}
