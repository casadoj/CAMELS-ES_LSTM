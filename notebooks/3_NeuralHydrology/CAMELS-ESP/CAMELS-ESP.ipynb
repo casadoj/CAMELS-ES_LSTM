{
 "cells": [
  {
   "cell_type": "markdown",
   "metadata": {
    "id": "a5tGM7HbkLVV"
   },
   "source": [
    "# LSTM Camels-ESP"
   ]
  },
  {
   "cell_type": "code",
   "execution_count": 1,
   "metadata": {
    "colab": {
     "base_uri": "https://localhost:8080/"
    },
    "collapsed": true,
    "executionInfo": {
     "elapsed": 8042,
     "status": "ok",
     "timestamp": 1694457088632,
     "user": {
      "displayName": "Jesús Casado Rodríguez",
      "userId": "18221488739992928084"
     },
     "user_tz": -120
    },
    "id": "SsdhqIPCkQvD",
    "jupyter": {
     "outputs_hidden": true
    },
    "outputId": "08944f91-f61b-40a8-8650-eef53fdb7a78",
    "tags": []
   },
   "outputs": [
    {
     "name": "stdout",
     "output_type": "stream",
     "text": [
      "Collecting neuralhydrology\n",
      "  Downloading neuralhydrology-1.9.0-py3-none-any.whl (170 kB)\n",
      "\u001b[2K     \u001b[90m━━━━━━━━━━━━━━━━━━━━━━━━━━━━━━━━━━━━━━━\u001b[0m \u001b[32m170.3/170.3 kB\u001b[0m \u001b[31m3.9 MB/s\u001b[0m eta \u001b[36m0:00:00\u001b[0ma \u001b[36m0:00:01\u001b[0m\n",
      "\u001b[?25hRequirement already satisfied: matplotlib in /usr/local/lib/python3.10/dist-packages (from neuralhydrology) (3.7.1)\n",
      "Requirement already satisfied: numba in /usr/local/lib/python3.10/dist-packages (from neuralhydrology) (0.56.4)\n",
      "Requirement already satisfied: numpy in /usr/local/lib/python3.10/dist-packages (from neuralhydrology) (1.23.5)\n",
      "Requirement already satisfied: pandas in /usr/local/lib/python3.10/dist-packages (from neuralhydrology) (1.5.3)\n",
      "Collecting ruamel.yaml (from neuralhydrology)\n",
      "  Downloading ruamel.yaml-0.17.32-py3-none-any.whl (112 kB)\n",
      "\u001b[2K     \u001b[90m━━━━━━━━━━━━━━━━━━━━━━━━━━━━━━━━━━━━━━━\u001b[0m \u001b[32m112.2/112.2 kB\u001b[0m \u001b[31m8.8 MB/s\u001b[0m eta \u001b[36m0:00:00\u001b[0m\n",
      "\u001b[?25hRequirement already satisfied: torch in /usr/local/lib/python3.10/dist-packages (from neuralhydrology) (2.0.1+cu118)\n",
      "Requirement already satisfied: scipy in /usr/local/lib/python3.10/dist-packages (from neuralhydrology) (1.11.2)\n",
      "Requirement already satisfied: tensorboard in /usr/local/lib/python3.10/dist-packages (from neuralhydrology) (2.13.0)\n",
      "Requirement already satisfied: tqdm in /usr/local/lib/python3.10/dist-packages (from neuralhydrology) (4.66.1)\n",
      "Requirement already satisfied: xarray in /usr/local/lib/python3.10/dist-packages (from neuralhydrology) (2023.7.0)\n",
      "Requirement already satisfied: contourpy>=1.0.1 in /usr/local/lib/python3.10/dist-packages (from matplotlib->neuralhydrology) (1.1.0)\n",
      "Requirement already satisfied: cycler>=0.10 in /usr/local/lib/python3.10/dist-packages (from matplotlib->neuralhydrology) (0.11.0)\n",
      "Requirement already satisfied: fonttools>=4.22.0 in /usr/local/lib/python3.10/dist-packages (from matplotlib->neuralhydrology) (4.42.1)\n",
      "Requirement already satisfied: kiwisolver>=1.0.1 in /usr/local/lib/python3.10/dist-packages (from matplotlib->neuralhydrology) (1.4.5)\n",
      "Requirement already satisfied: packaging>=20.0 in /usr/local/lib/python3.10/dist-packages (from matplotlib->neuralhydrology) (23.1)\n",
      "Requirement already satisfied: pillow>=6.2.0 in /usr/local/lib/python3.10/dist-packages (from matplotlib->neuralhydrology) (9.4.0)\n",
      "Requirement already satisfied: pyparsing>=2.3.1 in /usr/local/lib/python3.10/dist-packages (from matplotlib->neuralhydrology) (3.1.1)\n",
      "Requirement already satisfied: python-dateutil>=2.7 in /usr/local/lib/python3.10/dist-packages (from matplotlib->neuralhydrology) (2.8.2)\n",
      "Requirement already satisfied: llvmlite<0.40,>=0.39.0dev0 in /usr/local/lib/python3.10/dist-packages (from numba->neuralhydrology) (0.39.1)\n",
      "Requirement already satisfied: setuptools in /usr/local/lib/python3.10/dist-packages (from numba->neuralhydrology) (67.7.2)\n",
      "Requirement already satisfied: pytz>=2020.1 in /usr/local/lib/python3.10/dist-packages (from pandas->neuralhydrology) (2023.3.post1)\n",
      "Collecting ruamel.yaml.clib>=0.2.7 (from ruamel.yaml->neuralhydrology)\n",
      "  Downloading ruamel.yaml.clib-0.2.7-cp310-cp310-manylinux_2_17_x86_64.manylinux2014_x86_64.manylinux_2_24_x86_64.whl (485 kB)\n",
      "\u001b[2K     \u001b[90m━━━━━━━━━━━━━━━━━━━━━━━━━━━━━━━━━━━━━━\u001b[0m \u001b[32m485.6/485.6 kB\u001b[0m \u001b[31m12.5 MB/s\u001b[0m eta \u001b[36m0:00:00\u001b[0m\n",
      "\u001b[?25hRequirement already satisfied: absl-py>=0.4 in /usr/local/lib/python3.10/dist-packages (from tensorboard->neuralhydrology) (1.4.0)\n",
      "Requirement already satisfied: grpcio>=1.48.2 in /usr/local/lib/python3.10/dist-packages (from tensorboard->neuralhydrology) (1.57.0)\n",
      "Requirement already satisfied: google-auth<3,>=1.6.3 in /usr/local/lib/python3.10/dist-packages (from tensorboard->neuralhydrology) (2.17.3)\n",
      "Requirement already satisfied: google-auth-oauthlib<1.1,>=0.5 in /usr/local/lib/python3.10/dist-packages (from tensorboard->neuralhydrology) (1.0.0)\n",
      "Requirement already satisfied: markdown>=2.6.8 in /usr/local/lib/python3.10/dist-packages (from tensorboard->neuralhydrology) (3.4.4)\n",
      "Requirement already satisfied: protobuf>=3.19.6 in /usr/local/lib/python3.10/dist-packages (from tensorboard->neuralhydrology) (3.20.3)\n",
      "Requirement already satisfied: requests<3,>=2.21.0 in /usr/local/lib/python3.10/dist-packages (from tensorboard->neuralhydrology) (2.31.0)\n",
      "Requirement already satisfied: tensorboard-data-server<0.8.0,>=0.7.0 in /usr/local/lib/python3.10/dist-packages (from tensorboard->neuralhydrology) (0.7.1)\n",
      "Requirement already satisfied: werkzeug>=1.0.1 in /usr/local/lib/python3.10/dist-packages (from tensorboard->neuralhydrology) (2.3.7)\n",
      "Requirement already satisfied: wheel>=0.26 in /usr/local/lib/python3.10/dist-packages (from tensorboard->neuralhydrology) (0.41.2)\n",
      "Requirement already satisfied: filelock in /usr/local/lib/python3.10/dist-packages (from torch->neuralhydrology) (3.12.2)\n",
      "Requirement already satisfied: typing-extensions in /usr/local/lib/python3.10/dist-packages (from torch->neuralhydrology) (4.5.0)\n",
      "Requirement already satisfied: sympy in /usr/local/lib/python3.10/dist-packages (from torch->neuralhydrology) (1.12)\n",
      "Requirement already satisfied: networkx in /usr/local/lib/python3.10/dist-packages (from torch->neuralhydrology) (3.1)\n",
      "Requirement already satisfied: jinja2 in /usr/local/lib/python3.10/dist-packages (from torch->neuralhydrology) (3.1.2)\n",
      "Requirement already satisfied: triton==2.0.0 in /usr/local/lib/python3.10/dist-packages (from torch->neuralhydrology) (2.0.0)\n",
      "Requirement already satisfied: cmake in /usr/local/lib/python3.10/dist-packages (from triton==2.0.0->torch->neuralhydrology) (3.27.4.1)\n",
      "Requirement already satisfied: lit in /usr/local/lib/python3.10/dist-packages (from triton==2.0.0->torch->neuralhydrology) (16.0.6)\n",
      "Requirement already satisfied: cachetools<6.0,>=2.0.0 in /usr/local/lib/python3.10/dist-packages (from google-auth<3,>=1.6.3->tensorboard->neuralhydrology) (5.3.1)\n",
      "Requirement already satisfied: pyasn1-modules>=0.2.1 in /usr/local/lib/python3.10/dist-packages (from google-auth<3,>=1.6.3->tensorboard->neuralhydrology) (0.3.0)\n",
      "Requirement already satisfied: six>=1.9.0 in /usr/local/lib/python3.10/dist-packages (from google-auth<3,>=1.6.3->tensorboard->neuralhydrology) (1.16.0)\n",
      "Requirement already satisfied: rsa<5,>=3.1.4 in /usr/local/lib/python3.10/dist-packages (from google-auth<3,>=1.6.3->tensorboard->neuralhydrology) (4.9)\n",
      "Requirement already satisfied: requests-oauthlib>=0.7.0 in /usr/local/lib/python3.10/dist-packages (from google-auth-oauthlib<1.1,>=0.5->tensorboard->neuralhydrology) (1.3.1)\n",
      "Requirement already satisfied: charset-normalizer<4,>=2 in /usr/local/lib/python3.10/dist-packages (from requests<3,>=2.21.0->tensorboard->neuralhydrology) (3.2.0)\n",
      "Requirement already satisfied: idna<4,>=2.5 in /usr/local/lib/python3.10/dist-packages (from requests<3,>=2.21.0->tensorboard->neuralhydrology) (3.4)\n",
      "Requirement already satisfied: urllib3<3,>=1.21.1 in /usr/local/lib/python3.10/dist-packages (from requests<3,>=2.21.0->tensorboard->neuralhydrology) (2.0.4)\n",
      "Requirement already satisfied: certifi>=2017.4.17 in /usr/local/lib/python3.10/dist-packages (from requests<3,>=2.21.0->tensorboard->neuralhydrology) (2023.7.22)\n",
      "Requirement already satisfied: MarkupSafe>=2.1.1 in /usr/local/lib/python3.10/dist-packages (from werkzeug>=1.0.1->tensorboard->neuralhydrology) (2.1.3)\n",
      "Requirement already satisfied: mpmath>=0.19 in /usr/local/lib/python3.10/dist-packages (from sympy->torch->neuralhydrology) (1.3.0)\n",
      "Requirement already satisfied: pyasn1<0.6.0,>=0.4.6 in /usr/local/lib/python3.10/dist-packages (from pyasn1-modules>=0.2.1->google-auth<3,>=1.6.3->tensorboard->neuralhydrology) (0.5.0)\n",
      "Requirement already satisfied: oauthlib>=3.0.0 in /usr/local/lib/python3.10/dist-packages (from requests-oauthlib>=0.7.0->google-auth-oauthlib<1.1,>=0.5->tensorboard->neuralhydrology) (3.2.2)\n",
      "Installing collected packages: ruamel.yaml.clib, ruamel.yaml, neuralhydrology\n",
      "Successfully installed neuralhydrology-1.9.0 ruamel.yaml-0.17.32 ruamel.yaml.clib-0.2.7\n"
     ]
    }
   ],
   "source": [
    "! pip install neuralhydrology"
   ]
  },
  {
   "cell_type": "code",
   "execution_count": 2,
   "metadata": {
    "executionInfo": {
     "elapsed": 13261,
     "status": "ok",
     "timestamp": 1694457101875,
     "user": {
      "displayName": "Jesús Casado Rodríguez",
      "userId": "18221488739992928084"
     },
     "user_tz": -120
    },
    "id": "a_W-qdQ9kLVc",
    "tags": []
   },
   "outputs": [],
   "source": [
    "import pickle\n",
    "import pandas as pd\n",
    "from pathlib import Path\n",
    "\n",
    "import matplotlib.pyplot as plt\n",
    "import seaborn as sns\n",
    "import torch\n",
    "\n",
    "from neuralhydrology.utils.config import Config\n",
    "from neuralhydrology.evaluation import metrics\n",
    "from neuralhydrology.nh_run import start_run, eval_run"
   ]
  },
  {
   "cell_type": "code",
   "execution_count": 3,
   "metadata": {
    "colab": {
     "base_uri": "https://localhost:8080/"
    },
    "executionInfo": {
     "elapsed": 41054,
     "status": "ok",
     "timestamp": 1694457142922,
     "user": {
      "displayName": "Jesús Casado Rodríguez",
      "userId": "18221488739992928084"
     },
     "user_tz": -120
    },
    "id": "2hhaQf-tk0bL",
    "outputId": "fa26a81d-6885-4038-dd4d-5174649fd72d"
   },
   "outputs": [
    {
     "name": "stdout",
     "output_type": "stream",
     "text": [
      "Mounted at /content/drive\n"
     ]
    }
   ],
   "source": [
    "from google.colab import drive\n",
    "drive.mount('/content/drive')"
   ]
  },
  {
   "cell_type": "code",
   "execution_count": 4,
   "metadata": {
    "colab": {
     "base_uri": "https://localhost:8080/"
    },
    "executionInfo": {
     "elapsed": 2786,
     "status": "ok",
     "timestamp": 1694457145693,
     "user": {
      "displayName": "Jesús Casado Rodríguez",
      "userId": "18221488739992928084"
     },
     "user_tz": -120
    },
    "id": "IIZeExFFtbfe",
    "outputId": "81d778e7-c24b-431b-8b0c-aa590d9c5747"
   },
   "outputs": [
    {
     "name": "stdout",
     "output_type": "stream",
     "text": [
      "/content/drive/MyDrive/TFM/notebook/models\n",
      "/content/drive/MyDrive/TFM/notebook/models/CAMELS-ESP\n"
     ]
    }
   ],
   "source": [
    "%cd /content/drive/MyDrive/TFM/notebook/models/\n",
    "from model_utils import *\n",
    "%cd ./CAMELS-ESP/"
   ]
  },
  {
   "cell_type": "markdown",
   "metadata": {
    "id": "hmggHyt3tbff"
   },
   "source": [
    "### Configuración"
   ]
  },
  {
   "cell_type": "code",
   "execution_count": 8,
   "metadata": {
    "colab": {
     "base_uri": "https://localhost:8080/"
    },
    "executionInfo": {
     "elapsed": 1081,
     "status": "ok",
     "timestamp": 1694457458277,
     "user": {
      "displayName": "Jesús Casado Rodríguez",
      "userId": "18221488739992928084"
     },
     "user_tz": -120
    },
    "id": "sC9wXa4Itbff",
    "outputId": "1b93eef6-f861-462f-ff1b-c680525def95",
    "tags": []
   },
   "outputs": [
    {
     "name": "stdout",
     "output_type": "stream",
     "text": [
      "CAMELS-ESP2_clipNone\n",
      "hidden size:\t64\n",
      "batch size:\t256\n",
      "dropout:\t0.4\n",
      "clip gradients:\tNone\n"
     ]
    }
   ],
   "source": [
    "# cargar archivo de configuración\n",
    "config_file = Path('config2_clipNone.yml')\n",
    "cfg = Config(config_file)\n",
    "\n",
    "target = cfg.target_variables[0]\n",
    "\n",
    "print(cfg.experiment_name)\n",
    "print('hidden size:', cfg.hidden_size, sep='\\t')\n",
    "print('batch size:', cfg.batch_size, sep='\\t')\n",
    "print('dropout:', cfg.output_dropout, sep='\\t')\n",
    "print('clip gradients:', cfg.clip_gradient_norm, sep='\\t')"
   ]
  },
  {
   "cell_type": "markdown",
   "metadata": {
    "id": "I4hagTCytbfh"
   },
   "source": [
    "### Entrenamiento"
   ]
  },
  {
   "cell_type": "code",
   "execution_count": 9,
   "metadata": {
    "colab": {
     "base_uri": "https://localhost:8080/"
    },
    "collapsed": true,
    "executionInfo": {
     "elapsed": 1013046,
     "status": "ok",
     "timestamp": 1694458478111,
     "user": {
      "displayName": "Jesús Casado Rodríguez",
      "userId": "18221488739992928084"
     },
     "user_tz": -120
    },
    "id": "M-KLDY-gkLVe",
    "jupyter": {
     "outputs_hidden": true
    },
    "outputId": "154f08f6-191c-4ffa-bdf2-fee29da704db",
    "tags": []
   },
   "outputs": [
    {
     "name": "stdout",
     "output_type": "stream",
     "text": [
      "100%|██████████| 161/161 [00:42<00:00,  3.80it/s]\n",
      "100%|██████████| 161/161 [00:00<00:00, 581.32it/s]\n",
      "100%|██████████| 161/161 [00:09<00:00, 17.29it/s]\n",
      "# Epoch 1: 100%|██████████| 1145/1145 [00:28<00:00, 40.67it/s, Loss: 0.0756]\n",
      "# Validation: 100%|██████████| 53/53 [00:19<00:00,  2.68it/s]\n",
      "# Epoch 2: 100%|██████████| 1145/1145 [00:26<00:00, 43.08it/s, Loss: 0.0591]\n",
      "# Validation: 100%|██████████| 53/53 [00:05<00:00,  9.34it/s]\n",
      "# Epoch 3: 100%|██████████| 1145/1145 [00:25<00:00, 45.21it/s, Loss: 0.0197]\n",
      "# Validation: 100%|██████████| 53/53 [00:05<00:00,  9.65it/s]\n",
      "# Epoch 4: 100%|██████████| 1145/1145 [00:26<00:00, 43.71it/s, Loss: 0.2409]\n",
      "# Validation: 100%|██████████| 53/53 [00:04<00:00, 13.09it/s]\n",
      "# Epoch 5: 100%|██████████| 1145/1145 [00:25<00:00, 44.48it/s, Loss: 0.0265]\n",
      "# Validation: 100%|██████████| 53/53 [00:04<00:00, 13.18it/s]\n",
      "# Epoch 6: 100%|██████████| 1145/1145 [00:26<00:00, 43.73it/s, Loss: 0.0176]\n",
      "# Validation: 100%|██████████| 53/53 [00:04<00:00, 13.16it/s]\n",
      "# Epoch 7: 100%|██████████| 1145/1145 [00:25<00:00, 44.70it/s, Loss: 0.0197]\n",
      "# Validation: 100%|██████████| 53/53 [00:03<00:00, 13.29it/s]\n",
      "# Epoch 8: 100%|██████████| 1145/1145 [00:26<00:00, 43.65it/s, Loss: 0.0270]\n",
      "# Validation: 100%|██████████| 53/53 [00:04<00:00, 10.90it/s]\n",
      "# Epoch 9: 100%|██████████| 1145/1145 [00:24<00:00, 47.03it/s, Loss: 0.0267]\n",
      "# Validation: 100%|██████████| 53/53 [00:05<00:00,  9.78it/s]\n",
      "# Epoch 10: 100%|██████████| 1145/1145 [00:24<00:00, 45.85it/s, Loss: 0.0214]\n",
      "# Validation: 100%|██████████| 53/53 [00:05<00:00, 10.59it/s]\n",
      "# Epoch 11: 100%|██████████| 1145/1145 [00:25<00:00, 45.17it/s, Loss: 0.0122]\n",
      "# Validation: 100%|██████████| 53/53 [00:04<00:00, 12.48it/s]\n",
      "# Epoch 12: 100%|██████████| 1145/1145 [00:26<00:00, 43.32it/s, Loss: 0.0209]\n",
      "# Validation: 100%|██████████| 53/53 [00:03<00:00, 13.37it/s]\n",
      "# Epoch 13: 100%|██████████| 1145/1145 [00:25<00:00, 44.83it/s, Loss: 0.1476]\n",
      "# Validation: 100%|██████████| 53/53 [00:03<00:00, 13.38it/s]\n",
      "# Epoch 14: 100%|██████████| 1145/1145 [00:27<00:00, 42.40it/s, Loss: 0.0452]\n",
      "# Validation: 100%|██████████| 53/53 [00:03<00:00, 13.45it/s]\n",
      "# Epoch 15: 100%|██████████| 1145/1145 [00:25<00:00, 44.14it/s, Loss: 0.0466]\n",
      "# Validation: 100%|██████████| 53/53 [00:05<00:00,  9.04it/s]\n",
      "# Epoch 16: 100%|██████████| 1145/1145 [00:25<00:00, 44.86it/s, Loss: 0.0180]\n",
      "# Validation: 100%|██████████| 53/53 [00:04<00:00, 11.02it/s]\n",
      "# Epoch 17: 100%|██████████| 1145/1145 [00:25<00:00, 44.91it/s, Loss: 0.0506]\n",
      "# Validation: 100%|██████████| 53/53 [00:04<00:00, 13.06it/s]\n",
      "# Epoch 18: 100%|██████████| 1145/1145 [00:26<00:00, 43.42it/s, Loss: 0.0319]\n",
      "# Validation: 100%|██████████| 53/53 [00:03<00:00, 13.27it/s]\n",
      "# Epoch 19: 100%|██████████| 1145/1145 [00:25<00:00, 44.65it/s, Loss: 0.0118]\n",
      "# Validation: 100%|██████████| 53/53 [00:04<00:00, 13.24it/s]\n",
      "# Epoch 20: 100%|██████████| 1145/1145 [00:26<00:00, 43.39it/s, Loss: 0.0181]\n",
      "# Validation: 100%|██████████| 53/53 [00:04<00:00, 13.02it/s]\n",
      "# Epoch 21: 100%|██████████| 1145/1145 [00:25<00:00, 44.41it/s, Loss: 0.0097]\n",
      "# Validation: 100%|██████████| 53/53 [00:04<00:00, 12.47it/s]\n",
      "# Epoch 22: 100%|██████████| 1145/1145 [00:26<00:00, 43.91it/s, Loss: 0.0131]\n",
      "# Validation: 100%|██████████| 53/53 [00:05<00:00,  9.62it/s]\n",
      "# Epoch 23: 100%|██████████| 1145/1145 [00:24<00:00, 46.17it/s, Loss: 0.0115]\n",
      "# Validation: 100%|██████████| 53/53 [00:05<00:00, 10.43it/s]\n",
      "# Epoch 24: 100%|██████████| 1145/1145 [00:26<00:00, 42.67it/s, Loss: 0.0137]\n",
      "# Validation: 100%|██████████| 53/53 [00:04<00:00, 13.08it/s]\n",
      "# Epoch 25: 100%|██████████| 1145/1145 [00:25<00:00, 44.23it/s, Loss: 0.0183]\n",
      "# Validation: 100%|██████████| 53/53 [00:03<00:00, 13.30it/s]\n",
      "# Epoch 26: 100%|██████████| 1145/1145 [00:27<00:00, 41.99it/s, Loss: 0.0090]\n",
      "# Validation: 100%|██████████| 53/53 [00:04<00:00, 13.20it/s]\n",
      "# Epoch 27: 100%|██████████| 1145/1145 [00:27<00:00, 42.10it/s, Loss: 0.0082]\n",
      "# Validation: 100%|██████████| 53/53 [00:05<00:00,  9.09it/s]\n",
      "# Epoch 28: 100%|██████████| 1145/1145 [00:24<00:00, 46.57it/s, Loss: 0.0357]\n",
      "# Validation: 100%|██████████| 53/53 [00:05<00:00,  9.75it/s]\n",
      "# Epoch 29: 100%|██████████| 1145/1145 [00:24<00:00, 45.99it/s, Loss: 0.0173]\n",
      "# Validation: 100%|██████████| 53/53 [00:04<00:00, 10.77it/s]\n",
      "# Epoch 30: 100%|██████████| 1145/1145 [00:25<00:00, 44.19it/s, Loss: 0.0099]\n",
      "# Validation: 100%|██████████| 53/53 [00:03<00:00, 13.36it/s]\n"
     ]
    }
   ],
   "source": [
    "# by default we assume that you have at least one CUDA-capable NVIDIA GPU\n",
    "if torch.cuda.is_available():\n",
    "    start_run(config_file=config_file)\n",
    "\n",
    "# fall back to CPU-only mode\n",
    "else:\n",
    "    start_run(config_file=config_file, gpu=-1)"
   ]
  },
  {
   "cell_type": "markdown",
   "metadata": {
    "id": "iObWtn15kLVf"
   },
   "source": [
    "### Simulación"
   ]
  },
  {
   "cell_type": "code",
   "execution_count": 10,
   "metadata": {
    "executionInfo": {
     "elapsed": 28,
     "status": "ok",
     "timestamp": 1694458478112,
     "user": {
      "displayName": "Jesús Casado Rodríguez",
      "userId": "18221488739992928084"
     },
     "user_tz": -120
    },
    "id": "HEHrK63jz4X8"
   },
   "outputs": [],
   "source": [
    "# 128 neuronas en la capa oculta\n",
    "run_dir = Path(f'runs/{cfg.experiment_name}_1109_183744')"
   ]
  },
  {
   "cell_type": "code",
   "execution_count": 11,
   "metadata": {
    "colab": {
     "base_uri": "https://localhost:8080/"
    },
    "executionInfo": {
     "elapsed": 60393,
     "status": "ok",
     "timestamp": 1694458538481,
     "user": {
      "displayName": "Jesús Casado Rodríguez",
      "userId": "18221488739992928084"
     },
     "user_tz": -120
    },
    "id": "WIDqiVX-2pVa",
    "outputId": "93b7ab2f-9de7-4ced-a628-7f41d592a795"
   },
   "outputs": [
    {
     "name": "stdout",
     "output_type": "stream",
     "text": [
      "# Evaluation: 100%|██████████| 161/161 [01:00<00:00,  2.66it/s]\n"
     ]
    }
   ],
   "source": [
    "# periodo de entrenamiento\n",
    "eval_run(run_dir=run_dir, period='train', gpu=0)"
   ]
  },
  {
   "cell_type": "code",
   "execution_count": 12,
   "metadata": {
    "colab": {
     "base_uri": "https://localhost:8080/"
    },
    "executionInfo": {
     "elapsed": 21225,
     "status": "ok",
     "timestamp": 1694458559692,
     "user": {
      "displayName": "Jesús Casado Rodríguez",
      "userId": "18221488739992928084"
     },
     "user_tz": -120
    },
    "id": "stHxlQ3Vw4mh",
    "outputId": "513c474b-47a7-4e8c-e438-22c62956b072"
   },
   "outputs": [
    {
     "name": "stdout",
     "output_type": "stream",
     "text": [
      "# Validation: 100%|██████████| 53/53 [00:20<00:00,  2.56it/s]\n"
     ]
    }
   ],
   "source": [
    "# periodo de validación\n",
    "eval_run(run_dir=run_dir, period='validation', gpu=0)"
   ]
  },
  {
   "cell_type": "code",
   "execution_count": 13,
   "metadata": {
    "colab": {
     "base_uri": "https://localhost:8080/"
    },
    "executionInfo": {
     "elapsed": 24113,
     "status": "ok",
     "timestamp": 1694458583798,
     "user": {
      "displayName": "Jesús Casado Rodríguez",
      "userId": "18221488739992928084"
     },
     "user_tz": -120
    },
    "id": "c7LOqDMb2qz9",
    "outputId": "b5fc2a1e-65b7-4ec6-a5a2-4b62e046e142"
   },
   "outputs": [
    {
     "name": "stdout",
     "output_type": "stream",
     "text": [
      "# Evaluation: 100%|██████████| 53/53 [00:23<00:00,  2.22it/s]\n"
     ]
    }
   ],
   "source": [
    "# periodo de evaluación\n",
    "eval_run(run_dir=run_dir, period='test', gpu=0)"
   ]
  },
  {
   "cell_type": "markdown",
   "metadata": {
    "id": "AWxffgrwtbfk"
   },
   "source": [
    "## Resultados"
   ]
  },
  {
   "cell_type": "code",
   "execution_count": 14,
   "metadata": {
    "executionInfo": {
     "elapsed": 17,
     "status": "ok",
     "timestamp": 1694458583800,
     "user": {
      "displayName": "Jesús Casado Rodríguez",
      "userId": "18221488739992928084"
     },
     "user_tz": -120
    },
    "id": "ndYq7BKqyU6B"
   },
   "outputs": [],
   "source": [
    "results = {}\n",
    "metrics = pd.DataFrame()\n",
    "for period in ['train', 'validation', 'test']:\n",
    "    # importar resultados\n",
    "    results_period, metrics_period = get_results(run_dir, period, epoch=cfg.epochs)\n",
    "    metrics_period.columns = [period]\n",
    "    results[period] = results_period\n",
    "    metrics = pd.concat((metrics, metrics_period), axis=1)"
   ]
  },
  {
   "cell_type": "code",
   "execution_count": 15,
   "metadata": {
    "colab": {
     "base_uri": "https://localhost:8080/",
     "height": 391
    },
    "executionInfo": {
     "elapsed": 504,
     "status": "ok",
     "timestamp": 1694458584294,
     "user": {
      "displayName": "Jesús Casado Rodríguez",
      "userId": "18221488739992928084"
     },
     "user_tz": -120
    },
    "id": "5GLQ7j2f0xKR",
    "outputId": "70701b4e-a981-4441-fc46-d15331d53cde"
   },
   "outputs": [
    {
     "data": {
      "image/png": "[encoded data removed]",
      "text/plain": [
       "<Figure size 400x400 with 1 Axes>"
      ]
     },
     "metadata": {},
     "output_type": "display_data"
    }
   ],
   "source": [
    "# diagramas de caja del rendimiento (KGE)\n",
    "fig, ax = plt.subplots(figsize=(4, 4))\n",
    "sns.boxplot(metrics, ax=ax)\n",
    "ax.set(title=cfg.experiment_name, ylabel=f'{cfg.metrics[0]} (-)', ylim=(-.42, 1.02));\n",
    "\n",
    "plt.savefig(run_dir / f'{cfg.metrics[0]}.jpg', dpi=300, bbox_inches='tight')"
   ]
  },
  {
   "cell_type": "code",
   "execution_count": 16,
   "metadata": {
    "colab": {
     "base_uri": "https://localhost:8080/",
     "height": 1000,
     "output_embedded_package_id": "1DicVoTx2KUQwR7grFmmp7iWVgZwC8ttY"
    },
    "executionInfo": {
     "elapsed": 206937,
     "status": "ok",
     "timestamp": 1694458791220,
     "user": {
      "displayName": "Jesús Casado Rodríguez",
      "userId": "18221488739992928084"
     },
     "user_tz": -120
    },
    "id": "N8rOPliUtbfm",
    "outputId": "46515a95-84b1-47a3-8b16-60e2d32b7723",
    "tags": []
   },
   "outputs": [
    {
     "data": {
      "text/plain": [
       "Output hidden; open in https://colab.research.google.com to view."
      ]
     },
     "metadata": {},
     "output_type": "display_data"
    }
   ],
   "source": [
    "for period, dct in results.items():\n",
    "    path = run_dir / 'hidrogramas' / period\n",
    "    if path.exists() is False:\n",
    "        path.mkdir(parents=True)\n",
    "    plot_results(dct, period, target, save=path)"
   ]
  },
  {
   "cell_type": "code",
   "execution_count": 18,
   "metadata": {
    "executionInfo": {
     "elapsed": 17,
     "status": "ok",
     "timestamp": 1694458791222,
     "user": {
      "displayName": "Jesús Casado Rodríguez",
      "userId": "18221488739992928084"
     },
     "user_tz": -120
    },
    "id": "ZAAK64W-2_Aj"
   },
   "outputs": [],
   "source": [
    "# exportar rendimiento\n",
    "metrics.to_csv(str(run_dir / f'{cfg.metrics[0]}.csv'), float_format='%.3f')"
   ]
  },
  {
   "cell_type": "code",
   "execution_count": null,
   "metadata": {
    "id": "wri0y5uUg4hO"
   },
   "outputs": [],
   "source": []
  }
 ],
 "metadata": {
  "accelerator": "GPU",
  "colab": {
   "gpuType": "V100",
   "provenance": []
  },
  "kernelspec": {
   "display_name": "Python 3 (ipykernel)",
   "language": "python",
   "name": "python3"
  },
  "language_info": {
   "codemirror_mode": {
    "name": "ipython",
    "version": 3
   },
   "file_extension": ".py",
   "mimetype": "text/x-python",
   "name": "python",
   "nbconvert_exporter": "python",
   "pygments_lexer": "ipython3",
   "version": "3.7.16"
  }
 },
 "nbformat": 4,
 "nbformat_minor": 4
}
