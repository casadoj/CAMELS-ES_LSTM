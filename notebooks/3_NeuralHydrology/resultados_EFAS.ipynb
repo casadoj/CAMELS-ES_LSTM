{
 "cells": [
  {
   "cell_type": "markdown",
   "id": "e61ee494-13fb-48f0-a7a7-800a646ca286",
   "metadata": {},
   "source": [
    "# Resultados EFAS5\n",
    "***\n",
    "\n",
    "***Autor:** Jesús Casado Rodríguez*<br>\n",
    "***Fecha:** 25-09-2023*<br>\n",
    "\n",
    "**Introducción:**<br>\n",
    "En este _notebook_ se analizan los resultados del modelo LSTM que replica el caudal simulado en EFAS5 a partir de las series meteorológicas de EMO1 y los atributos estáticos derivados de los mapas estáticos de LISFLOOD y los parámetros calibrados del modelo LISFLOOD.\n",
    "\n",
    "**Por hacer**:"
   ]
  },
  {
   "cell_type": "code",
   "execution_count": 1,
   "id": "24fe4bd9-6930-4bf7-92b6-f1878350b200",
   "metadata": {},
   "outputs": [],
   "source": [
    "import numpy as np\n",
    "import pandas as pd\n",
    "from pathlib import Path\n",
    "from neuralhydrology.utils.config import Config\n",
    "from tqdm.notebook import tqdm\n",
    "import matplotlib.pyplot as plt\n",
    "import pickle\n",
    "import geopandas as gpd\n",
    "import glob\n",
    "import yaml\n",
    "\n",
    "from model_utils import *"
   ]
  },
  {
   "cell_type": "markdown",
   "id": "1cc9ebd8-b824-4a53-8643-164ba658b6c8",
   "metadata": {},
   "source": [
    "## Configuración"
   ]
  },
  {
   "cell_type": "code",
   "execution_count": 2,
   "id": "49c5b165-c380-472b-9a74-807a71590e20",
   "metadata": {},
   "outputs": [],
   "source": [
    "with open(\"../config.yml\", \"r\", encoding='utf8') as ymlfile:\n",
    "    cfg = yaml.load(ymlfile, Loader=yaml.FullLoader)\n",
    "\n",
    "# rutas de entrada y salida de datos\n",
    "path_anuario = Path(cfg['rutas']['anuario_aforos'].get('repo', '../../data/anuario_aforos'))\n",
    "path_camels = Path(cfg['rutas']['CAMELS'].get('repo', '../../data/CAMELS-ES/'))"
   ]
  },
  {
   "cell_type": "markdown",
   "id": "29230d51-c937-42a5-82b1-c26e73a4e888",
   "metadata": {},
   "source": [
    "### Estaciones"
   ]
  },
  {
   "cell_type": "code",
   "execution_count": 3,
   "id": "3c6ed63d-8a45-4d79-b1f7-7ad51a517a04",
   "metadata": {},
   "outputs": [
    {
     "name": "stdout",
     "output_type": "stream",
     "text": [
      "nº de estaciones:\t269\n"
     ]
    },
    {
     "data": {
      "text/html": [
       "<div>\n",
       "<style scoped>\n",
       "    .dataframe tbody tr th:only-of-type {\n",
       "        vertical-align: middle;\n",
       "    }\n",
       "\n",
       "    .dataframe tbody tr th {\n",
       "        vertical-align: top;\n",
       "    }\n",
       "\n",
       "    .dataframe thead th {\n",
       "        text-align: right;\n",
       "    }\n",
       "</style>\n",
       "<table border=\"1\" class=\"dataframe\">\n",
       "  <thead>\n",
       "    <tr style=\"text-align: right;\">\n",
       "      <th></th>\n",
       "      <th>lugar</th>\n",
       "      <th>comentario</th>\n",
       "      <th>serv</th>\n",
       "      <th>suprest</th>\n",
       "      <th>suprcnc</th>\n",
       "      <th>hoja_id</th>\n",
       "      <th>alti</th>\n",
       "      <th>altimax</th>\n",
       "      <th>naa</th>\n",
       "      <th>naam</th>\n",
       "      <th>...</th>\n",
       "      <th>cod_saih</th>\n",
       "      <th>cuenca</th>\n",
       "      <th>caudal</th>\n",
       "      <th>inicio</th>\n",
       "      <th>fin</th>\n",
       "      <th>sel</th>\n",
       "      <th>geometry</th>\n",
       "      <th>train</th>\n",
       "      <th>validation</th>\n",
       "      <th>test</th>\n",
       "    </tr>\n",
       "    <tr>\n",
       "      <th>indroea</th>\n",
       "      <th></th>\n",
       "      <th></th>\n",
       "      <th></th>\n",
       "      <th></th>\n",
       "      <th></th>\n",
       "      <th></th>\n",
       "      <th></th>\n",
       "      <th></th>\n",
       "      <th></th>\n",
       "      <th></th>\n",
       "      <th></th>\n",
       "      <th></th>\n",
       "      <th></th>\n",
       "      <th></th>\n",
       "      <th></th>\n",
       "      <th></th>\n",
       "      <th></th>\n",
       "      <th></th>\n",
       "      <th></th>\n",
       "      <th></th>\n",
       "      <th></th>\n",
       "    </tr>\n",
       "  </thead>\n",
       "  <tbody>\n",
       "    <tr>\n",
       "      <th>1080</th>\n",
       "      <td>ANDOAIN</td>\n",
       "      <td>NaN</td>\n",
       "      <td>1</td>\n",
       "      <td>765</td>\n",
       "      <td>861</td>\n",
       "      <td>64</td>\n",
       "      <td>38.0</td>\n",
       "      <td>1544.0</td>\n",
       "      <td>65</td>\n",
       "      <td>65</td>\n",
       "      <td>...</td>\n",
       "      <td>A149</td>\n",
       "      <td>CANTABRICO</td>\n",
       "      <td>1</td>\n",
       "      <td>1991.0</td>\n",
       "      <td>2010.0</td>\n",
       "      <td>1</td>\n",
       "      <td>POINT (-2.02631 43.22834)</td>\n",
       "      <td>0</td>\n",
       "      <td>1</td>\n",
       "      <td>0</td>\n",
       "    </tr>\n",
       "    <tr>\n",
       "      <th>1103</th>\n",
       "      <td>ALZOLA</td>\n",
       "      <td>INT 2003</td>\n",
       "      <td>0</td>\n",
       "      <td>456</td>\n",
       "      <td>531</td>\n",
       "      <td>63</td>\n",
       "      <td>44.0</td>\n",
       "      <td>1544.0</td>\n",
       "      <td>35</td>\n",
       "      <td>35</td>\n",
       "      <td>...</td>\n",
       "      <td>A800</td>\n",
       "      <td>CANTABRICO</td>\n",
       "      <td>1</td>\n",
       "      <td>1991.0</td>\n",
       "      <td>1998.0</td>\n",
       "      <td>1</td>\n",
       "      <td>POINT (-2.40099 43.22945)</td>\n",
       "      <td>1</td>\n",
       "      <td>0</td>\n",
       "      <td>0</td>\n",
       "    </tr>\n",
       "    <tr>\n",
       "      <th>1105</th>\n",
       "      <td>EREÑOZU</td>\n",
       "      <td>NaN</td>\n",
       "      <td>1</td>\n",
       "      <td>215</td>\n",
       "      <td>266</td>\n",
       "      <td>64</td>\n",
       "      <td>28.0</td>\n",
       "      <td>1139.0</td>\n",
       "      <td>52</td>\n",
       "      <td>52</td>\n",
       "      <td>...</td>\n",
       "      <td>A900</td>\n",
       "      <td>CANTABRICO</td>\n",
       "      <td>1</td>\n",
       "      <td>1991.0</td>\n",
       "      <td>2020.0</td>\n",
       "      <td>1</td>\n",
       "      <td>POINT (-1.94154 43.24356)</td>\n",
       "      <td>1</td>\n",
       "      <td>0</td>\n",
       "      <td>0</td>\n",
       "    </tr>\n",
       "    <tr>\n",
       "      <th>1106</th>\n",
       "      <td>ENDARLAZA</td>\n",
       "      <td>NaN</td>\n",
       "      <td>1</td>\n",
       "      <td>681</td>\n",
       "      <td>705</td>\n",
       "      <td>65</td>\n",
       "      <td>18.0</td>\n",
       "      <td>1418.0</td>\n",
       "      <td>50</td>\n",
       "      <td>50</td>\n",
       "      <td>...</td>\n",
       "      <td>A140</td>\n",
       "      <td>CANTABRICO</td>\n",
       "      <td>1</td>\n",
       "      <td>1991.0</td>\n",
       "      <td>2020.0</td>\n",
       "      <td>1</td>\n",
       "      <td>POINT (-1.72975 43.29500)</td>\n",
       "      <td>0</td>\n",
       "      <td>0</td>\n",
       "      <td>1</td>\n",
       "    </tr>\n",
       "    <tr>\n",
       "      <th>1109</th>\n",
       "      <td>ECHABE</td>\n",
       "      <td>INT 2007</td>\n",
       "      <td>0</td>\n",
       "      <td>304</td>\n",
       "      <td>343</td>\n",
       "      <td>63</td>\n",
       "      <td>19.0</td>\n",
       "      <td>1423.0</td>\n",
       "      <td>34</td>\n",
       "      <td>34</td>\n",
       "      <td>...</td>\n",
       "      <td>A802</td>\n",
       "      <td>CANTABRICO</td>\n",
       "      <td>1</td>\n",
       "      <td>1991.0</td>\n",
       "      <td>2006.0</td>\n",
       "      <td>1</td>\n",
       "      <td>POINT (-2.23432 43.26692)</td>\n",
       "      <td>1</td>\n",
       "      <td>0</td>\n",
       "      <td>0</td>\n",
       "    </tr>\n",
       "  </tbody>\n",
       "</table>\n",
       "<p>5 rows × 34 columns</p>\n",
       "</div>"
      ],
      "text/plain": [
       "             lugar comentario  serv  suprest  suprcnc  hoja_id  alti  altimax  \\\n",
       "indroea                                                                         \n",
       "1080       ANDOAIN        NaN     1      765      861       64  38.0   1544.0   \n",
       "1103        ALZOLA   INT 2003     0      456      531       63  44.0   1544.0   \n",
       "1105       EREÑOZU        NaN     1      215      266       64  28.0   1139.0   \n",
       "1106     ENDARLAZA        NaN     1      681      705       65  18.0   1418.0   \n",
       "1109        ECHABE   INT 2007     0      304      343       63  19.0   1423.0   \n",
       "\n",
       "         naa  naam  ...  cod_saih      cuenca  caudal  inicio     fin  sel  \\\n",
       "indroea             ...                                                      \n",
       "1080      65    65  ...      A149  CANTABRICO       1  1991.0  2010.0    1   \n",
       "1103      35    35  ...      A800  CANTABRICO       1  1991.0  1998.0    1   \n",
       "1105      52    52  ...      A900  CANTABRICO       1  1991.0  2020.0    1   \n",
       "1106      50    50  ...      A140  CANTABRICO       1  1991.0  2020.0    1   \n",
       "1109      34    34  ...      A802  CANTABRICO       1  1991.0  2006.0    1   \n",
       "\n",
       "                          geometry  train  validation  test  \n",
       "indroea                                                      \n",
       "1080     POINT (-2.02631 43.22834)      0           1     0  \n",
       "1103     POINT (-2.40099 43.22945)      1           0     0  \n",
       "1105     POINT (-1.94154 43.24356)      1           0     0  \n",
       "1106     POINT (-1.72975 43.29500)      0           0     1  \n",
       "1109     POINT (-2.23432 43.26692)      1           0     0  \n",
       "\n",
       "[5 rows x 34 columns]"
      ]
     },
     "execution_count": 3,
     "metadata": {},
     "output_type": "execute_result"
    }
   ],
   "source": [
    "# cargar estaciones\n",
    "estaciones = gpd.read_file(path_anuario / 'GIS/estaciones.shp')\n",
    "estaciones.set_index('indroea', drop=True, inplace=True)\n",
    "estaciones = estaciones.loc[estaciones.sel == 1]\n",
    "# estaciones.index = estaciones.index.astype(int)\n",
    "\n",
    "# definir qué estaciones se usan en el entrenamiento, validación y test\n",
    "for period in ['train', 'validation', 'test']:\n",
    "    sample = pd.read_csv(path_camels / f'basins_{period}.txt', header=None).squeeze().values.astype(str)\n",
    "    estaciones[period] = 0\n",
    "    estaciones.loc[sample, period] = 1\n",
    "\n",
    "print(f'nº de estaciones:\\t{estaciones.shape[0]}')\n",
    "estaciones.head()"
   ]
  },
  {
   "cell_type": "markdown",
   "id": "cf445176-f07d-40e9-8651-38d589714e2a",
   "metadata": {},
   "source": [
    "### Simulación"
   ]
  },
  {
   "cell_type": "code",
   "execution_count": 32,
   "id": "2718e448-34d3-473b-8dcd-5e222aaff335",
   "metadata": {},
   "outputs": [],
   "source": [
    "import os"
   ]
  },
  {
   "cell_type": "code",
   "execution_count": 34,
   "id": "4928e4d9-5509-4d49-93ae-867d680d78cc",
   "metadata": {},
   "outputs": [
    {
     "data": {
      "text/plain": [
       "'C:\\\\GitHub\\\\TFM\\\\notebooks\\\\3_NeuralHydrology'"
      ]
     },
     "execution_count": 34,
     "metadata": {},
     "output_type": "execute_result"
    }
   ],
   "source": [
    "os.getcwd()"
   ]
  },
  {
   "cell_type": "code",
   "execution_count": 47,
   "id": "7c25ef51-5226-4531-8c93-0bff3ae5e92e",
   "metadata": {},
   "outputs": [],
   "source": [
    "# definir experimento y simulación\n",
    "experiment = 'EFAS5'\n",
    "run = 'EFAS_test1_1709_081344'\n",
    "run_dir = Path(f'{experiment}/runs/{run}')"
   ]
  },
  {
   "cell_type": "code",
   "execution_count": 48,
   "id": "c6509442-9737-4929-aabf-7b876ae86702",
   "metadata": {
    "tags": []
   },
   "outputs": [],
   "source": [
    "# leer archivo de configuración\n",
    "cfg = Config(run_dir / 'config.yml')\n",
    "epochs = cfg.epochs\n",
    "metric = cfg.metrics[0]\n",
    "target = cfg.target_variables[0]"
   ]
  },
  {
   "cell_type": "code",
   "execution_count": 49,
   "id": "ece03181-96d3-4370-8bc4-b54b431cfe64",
   "metadata": {
    "tags": []
   },
   "outputs": [
    {
     "data": {
      "application/vnd.jupyter.widget-view+json": {
       "model_id": "ae678c8b3ab04258b856cc4c5ebf7020",
       "version_major": 2,
       "version_minor": 0
      },
      "text/plain": [
       "  0%|          | 0/3 [00:00<?, ?it/s]"
      ]
     },
     "metadata": {},
     "output_type": "display_data"
    },
    {
     "data": {
      "application/vnd.jupyter.widget-view+json": {
       "model_id": "2cff9141719a42caa93c6c8050e0109b",
       "version_major": 2,
       "version_minor": 0
      },
      "text/plain": [
       "  0%|          | 0/10 [00:00<?, ?it/s]"
      ]
     },
     "metadata": {},
     "output_type": "display_data"
    },
    {
     "data": {
      "application/vnd.jupyter.widget-view+json": {
       "model_id": "905cf59115fe477f88828faec6e3a333",
       "version_major": 2,
       "version_minor": 0
      },
      "text/plain": [
       "  0%|          | 0/10 [00:00<?, ?it/s]"
      ]
     },
     "metadata": {},
     "output_type": "display_data"
    },
    {
     "data": {
      "application/vnd.jupyter.widget-view+json": {
       "model_id": "54998c898c424de9987bb7c4d12f77ea",
       "version_major": 2,
       "version_minor": 0
      },
      "text/plain": [
       "  0%|          | 0/10 [00:00<?, ?it/s]"
      ]
     },
     "metadata": {},
     "output_type": "display_data"
    }
   ],
   "source": [
    "# extraer el rendimiento de cada época y muestra\n",
    "metrics = {period: pd.DataFrame(columns=range(1, epochs + 1)) for period in ['train', 'validation', 'test']}\n",
    "for period, df in tqdm(metrics.items()):\n",
    "    for epoch in tqdm(df.columns):\n",
    "        try:\n",
    "            _, df[epoch] = get_results(run_dir, period, epoch=epoch)\n",
    "            # # extraer series temporales\n",
    "            # for id, dct in ts_period.items():\n",
    "            #     for x in ['obs', 'sim']:\n",
    "            #         ts = dct['1D']['xr'][f'{target}_{x}'].sel(time_step=0).to_pandas()\n",
    "            #         ts.name = id\n",
    "            #         timeseries[x] = pd.concat((timeseries[x], ts), axis=1)\n",
    "        except:\n",
    "            continue"
   ]
  },
  {
   "cell_type": "code",
   "execution_count": 50,
   "id": "6b45c96b-06dc-4054-810a-74ec2bf88865",
   "metadata": {
    "tags": []
   },
   "outputs": [
    {
     "name": "stderr",
     "output_type": "stream",
     "text": [
      "C:\\ProgramFiles\\Anaconda3\\envs\\neuralhydrology\\lib\\site-packages\\matplotlib\\cbook\\__init__.py:1257: RuntimeWarning: invalid value encountered in less_equal\n",
      "  wiskhi = x[x <= hival]\n",
      "C:\\ProgramFiles\\Anaconda3\\envs\\neuralhydrology\\lib\\site-packages\\matplotlib\\cbook\\__init__.py:1264: RuntimeWarning: invalid value encountered in greater_equal\n",
      "  wisklo = x[x >= loval]\n",
      "C:\\ProgramFiles\\Anaconda3\\envs\\neuralhydrology\\lib\\site-packages\\matplotlib\\cbook\\__init__.py:1272: RuntimeWarning: invalid value encountered in less\n",
      "  x[x < stats['whislo']],\n",
      "C:\\ProgramFiles\\Anaconda3\\envs\\neuralhydrology\\lib\\site-packages\\matplotlib\\cbook\\__init__.py:1273: RuntimeWarning: invalid value encountered in greater\n",
      "  x[x > stats['whishi']],\n",
      "C:\\ProgramFiles\\Anaconda3\\envs\\neuralhydrology\\lib\\site-packages\\matplotlib\\cbook\\__init__.py:1257: RuntimeWarning: invalid value encountered in less_equal\n",
      "  wiskhi = x[x <= hival]\n",
      "C:\\ProgramFiles\\Anaconda3\\envs\\neuralhydrology\\lib\\site-packages\\matplotlib\\cbook\\__init__.py:1264: RuntimeWarning: invalid value encountered in greater_equal\n",
      "  wisklo = x[x >= loval]\n",
      "C:\\ProgramFiles\\Anaconda3\\envs\\neuralhydrology\\lib\\site-packages\\matplotlib\\cbook\\__init__.py:1272: RuntimeWarning: invalid value encountered in less\n",
      "  x[x < stats['whislo']],\n",
      "C:\\ProgramFiles\\Anaconda3\\envs\\neuralhydrology\\lib\\site-packages\\matplotlib\\cbook\\__init__.py:1273: RuntimeWarning: invalid value encountered in greater\n",
      "  x[x > stats['whishi']],\n",
      "C:\\ProgramFiles\\Anaconda3\\envs\\neuralhydrology\\lib\\site-packages\\matplotlib\\cbook\\__init__.py:1257: RuntimeWarning: invalid value encountered in less_equal\n",
      "  wiskhi = x[x <= hival]\n",
      "C:\\ProgramFiles\\Anaconda3\\envs\\neuralhydrology\\lib\\site-packages\\matplotlib\\cbook\\__init__.py:1264: RuntimeWarning: invalid value encountered in greater_equal\n",
      "  wisklo = x[x >= loval]\n",
      "C:\\ProgramFiles\\Anaconda3\\envs\\neuralhydrology\\lib\\site-packages\\matplotlib\\cbook\\__init__.py:1272: RuntimeWarning: invalid value encountered in less\n",
      "  x[x < stats['whislo']],\n",
      "C:\\ProgramFiles\\Anaconda3\\envs\\neuralhydrology\\lib\\site-packages\\matplotlib\\cbook\\__init__.py:1273: RuntimeWarning: invalid value encountered in greater\n",
      "  x[x > stats['whishi']],\n"
     ]
    },
    {
     "data": {
      "image/png": "[encoded data removed]",
      "text/plain": [
       "<Figure size 2000x500 with 1 Axes>"
      ]
     },
     "metadata": {},
     "output_type": "display_data"
    }
   ],
   "source": [
    "fig, ax = plt.subplots(figsize=(20, 5))\n",
    "\n",
    "colors = ['steelblue', 'indianred', 'khaki']\n",
    "for i, ((period, df), c) in enumerate(zip(metrics.items(), colors)):\n",
    "    bp = ax.boxplot(df, positions=df.columns + i * .25, widths=0.25,\n",
    "                    patch_artist=True,\n",
    "                    boxprops={'color': c, 'alpha': .5},\n",
    "                    # whiskerprops={},\n",
    "                    showfliers=False,\n",
    "                    medianprops={'color': 'k'})\n",
    "    for box in bp['boxes']:\n",
    "        box.set_facecolor(c)\n",
    "\n",
    "ax.set_ylim(-1, 1);\n",
    "xticks = np.linspace(1, epochs, num=epochs).astype(int)\n",
    "ax.set_xticks(xticks)\n",
    "ax.set_xticklabels(xticks)\n",
    "ax.set(xlabel='epoch (-)',\n",
    "       ylabel=f'{metric} (-)');"
   ]
  },
  {
   "cell_type": "markdown",
   "id": "4d43a489-3694-48d8-b89e-418cf9e10a09",
   "metadata": {},
   "source": [
    "***Figura 1**. Evolución del rendimento en las muestra de entrenamiento (azul), validación (rojo) y evaluación (amarillo) en cada época.*"
   ]
  },
  {
   "cell_type": "code",
   "execution_count": 51,
   "id": "0f1d37c1-746f-4333-937b-b5b01e794e21",
   "metadata": {},
   "outputs": [
    {
     "name": "stdout",
     "output_type": "stream",
     "text": [
      "epoch  6:\tKGEtrain = 0.816   KGEval = 0.667   KGEtest = 0.744\n",
      "epoch  3:\tKGEtrain = 0.801   KGEval = 0.747   KGEtest = 0.712\n",
      "epoch  8:\tKGEtrain = 0.807   KGEval = 0.670   KGEtest = 0.760\n"
     ]
    }
   ],
   "source": [
    "# mejor época de cada muestra y el rendimiento de cada muestra en esa época\n",
    "best_epoch = {}\n",
    "for period, df in metrics.items():\n",
    "    epoch = df.median().idxmax()\n",
    "    best_epoch[period] = epoch\n",
    "    print('epoch {0:>2}:\\tKGEtrain = {1:.3f}   KGEval = {2:.3f}   KGEtest = {3:.3f}'.format(epoch,\n",
    "                                                                                         metrics['train'][epoch].median(),\n",
    "                                                                                         metrics['validation'][epoch].median(),\n",
    "                                                                                         metrics['test'][epoch].median()))"
   ]
  },
  {
   "cell_type": "code",
   "execution_count": 13,
   "id": "20182348-53e4-4743-8ecf-704662ddb65e",
   "metadata": {},
   "outputs": [
    {
     "name": "stdout",
     "output_type": "stream",
     "text": [
      "epoch  1:\tKGEtrain = 0.804   KGEval = 0.615   KGEtest = 0.708\n",
      "epoch  1:\tKGEtrain = 0.804   KGEval = 0.615   KGEtest = 0.708\n",
      "epoch  1:\tKGEtrain = 0.804   KGEval = 0.615   KGEtest = 0.708\n"
     ]
    }
   ],
   "source": [
    "# mejor época de cada muestra y el rendimiento de cada muestra en esa época\n",
    "best_epoch = {}\n",
    "for period, df in metrics.items():\n",
    "    epoch = df.median().idxmax()\n",
    "    best_epoch[period] = epoch\n",
    "    print('epoch {0:>2}:\\tKGEtrain = {1:.3f}   KGEval = {2:.3f}   KGEtest = {3:.3f}'.format(epoch,\n",
    "                                                                                         metrics['train'][epoch].median(),\n",
    "                                                                                         metrics['validation'][epoch].median(),\n",
    "                                                                                         metrics['test'][epoch].median()))"
   ]
  },
  {
   "cell_type": "code",
   "execution_count": 16,
   "id": "61319615-24e2-4036-97cc-baab6a14ddfa",
   "metadata": {
    "tags": []
   },
   "outputs": [],
   "source": [
    "# fig, ax = plt.subplots(figsize=(20, 5))\n",
    "\n",
    "# colors = ['steelblue', 'indianred', 'k']\n",
    "# for (period, df), c in zip(metrics.items(), colors):\n",
    "#     aux = df.quantile([.25, .5, .75])\n",
    "#     ax.plot(aux.loc[.5], c=c, lw=1, label=period)\n",
    "#     ax.axvline(best_epoch[period], lw=1, ls='--', c=c)\n",
    "#     ax.fill_between(aux.columns, aux.loc[.25], aux.loc[.75], color=c, alpha=.1)\n",
    "# ax.set(xlabel='epoch',\n",
    "#        xlim=(1 - .2, epochs + .2),\n",
    "#        ylabel='KGE (-)',\n",
    "#        ylim=(-1.02, 1.02));\n",
    "# fig.legend(frameon=False, loc=8, ncol=3, bbox_to_anchor=[.3, -0.05, .4, .05]);"
   ]
  },
  {
   "cell_type": "code",
   "execution_count": 25,
   "id": "f14be041-4a2f-4588-adac-0e14834d760e",
   "metadata": {},
   "outputs": [],
   "source": [
    "# extraer KGE de la mejor época\n",
    "epoch = best_epoch['validation']\n",
    "kge = pd.concat((metrics['train'][epoch], metrics['validation'][epoch], metrics['test'][epoch]), axis=0)\n",
    "kge.name = 'KGE'\n",
    "kge.index = kge.index.astype(str)"
   ]
  },
  {
   "cell_type": "code",
   "execution_count": 26,
   "id": "fc1c2cf9-1540-4f61-9fe0-d5c44ecaf809",
   "metadata": {},
   "outputs": [],
   "source": [
    "# añadir rendimiento en el shapefile de estaciones\n",
    "estaciones = estaciones.loc[kge.index]\n",
    "estaciones['KGE'] = kge"
   ]
  },
  {
   "cell_type": "code",
   "execution_count": 27,
   "id": "6970dff2-1e8c-44d3-9a59-b5a2e9807777",
   "metadata": {},
   "outputs": [],
   "source": [
    "# export shapefile\n",
    "estaciones.to_file(run_dir / f'estaciones_KGE.shp', index=True)"
   ]
  }
 ],
 "metadata": {
  "kernelspec": {
   "display_name": "Python 3 (ipykernel)",
   "language": "python",
   "name": "python3"
  },
  "language_info": {
   "codemirror_mode": {
    "name": "ipython",
    "version": 3
   },
   "file_extension": ".py",
   "mimetype": "text/x-python",
   "name": "python",
   "nbconvert_exporter": "python",
   "pygments_lexer": "ipython3",
   "version": "3.10.8"
  }
 },
 "nbformat": 4,
 "nbformat_minor": 5
}
