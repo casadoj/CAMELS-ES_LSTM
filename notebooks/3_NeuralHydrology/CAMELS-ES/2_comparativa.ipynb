{
 "cells": [
  {
   "cell_type": "markdown",
   "id": "7483730b-354f-4429-885e-676cad736c60",
   "metadata": {
    "id": "a5tGM7HbkLVV"
   },
   "source": [
    "# LSTM CAMELS-ES: comparativa\n",
    "***\n",
    "\n",
    "***Autor:** Jesús Casado Rodríguez*<br>\n",
    "***Fecha:** 16-09-2023*<br>\n",
    "\n",
    "**Introducción:**<br>\n",
    "En este _notebook_ se comparan los distintos modelos LSTM entrenados sobre los datos de CAMELS-ES.\n",
    "\n",
    "**Por hacer**:"
   ]
  },
  {
   "cell_type": "code",
   "execution_count": 1,
   "id": "dcba7aa9-ae8f-4ad1-836c-ebb2e2420596",
   "metadata": {},
   "outputs": [],
   "source": [
    "import numpy as np\n",
    "import pandas as pd\n",
    "import os\n",
    "import glob\n",
    "from tqdm.notebook import tqdm\n",
    "from pathlib import Path\n",
    "from neuralhydrology.utils.config import Config\n",
    "\n",
    "os.chdir('../')\n",
    "from model_utils import *\n",
    "os.chdir('CAMELS-ES/')"
   ]
  },
  {
   "cell_type": "code",
   "execution_count": 8,
   "id": "5d0c48e4-afed-432f-8b9d-6585a95173a2",
   "metadata": {},
   "outputs": [
    {
     "data": {
      "application/vnd.jupyter.widget-view+json": {
       "model_id": "783ee4a27c7d4b33b3515714698b87b0",
       "version_major": 2,
       "version_minor": 0
      },
      "text/plain": [
       "  0%|          | 0/12 [00:00<?, ?it/s]"
      ]
     },
     "metadata": {},
     "output_type": "display_data"
    },
    {
     "name": "stdout",
     "output_type": "stream",
     "text": [
      "CAMELS-ES_base      \tmejor época: 21\t\tKGE = 0.577\n",
      "CAMELS-ES_batch128  \tmejor época: 30\t\tKGE = 0.502\n",
      "CAMELS-ES_batch526  \tmejor época: 7\t\tKGE = 0.561\n",
      "CAMELS-ES_clip0.8   \tmejor época: 22\t\tKGE = 0.601\n",
      "CAMELS-ES_clipNone  \tmejor época: 30\t\tKGE = 0.572\n",
      "CAMELS-ES_drop03    \tmejor época: 28\t\tKGE = 0.549\n",
      "CAMELS-ES_drop05    \tmejor época: 30\t\tKGE = 0.542\n",
      "CAMELS-ES_end2      \tmejor época: 14\t\tKGE = 0.518\n",
      "CAMELS-ES_end3      \tmejor época: 12\t\tKGE = 0.581\n",
      "CAMELS-ES_end       \tmejor época: 25\t\tKGE = 0.591\n",
      "CAMELS-ES_hidden032 \tmejor época: 24\t\tKGE = 0.544\n",
      "CAMELS-ES_hidden128 \tmejor época: 13\t\tKGE = 0.593\n"
     ]
    }
   ],
   "source": [
    "runs = [Path(x) for x in glob.glob('runs/CAMELS-ES*') if os.path.isdir(x)]\n",
    "names = [Config(Path(run) / 'config.yml').experiment_name for run in runs]\n",
    "\n",
    "compare = pd.DataFrame(index=names, columns=['train', 'validation', 'test'])\n",
    "for run in tqdm(runs):\n",
    "    cfg = Config(Path(run) / 'config.yml')\n",
    "    name = cfg.experiment_name\n",
    "    # extraer el rendimiento de cada época y muestra\n",
    "    df = pd.DataFrame(columns=range(1, cfg.epochs + 1))\n",
    "    for epoch in df.columns:\n",
    "        try:\n",
    "            _, df[epoch] = get_results(Path(run), 'validation', epoch=epoch)\n",
    "        except:\n",
    "            continue\n",
    "    \n",
    "    epoch = df.median().idxmax()\n",
    "    print('{0:<20}\\tmejor época: {1}\\t\\tKGE = {2:.3f}'.format(name, epoch, df.median().max()))\n",
    "    \n",
    "    for period in ['train', 'validation', 'test']:\n",
    "        _, rend = get_results(Path(run), period, epoch=epoch)\n",
    "        compare.loc[name, period] = rend.median().values[0]"
   ]
  },
  {
   "cell_type": "code",
   "execution_count": 9,
   "id": "09b131ac-f699-4217-8e88-15204d122784",
   "metadata": {},
   "outputs": [
    {
     "data": {
      "text/html": [
       "<div>\n",
       "<style scoped>\n",
       "    .dataframe tbody tr th:only-of-type {\n",
       "        vertical-align: middle;\n",
       "    }\n",
       "\n",
       "    .dataframe tbody tr th {\n",
       "        vertical-align: top;\n",
       "    }\n",
       "\n",
       "    .dataframe thead th {\n",
       "        text-align: right;\n",
       "    }\n",
       "</style>\n",
       "<table border=\"1\" class=\"dataframe\">\n",
       "  <thead>\n",
       "    <tr style=\"text-align: right;\">\n",
       "      <th></th>\n",
       "      <th>train</th>\n",
       "      <th>validation</th>\n",
       "      <th>test</th>\n",
       "    </tr>\n",
       "  </thead>\n",
       "  <tbody>\n",
       "    <tr>\n",
       "      <th>CAMELS-ES_base</th>\n",
       "      <td>0.819467</td>\n",
       "      <td>0.577075</td>\n",
       "      <td>0.590615</td>\n",
       "    </tr>\n",
       "    <tr>\n",
       "      <th>CAMELS-ES_batch128</th>\n",
       "      <td>0.762484</td>\n",
       "      <td>0.502029</td>\n",
       "      <td>0.544978</td>\n",
       "    </tr>\n",
       "    <tr>\n",
       "      <th>CAMELS-ES_batch526</th>\n",
       "      <td>0.713533</td>\n",
       "      <td>0.560649</td>\n",
       "      <td>0.497923</td>\n",
       "    </tr>\n",
       "    <tr>\n",
       "      <th>CAMELS-ES_clip0.8</th>\n",
       "      <td>0.838561</td>\n",
       "      <td>0.600601</td>\n",
       "      <td>0.560731</td>\n",
       "    </tr>\n",
       "    <tr>\n",
       "      <th>CAMELS-ES_clipNone</th>\n",
       "      <td>0.869142</td>\n",
       "      <td>0.57244</td>\n",
       "      <td>0.635542</td>\n",
       "    </tr>\n",
       "    <tr>\n",
       "      <th>CAMELS-ES_drop03</th>\n",
       "      <td>0.78183</td>\n",
       "      <td>0.549126</td>\n",
       "      <td>0.56006</td>\n",
       "    </tr>\n",
       "    <tr>\n",
       "      <th>CAMELS-ES_drop05</th>\n",
       "      <td>0.817583</td>\n",
       "      <td>0.54248</td>\n",
       "      <td>0.580649</td>\n",
       "    </tr>\n",
       "    <tr>\n",
       "      <th>CAMELS-ES_end2</th>\n",
       "      <td>0.816321</td>\n",
       "      <td>0.517593</td>\n",
       "      <td>0.613138</td>\n",
       "    </tr>\n",
       "    <tr>\n",
       "      <th>CAMELS-ES_end3</th>\n",
       "      <td>0.799748</td>\n",
       "      <td>0.580705</td>\n",
       "      <td>0.586751</td>\n",
       "    </tr>\n",
       "    <tr>\n",
       "      <th>CAMELS-ES_end</th>\n",
       "      <td>0.783734</td>\n",
       "      <td>0.591143</td>\n",
       "      <td>0.544006</td>\n",
       "    </tr>\n",
       "    <tr>\n",
       "      <th>CAMELS-ES_hidden032</th>\n",
       "      <td>0.771277</td>\n",
       "      <td>0.54389</td>\n",
       "      <td>0.601739</td>\n",
       "    </tr>\n",
       "    <tr>\n",
       "      <th>CAMELS-ES_hidden128</th>\n",
       "      <td>0.730161</td>\n",
       "      <td>0.592563</td>\n",
       "      <td>0.570384</td>\n",
       "    </tr>\n",
       "  </tbody>\n",
       "</table>\n",
       "</div>"
      ],
      "text/plain": [
       "                        train validation      test\n",
       "CAMELS-ES_base       0.819467   0.577075  0.590615\n",
       "CAMELS-ES_batch128   0.762484   0.502029  0.544978\n",
       "CAMELS-ES_batch526   0.713533   0.560649  0.497923\n",
       "CAMELS-ES_clip0.8    0.838561   0.600601  0.560731\n",
       "CAMELS-ES_clipNone   0.869142    0.57244  0.635542\n",
       "CAMELS-ES_drop03      0.78183   0.549126   0.56006\n",
       "CAMELS-ES_drop05     0.817583    0.54248  0.580649\n",
       "CAMELS-ES_end2       0.816321   0.517593  0.613138\n",
       "CAMELS-ES_end3       0.799748   0.580705  0.586751\n",
       "CAMELS-ES_end        0.783734   0.591143  0.544006\n",
       "CAMELS-ES_hidden032  0.771277    0.54389  0.601739\n",
       "CAMELS-ES_hidden128  0.730161   0.592563  0.570384"
      ]
     },
     "execution_count": 9,
     "metadata": {},
     "output_type": "execute_result"
    }
   ],
   "source": [
    "compare"
   ]
  },
  {
   "cell_type": "markdown",
   "id": "d0c1a404-4064-4856-9cf0-a8968464be68",
   "metadata": {},
   "source": [
    "Escojo como mejor modelo el llamado `CAMELS-ES_hidden128`."
   ]
  },
  {
   "cell_type": "code",
   "execution_count": null,
   "id": "ff6af09e-a544-4745-8188-47b3c06b3ba5",
   "metadata": {},
   "outputs": [],
   "source": []
  }
 ],
 "metadata": {
  "kernelspec": {
   "display_name": "Python 3 (ipykernel)",
   "language": "python",
   "name": "python3"
  },
  "language_info": {
   "codemirror_mode": {
    "name": "ipython",
    "version": 3
   },
   "file_extension": ".py",
   "mimetype": "text/x-python",
   "name": "python",
   "nbconvert_exporter": "python",
   "pygments_lexer": "ipython3",
   "version": "3.10.8"
  }
 },
 "nbformat": 4,
 "nbformat_minor": 5
}
