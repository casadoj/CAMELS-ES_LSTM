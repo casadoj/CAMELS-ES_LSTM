{
 "cells": [
  {
   "cell_type": "markdown",
   "metadata": {
    "id": "a5tGM7HbkLVV"
   },
   "source": [
    "# LSTM CAMELS-ES: entrenamiento y validación\n",
    "***\n",
    "\n",
    "***Autor:** Jesús Casado Rodríguez*<br>\n",
    "***Fecha:** 16-09-2023*<br>\n",
    "\n",
    "**Introducción:**<br>\n",
    "En este _notebook_ se entrena y valida el modelo LSTM que replica el caudal observado del conjunto de datos CAMELS-ES.\n",
    "\n",
    "**Por hacer**:"
   ]
  },
  {
   "cell_type": "code",
   "execution_count": 1,
   "metadata": {
    "executionInfo": {
     "elapsed": 11101,
     "status": "ok",
     "timestamp": 1694888998973,
     "user": {
      "displayName": "Jesús Casado Rodríguez",
      "userId": "18221488739992928084"
     },
     "user_tz": -120
    },
    "id": "SsdhqIPCkQvD"
   },
   "outputs": [],
   "source": [
    "%%capture\n",
    "! pip install neuralhydrology"
   ]
  },
  {
   "cell_type": "code",
   "execution_count": 1,
   "metadata": {
    "executionInfo": {
     "elapsed": 14362,
     "status": "ok",
     "timestamp": 1694889013330,
     "user": {
      "displayName": "Jesús Casado Rodríguez",
      "userId": "18221488739992928084"
     },
     "user_tz": -120
    },
    "id": "a_W-qdQ9kLVc"
   },
   "outputs": [],
   "source": [
    "import pickle\n",
    "import pandas as pd\n",
    "from pathlib import Path\n",
    "\n",
    "import matplotlib.pyplot as plt\n",
    "import seaborn as sns\n",
    "import torch\n",
    "\n",
    "from neuralhydrology.utils.config import Config\n",
    "from neuralhydrology.evaluation import metrics\n",
    "from neuralhydrology.nh_run import start_run, eval_run"
   ]
  },
  {
   "cell_type": "code",
   "execution_count": 3,
   "metadata": {
    "colab": {
     "base_uri": "https://localhost:8080/"
    },
    "executionInfo": {
     "elapsed": 28595,
     "status": "ok",
     "timestamp": 1694889041910,
     "user": {
      "displayName": "Jesús Casado Rodríguez",
      "userId": "18221488739992928084"
     },
     "user_tz": -120
    },
    "id": "2hhaQf-tk0bL",
    "outputId": "46b78685-59b2-4794-e227-f046743564a0"
   },
   "outputs": [
    {
     "name": "stdout",
     "output_type": "stream",
     "text": [
      "Mounted at /content/drive\n"
     ]
    }
   ],
   "source": [
    "from google.colab import drive\n",
    "drive.mount('/content/drive')"
   ]
  },
  {
   "cell_type": "code",
   "execution_count": 4,
   "metadata": {
    "colab": {
     "base_uri": "https://localhost:8080/"
    },
    "executionInfo": {
     "elapsed": 3092,
     "status": "ok",
     "timestamp": 1694889044991,
     "user": {
      "displayName": "Jesús Casado Rodríguez",
      "userId": "18221488739992928084"
     },
     "user_tz": -120
    },
    "id": "IIZeExFFtbfe",
    "outputId": "d9b9eed6-19ee-4c8f-c6d0-138fdf64eb4f"
   },
   "outputs": [
    {
     "name": "stdout",
     "output_type": "stream",
     "text": [
      "/content/drive/MyDrive/TFM/notebook/models\n",
      "/content/drive/MyDrive/TFM/notebook/models/EFAS5\n"
     ]
    }
   ],
   "source": [
    "%cd /content/drive/MyDrive/TFM/notebook/models/\n",
    "from model_utils import *\n",
    "%cd ./EFAS5/"
   ]
  },
  {
   "cell_type": "markdown",
   "metadata": {
    "id": "hmggHyt3tbff"
   },
   "source": [
    "### Configuración"
   ]
  },
  {
   "cell_type": "code",
   "execution_count": 3,
   "metadata": {
    "colab": {
     "base_uri": "https://localhost:8080/"
    },
    "executionInfo": {
     "elapsed": 785,
     "status": "ok",
     "timestamp": 1694890697661,
     "user": {
      "displayName": "Jesús Casado Rodríguez",
      "userId": "18221488739992928084"
     },
     "user_tz": -120
    },
    "id": "sC9wXa4Itbff",
    "outputId": "67b7a2d5-d6f3-489d-f2f0-78e6cef220fe"
   },
   "outputs": [
    {
     "name": "stdout",
     "output_type": "stream",
     "text": [
      "CAMELS-ES_end\n",
      "epochs:\t\t45\n",
      "hidden size:\t128\n",
      "batch size:\t256\n",
      "dropout:\t0.5\n",
      "clip gradients:\t0.8\n"
     ]
    }
   ],
   "source": [
    "# cargar archivo de configuración\n",
    "config_file = Path('config_end.yml')\n",
    "cfg = Config(config_file)\n",
    "\n",
    "target = cfg.target_variables[0]\n",
    "\n",
    "print(cfg.experiment_name)\n",
    "print('epochs:', cfg.epochs, sep='\\t\\t')\n",
    "print('hidden size:', cfg.hidden_size, sep='\\t')\n",
    "print('batch size:', cfg.batch_size, sep='\\t')\n",
    "print('dropout:', cfg.output_dropout, sep='\\t')\n",
    "print('clip gradients:', cfg.clip_gradient_norm, sep='\\t')"
   ]
  },
  {
   "cell_type": "markdown",
   "metadata": {
    "id": "I4hagTCytbfh"
   },
   "source": [
    "### Entrenamiento"
   ]
  },
  {
   "cell_type": "code",
   "execution_count": 29,
   "metadata": {
    "colab": {
     "base_uri": "https://localhost:8080/"
    },
    "executionInfo": {
     "elapsed": 809902,
     "status": "ok",
     "timestamp": 1694891514032,
     "user": {
      "displayName": "Jesús Casado Rodríguez",
      "userId": "18221488739992928084"
     },
     "user_tz": -120
    },
    "id": "M-KLDY-gkLVe",
    "outputId": "e9376484-4a08-474f-8fd8-5f44a8e52182"
   },
   "outputs": [
    {
     "name": "stdout",
     "output_type": "stream",
     "text": [
      "100%|██████████| 163/163 [00:37<00:00,  4.34it/s]\n",
      "100%|██████████| 163/163 [00:00<00:00, 1017.60it/s]\n",
      "100%|██████████| 163/163 [00:07<00:00, 21.20it/s]\n",
      "# Epoch 1: 100%|██████████| 2162/2162 [00:51<00:00, 41.69it/s, Loss: 0.0561]\n",
      "# Validation: 100%|██████████| 100/100 [00:46<00:00,  2.17it/s]\n",
      "# Epoch 2: 100%|██████████| 2162/2162 [00:56<00:00, 38.52it/s, Loss: 0.0023]\n",
      "# Validation: 100%|██████████| 100/100 [00:30<00:00,  3.24it/s]\n",
      "# Epoch 3: 100%|██████████| 2162/2162 [00:50<00:00, 42.55it/s, Loss: 0.0789]\n",
      "# Validation: 100%|██████████| 100/100 [00:18<00:00,  5.46it/s]\n",
      "# Epoch 4: 100%|██████████| 2162/2162 [00:50<00:00, 42.50it/s, Loss: 0.0259]\n",
      "# Validation: 100%|██████████| 100/100 [00:17<00:00,  5.67it/s]\n",
      "# Epoch 5: 100%|██████████| 2162/2162 [00:49<00:00, 43.36it/s, Loss: 1.0440]\n",
      "# Validation: 100%|██████████| 100/100 [00:15<00:00,  6.32it/s]\n",
      "# Epoch 6: 100%|██████████| 2162/2162 [00:50<00:00, 42.55it/s, Loss: 0.1212]\n",
      "# Validation: 100%|██████████| 100/100 [00:14<00:00,  6.68it/s]\n",
      "# Epoch 7: 100%|██████████| 2162/2162 [00:52<00:00, 41.46it/s, Loss: 0.0026]\n",
      "# Validation: 100%|██████████| 100/100 [00:16<00:00,  6.23it/s]\n",
      "# Epoch 8: 100%|██████████| 2162/2162 [00:59<00:00, 36.22it/s, Loss: 0.0656]\n",
      "# Validation: 100%|██████████| 100/100 [00:17<00:00,  5.56it/s]\n",
      "# Epoch 9: 100%|██████████| 2162/2162 [01:00<00:00, 35.87it/s, Loss: 0.0433]\n",
      "# Validation: 100%|██████████| 100/100 [00:17<00:00,  5.74it/s]\n",
      "# Epoch 10: 100%|██████████| 2162/2162 [00:59<00:00, 36.06it/s, Loss: 0.1311]\n",
      "# Validation: 100%|██████████| 100/100 [00:19<00:00,  5.11it/s]\n"
     ]
    }
   ],
   "source": [
    "# by default we assume that you have at least one CUDA-capable NVIDIA GPU\n",
    "if torch.cuda.is_available():\n",
    "    start_run(config_file=config_file)\n",
    "\n",
    "# fall back to CPU-only mode\n",
    "else:\n",
    "    start_run(config_file=config_file, gpu=-1)"
   ]
  },
  {
   "cell_type": "markdown",
   "metadata": {
    "id": "iObWtn15kLVf"
   },
   "source": [
    "### Simulación"
   ]
  },
  {
   "cell_type": "code",
   "execution_count": 4,
   "metadata": {
    "executionInfo": {
     "elapsed": 12,
     "status": "ok",
     "timestamp": 1694891514033,
     "user": {
      "displayName": "Jesús Casado Rodríguez",
      "userId": "18221488739992928084"
     },
     "user_tz": -120
    },
    "id": "HEHrK63jz4X8"
   },
   "outputs": [],
   "source": [
    "run_dir = Path(f'runs/{cfg.experiment_name}_1609_131613')"
   ]
  },
  {
   "cell_type": "code",
   "execution_count": 31,
   "metadata": {
    "colab": {
     "base_uri": "https://localhost:8080/"
    },
    "executionInfo": {
     "elapsed": 915209,
     "status": "ok",
     "timestamp": 1694892429233,
     "user": {
      "displayName": "Jesús Casado Rodríguez",
      "userId": "18221488739992928084"
     },
     "user_tz": -120
    },
    "id": "WIDqiVX-2pVa",
    "outputId": "86aae21f-f20e-4c84-8925-406f5a697e7e"
   },
   "outputs": [
    {
     "name": "stdout",
     "output_type": "stream",
     "text": [
      "# Evaluation: 100%|██████████| 163/163 [01:31<00:00,  1.78it/s]\n",
      "# Evaluation: 100%|██████████| 163/163 [01:30<00:00,  1.80it/s]\n",
      "# Evaluation: 100%|██████████| 163/163 [01:31<00:00,  1.77it/s]\n",
      "# Evaluation: 100%|██████████| 163/163 [01:31<00:00,  1.77it/s]\n",
      "# Evaluation: 100%|██████████| 163/163 [01:30<00:00,  1.79it/s]\n",
      "# Evaluation: 100%|██████████| 163/163 [01:31<00:00,  1.79it/s]\n",
      "# Evaluation: 100%|██████████| 163/163 [01:32<00:00,  1.76it/s]\n",
      "# Evaluation: 100%|██████████| 163/163 [01:32<00:00,  1.77it/s]\n",
      "# Evaluation: 100%|██████████| 163/163 [01:31<00:00,  1.79it/s]\n",
      "# Evaluation: 100%|██████████| 163/163 [01:31<00:00,  1.79it/s]\n"
     ]
    }
   ],
   "source": [
    "# periodo de entrenamiento\n",
    "for epoch in np.arange(1, cfg.epochs + 1):\n",
    "    eval_run(run_dir=run_dir, period='train', epoch=epoch, gpu=0)\n",
    "# eval_run(run_dir=run_dir, period='train', epoch=cfg.epochs, gpu=0)"
   ]
  },
  {
   "cell_type": "code",
   "execution_count": null,
   "metadata": {
    "id": "stHxlQ3Vw4mh"
   },
   "outputs": [],
   "source": [
    "# periodo de validación\n",
    "#eval_run(run_dir=run_dir, period='validation', gpu=0)"
   ]
  },
  {
   "cell_type": "code",
   "execution_count": 32,
   "metadata": {
    "colab": {
     "base_uri": "https://localhost:8080/"
    },
    "executionInfo": {
     "elapsed": 386582,
     "status": "ok",
     "timestamp": 1694892815792,
     "user": {
      "displayName": "Jesús Casado Rodríguez",
      "userId": "18221488739992928084"
     },
     "user_tz": -120
    },
    "id": "c7LOqDMb2qz9",
    "outputId": "0b421401-d3d4-46b9-9237-f3e4196acc6e"
   },
   "outputs": [
    {
     "name": "stdout",
     "output_type": "stream",
     "text": [
      "# Evaluation: 100%|██████████| 53/53 [00:39<00:00,  1.36it/s]\n",
      "# Evaluation: 100%|██████████| 53/53 [00:38<00:00,  1.36it/s]\n",
      "# Evaluation: 100%|██████████| 53/53 [00:37<00:00,  1.43it/s]\n",
      "# Evaluation: 100%|██████████| 53/53 [00:38<00:00,  1.37it/s]\n",
      "# Evaluation: 100%|██████████| 53/53 [00:39<00:00,  1.36it/s]\n",
      "# Evaluation: 100%|██████████| 53/53 [00:37<00:00,  1.42it/s]\n",
      "# Evaluation: 100%|██████████| 53/53 [00:39<00:00,  1.36it/s]\n",
      "# Evaluation: 100%|██████████| 53/53 [00:38<00:00,  1.37it/s]\n",
      "# Evaluation: 100%|██████████| 53/53 [00:38<00:00,  1.39it/s]\n",
      "# Evaluation: 100%|██████████| 53/53 [00:38<00:00,  1.37it/s]\n"
     ]
    }
   ],
   "source": [
    "# periodo de evaluación\n",
    "for epoch in np.arange(1, cfg.epochs + 1):\n",
    "    eval_run(run_dir=run_dir, period='test', epoch=epoch, gpu=0)\n",
    "# eval_run(run_dir=run_dir, period='test', epoch=cfg.epochs, gpu=0)"
   ]
  }
 ],
 "metadata": {
  "accelerator": "GPU",
  "colab": {
   "gpuType": "V100",
   "provenance": []
  },
  "kernelspec": {
   "display_name": "Python 3 (ipykernel)",
   "language": "python",
   "name": "python3"
  },
  "language_info": {
   "codemirror_mode": {
    "name": "ipython",
    "version": 3
   },
   "file_extension": ".py",
   "mimetype": "text/x-python",
   "name": "python",
   "nbconvert_exporter": "python",
   "pygments_lexer": "ipython3",
   "version": "3.10.8"
  }
 },
 "nbformat": 4,
 "nbformat_minor": 4
}
